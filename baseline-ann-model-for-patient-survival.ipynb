{
 "cells": [
  {
   "cell_type": "code",
   "execution_count": 1,
   "id": "060c54ee",
   "metadata": {
    "_cell_guid": "b1076dfc-b9ad-4769-8c92-a6c4dae69d19",
    "_uuid": "8f2839f25d086af736a60e9eeb907d3b93b6e0e5",
    "execution": {
     "iopub.execute_input": "2023-10-05T17:53:40.378396Z",
     "iopub.status.busy": "2023-10-05T17:53:40.377960Z",
     "iopub.status.idle": "2023-10-05T17:53:41.631390Z",
     "shell.execute_reply": "2023-10-05T17:53:41.630440Z"
    },
    "papermill": {
     "duration": 1.267573,
     "end_time": "2023-10-05T17:53:41.633674",
     "exception": false,
     "start_time": "2023-10-05T17:53:40.366101",
     "status": "completed"
    },
    "tags": []
   },
   "outputs": [
    {
     "name": "stdout",
     "output_type": "stream",
     "text": [
      "/kaggle/input/patient-survival-prediction/Data Dictionary.csv\n",
      "/kaggle/input/patient-survival-prediction/Dataset.csv\n"
     ]
    }
   ],
   "source": [
    "# This Python 3 environment comes with many helpful analytics libraries installed\n",
    "# It is defined by the kaggle/python Docker image: https://github.com/kaggle/docker-python\n",
    "# For example, here's several helpful packages to load\n",
    "\n",
    "import numpy as np # linear algebra\n",
    "import pandas as pd # data processing, CSV file I/O (e.g. pd.read_csv)\n",
    "\n",
    "# Input data files are available in the read-only \"../input/\" directory\n",
    "# For example, running this (by clicking run or pressing Shift+Enter) will list all files under the input directory\n",
    "\n",
    "import os\n",
    "for dirname, _, filenames in os.walk('/kaggle/input'):\n",
    "    for filename in filenames:\n",
    "        print(os.path.join(dirname, filename))\n",
    "\n",
    "# You can write up to 20GB to the current directory (/kaggle/working/) that gets preserved as output when you create a version using \"Save & Run All\" \n",
    "# You can also write temporary files to /kaggle/temp/, but they won't be saved outside of the current session"
   ]
  },
  {
   "cell_type": "markdown",
   "id": "7c230f7e",
   "metadata": {
    "papermill": {
     "duration": 0.008509,
     "end_time": "2023-10-05T17:53:41.651182",
     "exception": false,
     "start_time": "2023-10-05T17:53:41.642673",
     "status": "completed"
    },
    "tags": []
   },
   "source": [
    "## Basic Imports"
   ]
  },
  {
   "cell_type": "code",
   "execution_count": 2,
   "id": "959c0f82",
   "metadata": {
    "execution": {
     "iopub.execute_input": "2023-10-05T17:53:41.669791Z",
     "iopub.status.busy": "2023-10-05T17:53:41.669390Z",
     "iopub.status.idle": "2023-10-05T17:53:58.878871Z",
     "shell.execute_reply": "2023-10-05T17:53:58.877910Z"
    },
    "papermill": {
     "duration": 17.221353,
     "end_time": "2023-10-05T17:53:58.881171",
     "exception": false,
     "start_time": "2023-10-05T17:53:41.659818",
     "status": "completed"
    },
    "tags": []
   },
   "outputs": [
    {
     "name": "stderr",
     "output_type": "stream",
     "text": [
      "/opt/conda/lib/python3.10/site-packages/scipy/__init__.py:146: UserWarning: A NumPy version >=1.16.5 and <1.23.0 is required for this version of SciPy (detected version 1.23.5\n",
      "  warnings.warn(f\"A NumPy version >={np_minversion} and <{np_maxversion}\"\n"
     ]
    }
   ],
   "source": [
    "## Basic imports\n",
    "import pandas as pd\n",
    "import numpy as np\n",
    "import matplotlib.pyplot as plt\n",
    "%matplotlib inline\n",
    "import seaborn as sns\n",
    "\n",
    "## Impute missing values\n",
    "from sklearn.impute import SimpleImputer, KNNImputer\n",
    "\n",
    "## Preprocessing\n",
    "from sklearn.preprocessing import OrdinalEncoder, StandardScaler, RobustScaler\n",
    "\n",
    "## Pipeline\n",
    "from sklearn.pipeline import Pipeline\n",
    "from sklearn.compose import ColumnTransformer\n",
    "\n",
    "## Train Test split\n",
    "from sklearn.model_selection import train_test_split\n",
    "\n",
    "## Oversampling\n",
    "from imblearn.over_sampling import SMOTE\n",
    "from collections import Counter\n",
    "\n",
    "## Warnings\n",
    "import warnings\n",
    "warnings.filterwarnings(\"ignore\")\n",
    "\n",
    "## Tensorflow imports\n",
    "import tensorflow as tf\n",
    "from tensorflow import keras\n",
    "from tensorflow.keras import layers\n",
    "from tensorflow.keras.models import Sequential\n",
    "from tensorflow.keras.layers import Dense, Dropout, Activation"
   ]
  },
  {
   "cell_type": "code",
   "execution_count": 3,
   "id": "919558d8",
   "metadata": {
    "execution": {
     "iopub.execute_input": "2023-10-05T17:53:58.901225Z",
     "iopub.status.busy": "2023-10-05T17:53:58.899916Z",
     "iopub.status.idle": "2023-10-05T17:54:00.162532Z",
     "shell.execute_reply": "2023-10-05T17:54:00.161633Z"
    },
    "papermill": {
     "duration": 1.27421,
     "end_time": "2023-10-05T17:54:00.164414",
     "exception": false,
     "start_time": "2023-10-05T17:53:58.890204",
     "status": "completed"
    },
    "tags": []
   },
   "outputs": [
    {
     "data": {
      "text/plain": [
       "(91713, 11)"
      ]
     },
     "execution_count": 3,
     "metadata": {},
     "output_type": "execute_result"
    }
   ],
   "source": [
    "df = pd.read_csv(\"/kaggle/input/patient-survival-prediction/Dataset.csv\", usecols=['icu_type','immunosuppression','h1_resprate_max',\n",
    "                                                  'icu_admit_source', 'ventilated_apache', 'icu_id', 'd1_resprate_max',\n",
    "                                                  'resprate_apache', 'gcs_unable_apache', 'age','hospital_death'])\n",
    "\n",
    "df.shape"
   ]
  },
  {
   "cell_type": "code",
   "execution_count": 4,
   "id": "e1c6bb02",
   "metadata": {
    "execution": {
     "iopub.execute_input": "2023-10-05T17:54:00.183788Z",
     "iopub.status.busy": "2023-10-05T17:54:00.183492Z",
     "iopub.status.idle": "2023-10-05T17:54:00.210942Z",
     "shell.execute_reply": "2023-10-05T17:54:00.209927Z"
    },
    "papermill": {
     "duration": 0.039546,
     "end_time": "2023-10-05T17:54:00.212847",
     "exception": false,
     "start_time": "2023-10-05T17:54:00.173301",
     "status": "completed"
    },
    "tags": []
   },
   "outputs": [
    {
     "data": {
      "text/html": [
       "<div>\n",
       "<style scoped>\n",
       "    .dataframe tbody tr th:only-of-type {\n",
       "        vertical-align: middle;\n",
       "    }\n",
       "\n",
       "    .dataframe tbody tr th {\n",
       "        vertical-align: top;\n",
       "    }\n",
       "\n",
       "    .dataframe thead th {\n",
       "        text-align: right;\n",
       "    }\n",
       "</style>\n",
       "<table border=\"1\" class=\"dataframe\">\n",
       "  <thead>\n",
       "    <tr style=\"text-align: right;\">\n",
       "      <th></th>\n",
       "      <th>hospital_death</th>\n",
       "      <th>age</th>\n",
       "      <th>icu_admit_source</th>\n",
       "      <th>icu_id</th>\n",
       "      <th>icu_type</th>\n",
       "      <th>gcs_unable_apache</th>\n",
       "      <th>resprate_apache</th>\n",
       "      <th>ventilated_apache</th>\n",
       "      <th>d1_resprate_max</th>\n",
       "      <th>h1_resprate_max</th>\n",
       "      <th>immunosuppression</th>\n",
       "    </tr>\n",
       "  </thead>\n",
       "  <tbody>\n",
       "    <tr>\n",
       "      <th>0</th>\n",
       "      <td>0</td>\n",
       "      <td>68.0</td>\n",
       "      <td>Floor</td>\n",
       "      <td>92</td>\n",
       "      <td>CTICU</td>\n",
       "      <td>0.0</td>\n",
       "      <td>36.0</td>\n",
       "      <td>0.0</td>\n",
       "      <td>34.0</td>\n",
       "      <td>26.0</td>\n",
       "      <td>0.0</td>\n",
       "    </tr>\n",
       "    <tr>\n",
       "      <th>1</th>\n",
       "      <td>0</td>\n",
       "      <td>77.0</td>\n",
       "      <td>Floor</td>\n",
       "      <td>90</td>\n",
       "      <td>Med-Surg ICU</td>\n",
       "      <td>0.0</td>\n",
       "      <td>33.0</td>\n",
       "      <td>1.0</td>\n",
       "      <td>32.0</td>\n",
       "      <td>31.0</td>\n",
       "      <td>0.0</td>\n",
       "    </tr>\n",
       "    <tr>\n",
       "      <th>2</th>\n",
       "      <td>0</td>\n",
       "      <td>25.0</td>\n",
       "      <td>Accident &amp; Emergency</td>\n",
       "      <td>93</td>\n",
       "      <td>Med-Surg ICU</td>\n",
       "      <td>0.0</td>\n",
       "      <td>37.0</td>\n",
       "      <td>0.0</td>\n",
       "      <td>21.0</td>\n",
       "      <td>20.0</td>\n",
       "      <td>0.0</td>\n",
       "    </tr>\n",
       "    <tr>\n",
       "      <th>3</th>\n",
       "      <td>0</td>\n",
       "      <td>81.0</td>\n",
       "      <td>Operating Room / Recovery</td>\n",
       "      <td>92</td>\n",
       "      <td>CTICU</td>\n",
       "      <td>0.0</td>\n",
       "      <td>4.0</td>\n",
       "      <td>1.0</td>\n",
       "      <td>23.0</td>\n",
       "      <td>12.0</td>\n",
       "      <td>0.0</td>\n",
       "    </tr>\n",
       "    <tr>\n",
       "      <th>4</th>\n",
       "      <td>0</td>\n",
       "      <td>19.0</td>\n",
       "      <td>Accident &amp; Emergency</td>\n",
       "      <td>91</td>\n",
       "      <td>Med-Surg ICU</td>\n",
       "      <td>NaN</td>\n",
       "      <td>16.0</td>\n",
       "      <td>0.0</td>\n",
       "      <td>18.0</td>\n",
       "      <td>NaN</td>\n",
       "      <td>0.0</td>\n",
       "    </tr>\n",
       "  </tbody>\n",
       "</table>\n",
       "</div>"
      ],
      "text/plain": [
       "   hospital_death   age           icu_admit_source  icu_id      icu_type  \\\n",
       "0               0  68.0                      Floor      92         CTICU   \n",
       "1               0  77.0                      Floor      90  Med-Surg ICU   \n",
       "2               0  25.0       Accident & Emergency      93  Med-Surg ICU   \n",
       "3               0  81.0  Operating Room / Recovery      92         CTICU   \n",
       "4               0  19.0       Accident & Emergency      91  Med-Surg ICU   \n",
       "\n",
       "   gcs_unable_apache  resprate_apache  ventilated_apache  d1_resprate_max  \\\n",
       "0                0.0             36.0                0.0             34.0   \n",
       "1                0.0             33.0                1.0             32.0   \n",
       "2                0.0             37.0                0.0             21.0   \n",
       "3                0.0              4.0                1.0             23.0   \n",
       "4                NaN             16.0                0.0             18.0   \n",
       "\n",
       "   h1_resprate_max  immunosuppression  \n",
       "0             26.0                0.0  \n",
       "1             31.0                0.0  \n",
       "2             20.0                0.0  \n",
       "3             12.0                0.0  \n",
       "4              NaN                0.0  "
      ]
     },
     "execution_count": 4,
     "metadata": {},
     "output_type": "execute_result"
    }
   ],
   "source": [
    "df.head()"
   ]
  },
  {
   "cell_type": "markdown",
   "id": "f0dc9725",
   "metadata": {
    "papermill": {
     "duration": 0.008966,
     "end_time": "2023-10-05T17:54:00.231316",
     "exception": false,
     "start_time": "2023-10-05T17:54:00.222350",
     "status": "completed"
    },
    "tags": []
   },
   "source": [
    "## Write a function to check the data statistics"
   ]
  },
  {
   "cell_type": "code",
   "execution_count": 5,
   "id": "4eed33db",
   "metadata": {
    "execution": {
     "iopub.execute_input": "2023-10-05T17:54:00.250619Z",
     "iopub.status.busy": "2023-10-05T17:54:00.250301Z",
     "iopub.status.idle": "2023-10-05T17:54:00.256250Z",
     "shell.execute_reply": "2023-10-05T17:54:00.255277Z"
    },
    "papermill": {
     "duration": 0.017988,
     "end_time": "2023-10-05T17:54:00.258132",
     "exception": false,
     "start_time": "2023-10-05T17:54:00.240144",
     "status": "completed"
    },
    "tags": []
   },
   "outputs": [],
   "source": [
    "# Summary of Datasets\n",
    "def summary(df):\n",
    "    data=pd.DataFrame(index=df.columns)\n",
    "    data['dtypes']=df.dtypes\n",
    "    data['count']=df.count()\n",
    "    data['#unique']=df.nunique()\n",
    "    data['duplicate'] = df.duplicated().sum()\n",
    "    data['#missing']=df.isna().sum()\n",
    "    data['missing%']=df.isna().sum()/len(df)*100\n",
    "    data=pd.concat([data,df.describe().T.drop('count',axis=1)],axis=1)\n",
    "    return data"
   ]
  },
  {
   "cell_type": "code",
   "execution_count": 6,
   "id": "1b43145f",
   "metadata": {
    "execution": {
     "iopub.execute_input": "2023-10-05T17:54:00.276966Z",
     "iopub.status.busy": "2023-10-05T17:54:00.276717Z",
     "iopub.status.idle": "2023-10-05T17:54:00.542476Z",
     "shell.execute_reply": "2023-10-05T17:54:00.541604Z"
    },
    "papermill": {
     "duration": 0.277405,
     "end_time": "2023-10-05T17:54:00.544454",
     "exception": false,
     "start_time": "2023-10-05T17:54:00.267049",
     "status": "completed"
    },
    "tags": []
   },
   "outputs": [
    {
     "data": {
      "text/html": [
       "<style type=\"text/css\">\n",
       "#T_a258a_row0_col1, #T_a258a_row3_col1, #T_a258a_row3_col2, #T_a258a_row3_col6, #T_a258a_row3_col7, #T_a258a_row3_col8, #T_a258a_row3_col9, #T_a258a_row3_col10, #T_a258a_row3_col11, #T_a258a_row3_col12, #T_a258a_row4_col1, #T_a258a_row9_col4, #T_a258a_row9_col5 {\n",
       "  background-color: #081d58;\n",
       "  color: #f1f1f1;\n",
       "}\n",
       "#T_a258a_row0_col2, #T_a258a_row0_col3, #T_a258a_row0_col4, #T_a258a_row0_col5, #T_a258a_row0_col6, #T_a258a_row0_col7, #T_a258a_row0_col8, #T_a258a_row0_col9, #T_a258a_row0_col10, #T_a258a_row0_col11, #T_a258a_row0_col12, #T_a258a_row1_col3, #T_a258a_row2_col3, #T_a258a_row3_col3, #T_a258a_row3_col4, #T_a258a_row3_col5, #T_a258a_row4_col3, #T_a258a_row4_col4, #T_a258a_row4_col5, #T_a258a_row5_col2, #T_a258a_row5_col3, #T_a258a_row5_col6, #T_a258a_row5_col7, #T_a258a_row5_col8, #T_a258a_row5_col9, #T_a258a_row5_col10, #T_a258a_row5_col11, #T_a258a_row5_col12, #T_a258a_row6_col3, #T_a258a_row7_col2, #T_a258a_row7_col3, #T_a258a_row7_col6, #T_a258a_row7_col7, #T_a258a_row7_col8, #T_a258a_row7_col9, #T_a258a_row7_col10, #T_a258a_row7_col11, #T_a258a_row7_col12, #T_a258a_row8_col3, #T_a258a_row9_col1, #T_a258a_row9_col3, #T_a258a_row10_col2, #T_a258a_row10_col3, #T_a258a_row10_col6, #T_a258a_row10_col7, #T_a258a_row10_col8, #T_a258a_row10_col9, #T_a258a_row10_col10, #T_a258a_row10_col11, #T_a258a_row10_col12 {\n",
       "  background-color: #ffffd9;\n",
       "  color: #000000;\n",
       "}\n",
       "#T_a258a_row1_col1, #T_a258a_row6_col9 {\n",
       "  background-color: #fbfdd0;\n",
       "  color: #000000;\n",
       "}\n",
       "#T_a258a_row1_col2, #T_a258a_row6_col2 {\n",
       "  background-color: #a9ddb7;\n",
       "  color: #000000;\n",
       "}\n",
       "#T_a258a_row1_col4, #T_a258a_row1_col5 {\n",
       "  background-color: #0e2265;\n",
       "  color: #f1f1f1;\n",
       "}\n",
       "#T_a258a_row1_col6, #T_a258a_row9_col8 {\n",
       "  background-color: #edf8b2;\n",
       "  color: #000000;\n",
       "}\n",
       "#T_a258a_row1_col7 {\n",
       "  background-color: #f5fbc2;\n",
       "  color: #000000;\n",
       "}\n",
       "#T_a258a_row1_col8 {\n",
       "  background-color: #d9f0b3;\n",
       "  color: #000000;\n",
       "}\n",
       "#T_a258a_row1_col9 {\n",
       "  background-color: #e8f6b1;\n",
       "  color: #000000;\n",
       "}\n",
       "#T_a258a_row1_col10 {\n",
       "  background-color: #ecf7b1;\n",
       "  color: #000000;\n",
       "}\n",
       "#T_a258a_row1_col11 {\n",
       "  background-color: #eff9b6;\n",
       "  color: #000000;\n",
       "}\n",
       "#T_a258a_row1_col12 {\n",
       "  background-color: #f1fabb;\n",
       "  color: #000000;\n",
       "}\n",
       "#T_a258a_row2_col1 {\n",
       "  background-color: #0d2163;\n",
       "  color: #f1f1f1;\n",
       "}\n",
       "#T_a258a_row2_col2 {\n",
       "  background-color: #fdfed5;\n",
       "  color: #000000;\n",
       "}\n",
       "#T_a258a_row2_col4, #T_a258a_row2_col5, #T_a258a_row4_col2 {\n",
       "  background-color: #fcfed1;\n",
       "  color: #000000;\n",
       "}\n",
       "#T_a258a_row2_col6, #T_a258a_row2_col7, #T_a258a_row2_col8, #T_a258a_row2_col9, #T_a258a_row2_col10, #T_a258a_row2_col11, #T_a258a_row2_col12, #T_a258a_row4_col6, #T_a258a_row4_col7, #T_a258a_row4_col8, #T_a258a_row4_col9, #T_a258a_row4_col10, #T_a258a_row4_col11, #T_a258a_row4_col12 {\n",
       "  background-color: #000000;\n",
       "  color: #f1f1f1;\n",
       "}\n",
       "#T_a258a_row5_col1 {\n",
       "  background-color: #2259a6;\n",
       "  color: #f1f1f1;\n",
       "}\n",
       "#T_a258a_row5_col4, #T_a258a_row5_col5 {\n",
       "  background-color: #cbebb4;\n",
       "  color: #000000;\n",
       "}\n",
       "#T_a258a_row6_col1 {\n",
       "  background-color: #216bae;\n",
       "  color: #f1f1f1;\n",
       "}\n",
       "#T_a258a_row6_col4, #T_a258a_row6_col5 {\n",
       "  background-color: #b4e2b6;\n",
       "  color: #000000;\n",
       "}\n",
       "#T_a258a_row6_col6, #T_a258a_row6_col8, #T_a258a_row8_col11, #T_a258a_row9_col9 {\n",
       "  background-color: #f8fcca;\n",
       "  color: #000000;\n",
       "}\n",
       "#T_a258a_row6_col7, #T_a258a_row6_col12, #T_a258a_row9_col12 {\n",
       "  background-color: #f6fbc5;\n",
       "  color: #000000;\n",
       "}\n",
       "#T_a258a_row6_col10, #T_a258a_row8_col6 {\n",
       "  background-color: #f7fcc7;\n",
       "  color: #000000;\n",
       "}\n",
       "#T_a258a_row6_col11, #T_a258a_row8_col10 {\n",
       "  background-color: #f8fcc9;\n",
       "  color: #000000;\n",
       "}\n",
       "#T_a258a_row7_col1, #T_a258a_row10_col1 {\n",
       "  background-color: #24419a;\n",
       "  color: #f1f1f1;\n",
       "}\n",
       "#T_a258a_row7_col4, #T_a258a_row7_col5, #T_a258a_row10_col4, #T_a258a_row10_col5 {\n",
       "  background-color: #e1f3b2;\n",
       "  color: #000000;\n",
       "}\n",
       "#T_a258a_row8_col1 {\n",
       "  background-color: #1c2d81;\n",
       "  color: #f1f1f1;\n",
       "}\n",
       "#T_a258a_row8_col2 {\n",
       "  background-color: #9ed9b8;\n",
       "  color: #000000;\n",
       "}\n",
       "#T_a258a_row8_col4, #T_a258a_row8_col5 {\n",
       "  background-color: #f3fabd;\n",
       "  color: #000000;\n",
       "}\n",
       "#T_a258a_row8_col7, #T_a258a_row9_col6 {\n",
       "  background-color: #f9fdcb;\n",
       "  color: #000000;\n",
       "}\n",
       "#T_a258a_row8_col8 {\n",
       "  background-color: #e0f3b2;\n",
       "  color: #000000;\n",
       "}\n",
       "#T_a258a_row8_col9 {\n",
       "  background-color: #f7fcc6;\n",
       "  color: #000000;\n",
       "}\n",
       "#T_a258a_row8_col12 {\n",
       "  background-color: #f1faba;\n",
       "  color: #000000;\n",
       "}\n",
       "#T_a258a_row9_col2 {\n",
       "  background-color: #d6efb3;\n",
       "  color: #000000;\n",
       "}\n",
       "#T_a258a_row9_col7 {\n",
       "  background-color: #fafdcf;\n",
       "  color: #000000;\n",
       "}\n",
       "#T_a258a_row9_col10 {\n",
       "  background-color: #f9fdcc;\n",
       "  color: #000000;\n",
       "}\n",
       "#T_a258a_row9_col11 {\n",
       "  background-color: #fafdce;\n",
       "  color: #000000;\n",
       "}\n",
       "</style>\n",
       "<table id=\"T_a258a\">\n",
       "  <thead>\n",
       "    <tr>\n",
       "      <th class=\"blank level0\" >&nbsp;</th>\n",
       "      <th id=\"T_a258a_level0_col0\" class=\"col_heading level0 col0\" >dtypes</th>\n",
       "      <th id=\"T_a258a_level0_col1\" class=\"col_heading level0 col1\" >count</th>\n",
       "      <th id=\"T_a258a_level0_col2\" class=\"col_heading level0 col2\" >#unique</th>\n",
       "      <th id=\"T_a258a_level0_col3\" class=\"col_heading level0 col3\" >duplicate</th>\n",
       "      <th id=\"T_a258a_level0_col4\" class=\"col_heading level0 col4\" >#missing</th>\n",
       "      <th id=\"T_a258a_level0_col5\" class=\"col_heading level0 col5\" >missing%</th>\n",
       "      <th id=\"T_a258a_level0_col6\" class=\"col_heading level0 col6\" >mean</th>\n",
       "      <th id=\"T_a258a_level0_col7\" class=\"col_heading level0 col7\" >std</th>\n",
       "      <th id=\"T_a258a_level0_col8\" class=\"col_heading level0 col8\" >min</th>\n",
       "      <th id=\"T_a258a_level0_col9\" class=\"col_heading level0 col9\" >25%</th>\n",
       "      <th id=\"T_a258a_level0_col10\" class=\"col_heading level0 col10\" >50%</th>\n",
       "      <th id=\"T_a258a_level0_col11\" class=\"col_heading level0 col11\" >75%</th>\n",
       "      <th id=\"T_a258a_level0_col12\" class=\"col_heading level0 col12\" >max</th>\n",
       "    </tr>\n",
       "  </thead>\n",
       "  <tbody>\n",
       "    <tr>\n",
       "      <th id=\"T_a258a_level0_row0\" class=\"row_heading level0 row0\" >hospital_death</th>\n",
       "      <td id=\"T_a258a_row0_col0\" class=\"data row0 col0\" >int64</td>\n",
       "      <td id=\"T_a258a_row0_col1\" class=\"data row0 col1\" >91713</td>\n",
       "      <td id=\"T_a258a_row0_col2\" class=\"data row0 col2\" >2</td>\n",
       "      <td id=\"T_a258a_row0_col3\" class=\"data row0 col3\" >172</td>\n",
       "      <td id=\"T_a258a_row0_col4\" class=\"data row0 col4\" >0</td>\n",
       "      <td id=\"T_a258a_row0_col5\" class=\"data row0 col5\" >0.000000</td>\n",
       "      <td id=\"T_a258a_row0_col6\" class=\"data row0 col6\" >0.086302</td>\n",
       "      <td id=\"T_a258a_row0_col7\" class=\"data row0 col7\" >0.280811</td>\n",
       "      <td id=\"T_a258a_row0_col8\" class=\"data row0 col8\" >0.000000</td>\n",
       "      <td id=\"T_a258a_row0_col9\" class=\"data row0 col9\" >0.000000</td>\n",
       "      <td id=\"T_a258a_row0_col10\" class=\"data row0 col10\" >0.000000</td>\n",
       "      <td id=\"T_a258a_row0_col11\" class=\"data row0 col11\" >0.000000</td>\n",
       "      <td id=\"T_a258a_row0_col12\" class=\"data row0 col12\" >1.000000</td>\n",
       "    </tr>\n",
       "    <tr>\n",
       "      <th id=\"T_a258a_level0_row1\" class=\"row_heading level0 row1\" >age</th>\n",
       "      <td id=\"T_a258a_row1_col0\" class=\"data row1 col0\" >float64</td>\n",
       "      <td id=\"T_a258a_row1_col1\" class=\"data row1 col1\" >87485</td>\n",
       "      <td id=\"T_a258a_row1_col2\" class=\"data row1 col2\" >74</td>\n",
       "      <td id=\"T_a258a_row1_col3\" class=\"data row1 col3\" >172</td>\n",
       "      <td id=\"T_a258a_row1_col4\" class=\"data row1 col4\" >4228</td>\n",
       "      <td id=\"T_a258a_row1_col5\" class=\"data row1 col5\" >4.610033</td>\n",
       "      <td id=\"T_a258a_row1_col6\" class=\"data row1 col6\" >62.309516</td>\n",
       "      <td id=\"T_a258a_row1_col7\" class=\"data row1 col7\" >16.775119</td>\n",
       "      <td id=\"T_a258a_row1_col8\" class=\"data row1 col8\" >16.000000</td>\n",
       "      <td id=\"T_a258a_row1_col9\" class=\"data row1 col9\" >52.000000</td>\n",
       "      <td id=\"T_a258a_row1_col10\" class=\"data row1 col10\" >65.000000</td>\n",
       "      <td id=\"T_a258a_row1_col11\" class=\"data row1 col11\" >75.000000</td>\n",
       "      <td id=\"T_a258a_row1_col12\" class=\"data row1 col12\" >89.000000</td>\n",
       "    </tr>\n",
       "    <tr>\n",
       "      <th id=\"T_a258a_level0_row2\" class=\"row_heading level0 row2\" >icu_admit_source</th>\n",
       "      <td id=\"T_a258a_row2_col0\" class=\"data row2 col0\" >object</td>\n",
       "      <td id=\"T_a258a_row2_col1\" class=\"data row2 col1\" >91601</td>\n",
       "      <td id=\"T_a258a_row2_col2\" class=\"data row2 col2\" >5</td>\n",
       "      <td id=\"T_a258a_row2_col3\" class=\"data row2 col3\" >172</td>\n",
       "      <td id=\"T_a258a_row2_col4\" class=\"data row2 col4\" >112</td>\n",
       "      <td id=\"T_a258a_row2_col5\" class=\"data row2 col5\" >0.122120</td>\n",
       "      <td id=\"T_a258a_row2_col6\" class=\"data row2 col6\" >nan</td>\n",
       "      <td id=\"T_a258a_row2_col7\" class=\"data row2 col7\" >nan</td>\n",
       "      <td id=\"T_a258a_row2_col8\" class=\"data row2 col8\" >nan</td>\n",
       "      <td id=\"T_a258a_row2_col9\" class=\"data row2 col9\" >nan</td>\n",
       "      <td id=\"T_a258a_row2_col10\" class=\"data row2 col10\" >nan</td>\n",
       "      <td id=\"T_a258a_row2_col11\" class=\"data row2 col11\" >nan</td>\n",
       "      <td id=\"T_a258a_row2_col12\" class=\"data row2 col12\" >nan</td>\n",
       "    </tr>\n",
       "    <tr>\n",
       "      <th id=\"T_a258a_level0_row3\" class=\"row_heading level0 row3\" >icu_id</th>\n",
       "      <td id=\"T_a258a_row3_col0\" class=\"data row3 col0\" >int64</td>\n",
       "      <td id=\"T_a258a_row3_col1\" class=\"data row3 col1\" >91713</td>\n",
       "      <td id=\"T_a258a_row3_col2\" class=\"data row3 col2\" >241</td>\n",
       "      <td id=\"T_a258a_row3_col3\" class=\"data row3 col3\" >172</td>\n",
       "      <td id=\"T_a258a_row3_col4\" class=\"data row3 col4\" >0</td>\n",
       "      <td id=\"T_a258a_row3_col5\" class=\"data row3 col5\" >0.000000</td>\n",
       "      <td id=\"T_a258a_row3_col6\" class=\"data row3 col6\" >508.357692</td>\n",
       "      <td id=\"T_a258a_row3_col7\" class=\"data row3 col7\" >228.989661</td>\n",
       "      <td id=\"T_a258a_row3_col8\" class=\"data row3 col8\" >82.000000</td>\n",
       "      <td id=\"T_a258a_row3_col9\" class=\"data row3 col9\" >369.000000</td>\n",
       "      <td id=\"T_a258a_row3_col10\" class=\"data row3 col10\" >504.000000</td>\n",
       "      <td id=\"T_a258a_row3_col11\" class=\"data row3 col11\" >679.000000</td>\n",
       "      <td id=\"T_a258a_row3_col12\" class=\"data row3 col12\" >927.000000</td>\n",
       "    </tr>\n",
       "    <tr>\n",
       "      <th id=\"T_a258a_level0_row4\" class=\"row_heading level0 row4\" >icu_type</th>\n",
       "      <td id=\"T_a258a_row4_col0\" class=\"data row4 col0\" >object</td>\n",
       "      <td id=\"T_a258a_row4_col1\" class=\"data row4 col1\" >91713</td>\n",
       "      <td id=\"T_a258a_row4_col2\" class=\"data row4 col2\" >8</td>\n",
       "      <td id=\"T_a258a_row4_col3\" class=\"data row4 col3\" >172</td>\n",
       "      <td id=\"T_a258a_row4_col4\" class=\"data row4 col4\" >0</td>\n",
       "      <td id=\"T_a258a_row4_col5\" class=\"data row4 col5\" >0.000000</td>\n",
       "      <td id=\"T_a258a_row4_col6\" class=\"data row4 col6\" >nan</td>\n",
       "      <td id=\"T_a258a_row4_col7\" class=\"data row4 col7\" >nan</td>\n",
       "      <td id=\"T_a258a_row4_col8\" class=\"data row4 col8\" >nan</td>\n",
       "      <td id=\"T_a258a_row4_col9\" class=\"data row4 col9\" >nan</td>\n",
       "      <td id=\"T_a258a_row4_col10\" class=\"data row4 col10\" >nan</td>\n",
       "      <td id=\"T_a258a_row4_col11\" class=\"data row4 col11\" >nan</td>\n",
       "      <td id=\"T_a258a_row4_col12\" class=\"data row4 col12\" >nan</td>\n",
       "    </tr>\n",
       "    <tr>\n",
       "      <th id=\"T_a258a_level0_row5\" class=\"row_heading level0 row5\" >gcs_unable_apache</th>\n",
       "      <td id=\"T_a258a_row5_col0\" class=\"data row5 col0\" >float64</td>\n",
       "      <td id=\"T_a258a_row5_col1\" class=\"data row5 col1\" >90676</td>\n",
       "      <td id=\"T_a258a_row5_col2\" class=\"data row5 col2\" >2</td>\n",
       "      <td id=\"T_a258a_row5_col3\" class=\"data row5 col3\" >172</td>\n",
       "      <td id=\"T_a258a_row5_col4\" class=\"data row5 col4\" >1037</td>\n",
       "      <td id=\"T_a258a_row5_col5\" class=\"data row5 col5\" >1.130701</td>\n",
       "      <td id=\"T_a258a_row5_col6\" class=\"data row5 col6\" >0.009528</td>\n",
       "      <td id=\"T_a258a_row5_col7\" class=\"data row5 col7\" >0.097148</td>\n",
       "      <td id=\"T_a258a_row5_col8\" class=\"data row5 col8\" >0.000000</td>\n",
       "      <td id=\"T_a258a_row5_col9\" class=\"data row5 col9\" >0.000000</td>\n",
       "      <td id=\"T_a258a_row5_col10\" class=\"data row5 col10\" >0.000000</td>\n",
       "      <td id=\"T_a258a_row5_col11\" class=\"data row5 col11\" >0.000000</td>\n",
       "      <td id=\"T_a258a_row5_col12\" class=\"data row5 col12\" >1.000000</td>\n",
       "    </tr>\n",
       "    <tr>\n",
       "      <th id=\"T_a258a_level0_row6\" class=\"row_heading level0 row6\" >resprate_apache</th>\n",
       "      <td id=\"T_a258a_row6_col0\" class=\"data row6 col0\" >float64</td>\n",
       "      <td id=\"T_a258a_row6_col1\" class=\"data row6 col1\" >90479</td>\n",
       "      <td id=\"T_a258a_row6_col2\" class=\"data row6 col2\" >74</td>\n",
       "      <td id=\"T_a258a_row6_col3\" class=\"data row6 col3\" >172</td>\n",
       "      <td id=\"T_a258a_row6_col4\" class=\"data row6 col4\" >1234</td>\n",
       "      <td id=\"T_a258a_row6_col5\" class=\"data row6 col5\" >1.345502</td>\n",
       "      <td id=\"T_a258a_row6_col6\" class=\"data row6 col6\" >25.811007</td>\n",
       "      <td id=\"T_a258a_row6_col7\" class=\"data row6 col7\" >15.106312</td>\n",
       "      <td id=\"T_a258a_row6_col8\" class=\"data row6 col8\" >4.000000</td>\n",
       "      <td id=\"T_a258a_row6_col9\" class=\"data row6 col9\" >11.000000</td>\n",
       "      <td id=\"T_a258a_row6_col10\" class=\"data row6 col10\" >28.000000</td>\n",
       "      <td id=\"T_a258a_row6_col11\" class=\"data row6 col11\" >36.000000</td>\n",
       "      <td id=\"T_a258a_row6_col12\" class=\"data row6 col12\" >60.000000</td>\n",
       "    </tr>\n",
       "    <tr>\n",
       "      <th id=\"T_a258a_level0_row7\" class=\"row_heading level0 row7\" >ventilated_apache</th>\n",
       "      <td id=\"T_a258a_row7_col0\" class=\"data row7 col0\" >float64</td>\n",
       "      <td id=\"T_a258a_row7_col1\" class=\"data row7 col1\" >90998</td>\n",
       "      <td id=\"T_a258a_row7_col2\" class=\"data row7 col2\" >2</td>\n",
       "      <td id=\"T_a258a_row7_col3\" class=\"data row7 col3\" >172</td>\n",
       "      <td id=\"T_a258a_row7_col4\" class=\"data row7 col4\" >715</td>\n",
       "      <td id=\"T_a258a_row7_col5\" class=\"data row7 col5\" >0.779606</td>\n",
       "      <td id=\"T_a258a_row7_col6\" class=\"data row7 col6\" >0.325721</td>\n",
       "      <td id=\"T_a258a_row7_col7\" class=\"data row7 col7\" >0.468646</td>\n",
       "      <td id=\"T_a258a_row7_col8\" class=\"data row7 col8\" >0.000000</td>\n",
       "      <td id=\"T_a258a_row7_col9\" class=\"data row7 col9\" >0.000000</td>\n",
       "      <td id=\"T_a258a_row7_col10\" class=\"data row7 col10\" >0.000000</td>\n",
       "      <td id=\"T_a258a_row7_col11\" class=\"data row7 col11\" >1.000000</td>\n",
       "      <td id=\"T_a258a_row7_col12\" class=\"data row7 col12\" >1.000000</td>\n",
       "    </tr>\n",
       "    <tr>\n",
       "      <th id=\"T_a258a_level0_row8\" class=\"row_heading level0 row8\" >d1_resprate_max</th>\n",
       "      <td id=\"T_a258a_row8_col0\" class=\"data row8 col0\" >float64</td>\n",
       "      <td id=\"T_a258a_row8_col1\" class=\"data row8 col1\" >91328</td>\n",
       "      <td id=\"T_a258a_row8_col2\" class=\"data row8 col2\" >79</td>\n",
       "      <td id=\"T_a258a_row8_col3\" class=\"data row8 col3\" >172</td>\n",
       "      <td id=\"T_a258a_row8_col4\" class=\"data row8 col4\" >385</td>\n",
       "      <td id=\"T_a258a_row8_col5\" class=\"data row8 col5\" >0.419788</td>\n",
       "      <td id=\"T_a258a_row8_col6\" class=\"data row8 col6\" >28.882774</td>\n",
       "      <td id=\"T_a258a_row8_col7\" class=\"data row8 col7\" >10.701973</td>\n",
       "      <td id=\"T_a258a_row8_col8\" class=\"data row8 col8\" >14.000000</td>\n",
       "      <td id=\"T_a258a_row8_col9\" class=\"data row8 col9\" >22.000000</td>\n",
       "      <td id=\"T_a258a_row8_col10\" class=\"data row8 col10\" >26.000000</td>\n",
       "      <td id=\"T_a258a_row8_col11\" class=\"data row8 col11\" >32.000000</td>\n",
       "      <td id=\"T_a258a_row8_col12\" class=\"data row8 col12\" >92.000000</td>\n",
       "    </tr>\n",
       "    <tr>\n",
       "      <th id=\"T_a258a_level0_row9\" class=\"row_heading level0 row9\" >h1_resprate_max</th>\n",
       "      <td id=\"T_a258a_row9_col0\" class=\"data row9 col0\" >float64</td>\n",
       "      <td id=\"T_a258a_row9_col1\" class=\"data row9 col1\" >87356</td>\n",
       "      <td id=\"T_a258a_row9_col2\" class=\"data row9 col2\" >50</td>\n",
       "      <td id=\"T_a258a_row9_col3\" class=\"data row9 col3\" >172</td>\n",
       "      <td id=\"T_a258a_row9_col4\" class=\"data row9 col4\" >4357</td>\n",
       "      <td id=\"T_a258a_row9_col5\" class=\"data row9 col5\" >4.750690</td>\n",
       "      <td id=\"T_a258a_row9_col6\" class=\"data row9 col6\" >22.633614</td>\n",
       "      <td id=\"T_a258a_row9_col7\" class=\"data row9 col7\" >7.515043</td>\n",
       "      <td id=\"T_a258a_row9_col8\" class=\"data row9 col8\" >10.000000</td>\n",
       "      <td id=\"T_a258a_row9_col9\" class=\"data row9 col9\" >18.000000</td>\n",
       "      <td id=\"T_a258a_row9_col10\" class=\"data row9 col10\" >21.000000</td>\n",
       "      <td id=\"T_a258a_row9_col11\" class=\"data row9 col11\" >26.000000</td>\n",
       "      <td id=\"T_a258a_row9_col12\" class=\"data row9 col12\" >59.000000</td>\n",
       "    </tr>\n",
       "    <tr>\n",
       "      <th id=\"T_a258a_level0_row10\" class=\"row_heading level0 row10\" >immunosuppression</th>\n",
       "      <td id=\"T_a258a_row10_col0\" class=\"data row10 col0\" >float64</td>\n",
       "      <td id=\"T_a258a_row10_col1\" class=\"data row10 col1\" >90998</td>\n",
       "      <td id=\"T_a258a_row10_col2\" class=\"data row10 col2\" >2</td>\n",
       "      <td id=\"T_a258a_row10_col3\" class=\"data row10 col3\" >172</td>\n",
       "      <td id=\"T_a258a_row10_col4\" class=\"data row10 col4\" >715</td>\n",
       "      <td id=\"T_a258a_row10_col5\" class=\"data row10 col5\" >0.779606</td>\n",
       "      <td id=\"T_a258a_row10_col6\" class=\"data row10 col6\" >0.026165</td>\n",
       "      <td id=\"T_a258a_row10_col7\" class=\"data row10 col7\" >0.159628</td>\n",
       "      <td id=\"T_a258a_row10_col8\" class=\"data row10 col8\" >0.000000</td>\n",
       "      <td id=\"T_a258a_row10_col9\" class=\"data row10 col9\" >0.000000</td>\n",
       "      <td id=\"T_a258a_row10_col10\" class=\"data row10 col10\" >0.000000</td>\n",
       "      <td id=\"T_a258a_row10_col11\" class=\"data row10 col11\" >0.000000</td>\n",
       "      <td id=\"T_a258a_row10_col12\" class=\"data row10 col12\" >1.000000</td>\n",
       "    </tr>\n",
       "  </tbody>\n",
       "</table>\n"
      ],
      "text/plain": [
       "<pandas.io.formats.style.Styler at 0x7d86b757bbb0>"
      ]
     },
     "execution_count": 6,
     "metadata": {},
     "output_type": "execute_result"
    }
   ],
   "source": [
    "summary(df).style.background_gradient(cmap='YlGnBu')"
   ]
  },
  {
   "cell_type": "code",
   "execution_count": 7,
   "id": "22deeac1",
   "metadata": {
    "execution": {
     "iopub.execute_input": "2023-10-05T17:54:00.565853Z",
     "iopub.status.busy": "2023-10-05T17:54:00.565309Z",
     "iopub.status.idle": "2023-10-05T17:54:00.598165Z",
     "shell.execute_reply": "2023-10-05T17:54:00.596881Z"
    },
    "papermill": {
     "duration": 0.045874,
     "end_time": "2023-10-05T17:54:00.600269",
     "exception": false,
     "start_time": "2023-10-05T17:54:00.554395",
     "status": "completed"
    },
    "tags": []
   },
   "outputs": [
    {
     "name": "stdout",
     "output_type": "stream",
     "text": [
      "Number of duplicates:  172\n"
     ]
    }
   ],
   "source": [
    "print(\"Number of duplicates: \", df.duplicated().sum())"
   ]
  },
  {
   "cell_type": "code",
   "execution_count": 8,
   "id": "197fcd38",
   "metadata": {
    "execution": {
     "iopub.execute_input": "2023-10-05T17:54:00.620527Z",
     "iopub.status.busy": "2023-10-05T17:54:00.620254Z",
     "iopub.status.idle": "2023-10-05T17:54:00.652513Z",
     "shell.execute_reply": "2023-10-05T17:54:00.651684Z"
    },
    "papermill": {
     "duration": 0.044527,
     "end_time": "2023-10-05T17:54:00.654645",
     "exception": false,
     "start_time": "2023-10-05T17:54:00.610118",
     "status": "completed"
    },
    "tags": []
   },
   "outputs": [],
   "source": [
    "# Remove duplicate rows\n",
    "df = df.drop_duplicates()"
   ]
  },
  {
   "cell_type": "code",
   "execution_count": 9,
   "id": "363a6ce6",
   "metadata": {
    "execution": {
     "iopub.execute_input": "2023-10-05T17:54:00.675468Z",
     "iopub.status.busy": "2023-10-05T17:54:00.674657Z",
     "iopub.status.idle": "2023-10-05T17:54:00.834292Z",
     "shell.execute_reply": "2023-10-05T17:54:00.833397Z"
    },
    "papermill": {
     "duration": 0.172269,
     "end_time": "2023-10-05T17:54:00.836206",
     "exception": false,
     "start_time": "2023-10-05T17:54:00.663937",
     "status": "completed"
    },
    "tags": []
   },
   "outputs": [
    {
     "data": {
      "text/html": [
       "<style type=\"text/css\">\n",
       "#T_583d3_row0_col1, #T_583d3_row3_col1, #T_583d3_row3_col2, #T_583d3_row3_col6, #T_583d3_row3_col7, #T_583d3_row3_col8, #T_583d3_row3_col9, #T_583d3_row3_col10, #T_583d3_row3_col11, #T_583d3_row3_col12, #T_583d3_row4_col1, #T_583d3_row9_col4, #T_583d3_row9_col5 {\n",
       "  background-color: #081d58;\n",
       "  color: #f1f1f1;\n",
       "}\n",
       "#T_583d3_row0_col2, #T_583d3_row0_col3, #T_583d3_row0_col4, #T_583d3_row0_col5, #T_583d3_row0_col6, #T_583d3_row0_col7, #T_583d3_row0_col8, #T_583d3_row0_col9, #T_583d3_row0_col10, #T_583d3_row0_col11, #T_583d3_row0_col12, #T_583d3_row1_col3, #T_583d3_row2_col3, #T_583d3_row3_col3, #T_583d3_row3_col4, #T_583d3_row3_col5, #T_583d3_row4_col3, #T_583d3_row4_col4, #T_583d3_row4_col5, #T_583d3_row5_col2, #T_583d3_row5_col3, #T_583d3_row5_col6, #T_583d3_row5_col7, #T_583d3_row5_col8, #T_583d3_row5_col9, #T_583d3_row5_col10, #T_583d3_row5_col11, #T_583d3_row5_col12, #T_583d3_row6_col3, #T_583d3_row7_col2, #T_583d3_row7_col3, #T_583d3_row7_col6, #T_583d3_row7_col7, #T_583d3_row7_col8, #T_583d3_row7_col9, #T_583d3_row7_col10, #T_583d3_row7_col11, #T_583d3_row7_col12, #T_583d3_row8_col3, #T_583d3_row9_col1, #T_583d3_row9_col3, #T_583d3_row10_col2, #T_583d3_row10_col3, #T_583d3_row10_col6, #T_583d3_row10_col7, #T_583d3_row10_col8, #T_583d3_row10_col9, #T_583d3_row10_col10, #T_583d3_row10_col11, #T_583d3_row10_col12 {\n",
       "  background-color: #ffffd9;\n",
       "  color: #000000;\n",
       "}\n",
       "#T_583d3_row1_col1, #T_583d3_row6_col9 {\n",
       "  background-color: #fbfdd0;\n",
       "  color: #000000;\n",
       "}\n",
       "#T_583d3_row1_col2, #T_583d3_row6_col2 {\n",
       "  background-color: #a9ddb7;\n",
       "  color: #000000;\n",
       "}\n",
       "#T_583d3_row1_col4, #T_583d3_row1_col5 {\n",
       "  background-color: #0e2265;\n",
       "  color: #f1f1f1;\n",
       "}\n",
       "#T_583d3_row1_col6, #T_583d3_row9_col8 {\n",
       "  background-color: #edf8b2;\n",
       "  color: #000000;\n",
       "}\n",
       "#T_583d3_row1_col7 {\n",
       "  background-color: #f5fbc2;\n",
       "  color: #000000;\n",
       "}\n",
       "#T_583d3_row1_col8 {\n",
       "  background-color: #d9f0b3;\n",
       "  color: #000000;\n",
       "}\n",
       "#T_583d3_row1_col9 {\n",
       "  background-color: #e8f6b1;\n",
       "  color: #000000;\n",
       "}\n",
       "#T_583d3_row1_col10 {\n",
       "  background-color: #ecf7b1;\n",
       "  color: #000000;\n",
       "}\n",
       "#T_583d3_row1_col11 {\n",
       "  background-color: #eff9b6;\n",
       "  color: #000000;\n",
       "}\n",
       "#T_583d3_row1_col12 {\n",
       "  background-color: #f1fabb;\n",
       "  color: #000000;\n",
       "}\n",
       "#T_583d3_row2_col1 {\n",
       "  background-color: #0d2163;\n",
       "  color: #f1f1f1;\n",
       "}\n",
       "#T_583d3_row2_col2 {\n",
       "  background-color: #fdfed5;\n",
       "  color: #000000;\n",
       "}\n",
       "#T_583d3_row2_col4, #T_583d3_row2_col5, #T_583d3_row4_col2 {\n",
       "  background-color: #fcfed1;\n",
       "  color: #000000;\n",
       "}\n",
       "#T_583d3_row2_col6, #T_583d3_row2_col7, #T_583d3_row2_col8, #T_583d3_row2_col9, #T_583d3_row2_col10, #T_583d3_row2_col11, #T_583d3_row2_col12, #T_583d3_row4_col6, #T_583d3_row4_col7, #T_583d3_row4_col8, #T_583d3_row4_col9, #T_583d3_row4_col10, #T_583d3_row4_col11, #T_583d3_row4_col12 {\n",
       "  background-color: #000000;\n",
       "  color: #f1f1f1;\n",
       "}\n",
       "#T_583d3_row5_col1 {\n",
       "  background-color: #2259a6;\n",
       "  color: #f1f1f1;\n",
       "}\n",
       "#T_583d3_row5_col4, #T_583d3_row5_col5 {\n",
       "  background-color: #cbebb4;\n",
       "  color: #000000;\n",
       "}\n",
       "#T_583d3_row6_col1 {\n",
       "  background-color: #216aad;\n",
       "  color: #f1f1f1;\n",
       "}\n",
       "#T_583d3_row6_col4, #T_583d3_row6_col5 {\n",
       "  background-color: #b7e3b6;\n",
       "  color: #000000;\n",
       "}\n",
       "#T_583d3_row6_col6, #T_583d3_row6_col8, #T_583d3_row9_col9 {\n",
       "  background-color: #f8fcca;\n",
       "  color: #000000;\n",
       "}\n",
       "#T_583d3_row6_col7, #T_583d3_row6_col12, #T_583d3_row9_col12 {\n",
       "  background-color: #f6fbc5;\n",
       "  color: #000000;\n",
       "}\n",
       "#T_583d3_row6_col10, #T_583d3_row8_col6 {\n",
       "  background-color: #f7fcc7;\n",
       "  color: #000000;\n",
       "}\n",
       "#T_583d3_row6_col11, #T_583d3_row8_col10 {\n",
       "  background-color: #f8fcc9;\n",
       "  color: #000000;\n",
       "}\n",
       "#T_583d3_row7_col1, #T_583d3_row10_col1 {\n",
       "  background-color: #24409a;\n",
       "  color: #f1f1f1;\n",
       "}\n",
       "#T_583d3_row7_col4, #T_583d3_row7_col5, #T_583d3_row10_col4, #T_583d3_row10_col5 {\n",
       "  background-color: #e2f4b2;\n",
       "  color: #000000;\n",
       "}\n",
       "#T_583d3_row8_col1 {\n",
       "  background-color: #1b2c80;\n",
       "  color: #f1f1f1;\n",
       "}\n",
       "#T_583d3_row8_col2 {\n",
       "  background-color: #9ed9b8;\n",
       "  color: #000000;\n",
       "}\n",
       "#T_583d3_row8_col4, #T_583d3_row8_col5 {\n",
       "  background-color: #f3fabf;\n",
       "  color: #000000;\n",
       "}\n",
       "#T_583d3_row8_col7, #T_583d3_row8_col11, #T_583d3_row9_col6 {\n",
       "  background-color: #f9fdcb;\n",
       "  color: #000000;\n",
       "}\n",
       "#T_583d3_row8_col8 {\n",
       "  background-color: #e0f3b2;\n",
       "  color: #000000;\n",
       "}\n",
       "#T_583d3_row8_col9 {\n",
       "  background-color: #f7fcc6;\n",
       "  color: #000000;\n",
       "}\n",
       "#T_583d3_row8_col12 {\n",
       "  background-color: #f1faba;\n",
       "  color: #000000;\n",
       "}\n",
       "#T_583d3_row9_col2 {\n",
       "  background-color: #d6efb3;\n",
       "  color: #000000;\n",
       "}\n",
       "#T_583d3_row9_col7 {\n",
       "  background-color: #fafdcf;\n",
       "  color: #000000;\n",
       "}\n",
       "#T_583d3_row9_col10 {\n",
       "  background-color: #f9fdcc;\n",
       "  color: #000000;\n",
       "}\n",
       "#T_583d3_row9_col11 {\n",
       "  background-color: #fafdce;\n",
       "  color: #000000;\n",
       "}\n",
       "</style>\n",
       "<table id=\"T_583d3\">\n",
       "  <thead>\n",
       "    <tr>\n",
       "      <th class=\"blank level0\" >&nbsp;</th>\n",
       "      <th id=\"T_583d3_level0_col0\" class=\"col_heading level0 col0\" >dtypes</th>\n",
       "      <th id=\"T_583d3_level0_col1\" class=\"col_heading level0 col1\" >count</th>\n",
       "      <th id=\"T_583d3_level0_col2\" class=\"col_heading level0 col2\" >#unique</th>\n",
       "      <th id=\"T_583d3_level0_col3\" class=\"col_heading level0 col3\" >duplicate</th>\n",
       "      <th id=\"T_583d3_level0_col4\" class=\"col_heading level0 col4\" >#missing</th>\n",
       "      <th id=\"T_583d3_level0_col5\" class=\"col_heading level0 col5\" >missing%</th>\n",
       "      <th id=\"T_583d3_level0_col6\" class=\"col_heading level0 col6\" >mean</th>\n",
       "      <th id=\"T_583d3_level0_col7\" class=\"col_heading level0 col7\" >std</th>\n",
       "      <th id=\"T_583d3_level0_col8\" class=\"col_heading level0 col8\" >min</th>\n",
       "      <th id=\"T_583d3_level0_col9\" class=\"col_heading level0 col9\" >25%</th>\n",
       "      <th id=\"T_583d3_level0_col10\" class=\"col_heading level0 col10\" >50%</th>\n",
       "      <th id=\"T_583d3_level0_col11\" class=\"col_heading level0 col11\" >75%</th>\n",
       "      <th id=\"T_583d3_level0_col12\" class=\"col_heading level0 col12\" >max</th>\n",
       "    </tr>\n",
       "  </thead>\n",
       "  <tbody>\n",
       "    <tr>\n",
       "      <th id=\"T_583d3_level0_row0\" class=\"row_heading level0 row0\" >hospital_death</th>\n",
       "      <td id=\"T_583d3_row0_col0\" class=\"data row0 col0\" >int64</td>\n",
       "      <td id=\"T_583d3_row0_col1\" class=\"data row0 col1\" >91541</td>\n",
       "      <td id=\"T_583d3_row0_col2\" class=\"data row0 col2\" >2</td>\n",
       "      <td id=\"T_583d3_row0_col3\" class=\"data row0 col3\" >0</td>\n",
       "      <td id=\"T_583d3_row0_col4\" class=\"data row0 col4\" >0</td>\n",
       "      <td id=\"T_583d3_row0_col5\" class=\"data row0 col5\" >0.000000</td>\n",
       "      <td id=\"T_583d3_row0_col6\" class=\"data row0 col6\" >0.086453</td>\n",
       "      <td id=\"T_583d3_row0_col7\" class=\"data row0 col7\" >0.281033</td>\n",
       "      <td id=\"T_583d3_row0_col8\" class=\"data row0 col8\" >0.000000</td>\n",
       "      <td id=\"T_583d3_row0_col9\" class=\"data row0 col9\" >0.000000</td>\n",
       "      <td id=\"T_583d3_row0_col10\" class=\"data row0 col10\" >0.000000</td>\n",
       "      <td id=\"T_583d3_row0_col11\" class=\"data row0 col11\" >0.000000</td>\n",
       "      <td id=\"T_583d3_row0_col12\" class=\"data row0 col12\" >1.000000</td>\n",
       "    </tr>\n",
       "    <tr>\n",
       "      <th id=\"T_583d3_level0_row1\" class=\"row_heading level0 row1\" >age</th>\n",
       "      <td id=\"T_583d3_row1_col0\" class=\"data row1 col0\" >float64</td>\n",
       "      <td id=\"T_583d3_row1_col1\" class=\"data row1 col1\" >87330</td>\n",
       "      <td id=\"T_583d3_row1_col2\" class=\"data row1 col2\" >74</td>\n",
       "      <td id=\"T_583d3_row1_col3\" class=\"data row1 col3\" >0</td>\n",
       "      <td id=\"T_583d3_row1_col4\" class=\"data row1 col4\" >4211</td>\n",
       "      <td id=\"T_583d3_row1_col5\" class=\"data row1 col5\" >4.600125</td>\n",
       "      <td id=\"T_583d3_row1_col6\" class=\"data row1 col6\" >62.319146</td>\n",
       "      <td id=\"T_583d3_row1_col7\" class=\"data row1 col7\" >16.770089</td>\n",
       "      <td id=\"T_583d3_row1_col8\" class=\"data row1 col8\" >16.000000</td>\n",
       "      <td id=\"T_583d3_row1_col9\" class=\"data row1 col9\" >52.000000</td>\n",
       "      <td id=\"T_583d3_row1_col10\" class=\"data row1 col10\" >65.000000</td>\n",
       "      <td id=\"T_583d3_row1_col11\" class=\"data row1 col11\" >75.000000</td>\n",
       "      <td id=\"T_583d3_row1_col12\" class=\"data row1 col12\" >89.000000</td>\n",
       "    </tr>\n",
       "    <tr>\n",
       "      <th id=\"T_583d3_level0_row2\" class=\"row_heading level0 row2\" >icu_admit_source</th>\n",
       "      <td id=\"T_583d3_row2_col0\" class=\"data row2 col0\" >object</td>\n",
       "      <td id=\"T_583d3_row2_col1\" class=\"data row2 col1\" >91429</td>\n",
       "      <td id=\"T_583d3_row2_col2\" class=\"data row2 col2\" >5</td>\n",
       "      <td id=\"T_583d3_row2_col3\" class=\"data row2 col3\" >0</td>\n",
       "      <td id=\"T_583d3_row2_col4\" class=\"data row2 col4\" >112</td>\n",
       "      <td id=\"T_583d3_row2_col5\" class=\"data row2 col5\" >0.122350</td>\n",
       "      <td id=\"T_583d3_row2_col6\" class=\"data row2 col6\" >nan</td>\n",
       "      <td id=\"T_583d3_row2_col7\" class=\"data row2 col7\" >nan</td>\n",
       "      <td id=\"T_583d3_row2_col8\" class=\"data row2 col8\" >nan</td>\n",
       "      <td id=\"T_583d3_row2_col9\" class=\"data row2 col9\" >nan</td>\n",
       "      <td id=\"T_583d3_row2_col10\" class=\"data row2 col10\" >nan</td>\n",
       "      <td id=\"T_583d3_row2_col11\" class=\"data row2 col11\" >nan</td>\n",
       "      <td id=\"T_583d3_row2_col12\" class=\"data row2 col12\" >nan</td>\n",
       "    </tr>\n",
       "    <tr>\n",
       "      <th id=\"T_583d3_level0_row3\" class=\"row_heading level0 row3\" >icu_id</th>\n",
       "      <td id=\"T_583d3_row3_col0\" class=\"data row3 col0\" >int64</td>\n",
       "      <td id=\"T_583d3_row3_col1\" class=\"data row3 col1\" >91541</td>\n",
       "      <td id=\"T_583d3_row3_col2\" class=\"data row3 col2\" >241</td>\n",
       "      <td id=\"T_583d3_row3_col3\" class=\"data row3 col3\" >0</td>\n",
       "      <td id=\"T_583d3_row3_col4\" class=\"data row3 col4\" >0</td>\n",
       "      <td id=\"T_583d3_row3_col5\" class=\"data row3 col5\" >0.000000</td>\n",
       "      <td id=\"T_583d3_row3_col6\" class=\"data row3 col6\" >508.434199</td>\n",
       "      <td id=\"T_583d3_row3_col7\" class=\"data row3 col7\" >229.003888</td>\n",
       "      <td id=\"T_583d3_row3_col8\" class=\"data row3 col8\" >82.000000</td>\n",
       "      <td id=\"T_583d3_row3_col9\" class=\"data row3 col9\" >369.000000</td>\n",
       "      <td id=\"T_583d3_row3_col10\" class=\"data row3 col10\" >504.000000</td>\n",
       "      <td id=\"T_583d3_row3_col11\" class=\"data row3 col11\" >683.000000</td>\n",
       "      <td id=\"T_583d3_row3_col12\" class=\"data row3 col12\" >927.000000</td>\n",
       "    </tr>\n",
       "    <tr>\n",
       "      <th id=\"T_583d3_level0_row4\" class=\"row_heading level0 row4\" >icu_type</th>\n",
       "      <td id=\"T_583d3_row4_col0\" class=\"data row4 col0\" >object</td>\n",
       "      <td id=\"T_583d3_row4_col1\" class=\"data row4 col1\" >91541</td>\n",
       "      <td id=\"T_583d3_row4_col2\" class=\"data row4 col2\" >8</td>\n",
       "      <td id=\"T_583d3_row4_col3\" class=\"data row4 col3\" >0</td>\n",
       "      <td id=\"T_583d3_row4_col4\" class=\"data row4 col4\" >0</td>\n",
       "      <td id=\"T_583d3_row4_col5\" class=\"data row4 col5\" >0.000000</td>\n",
       "      <td id=\"T_583d3_row4_col6\" class=\"data row4 col6\" >nan</td>\n",
       "      <td id=\"T_583d3_row4_col7\" class=\"data row4 col7\" >nan</td>\n",
       "      <td id=\"T_583d3_row4_col8\" class=\"data row4 col8\" >nan</td>\n",
       "      <td id=\"T_583d3_row4_col9\" class=\"data row4 col9\" >nan</td>\n",
       "      <td id=\"T_583d3_row4_col10\" class=\"data row4 col10\" >nan</td>\n",
       "      <td id=\"T_583d3_row4_col11\" class=\"data row4 col11\" >nan</td>\n",
       "      <td id=\"T_583d3_row4_col12\" class=\"data row4 col12\" >nan</td>\n",
       "    </tr>\n",
       "    <tr>\n",
       "      <th id=\"T_583d3_level0_row5\" class=\"row_heading level0 row5\" >gcs_unable_apache</th>\n",
       "      <td id=\"T_583d3_row5_col0\" class=\"data row5 col0\" >float64</td>\n",
       "      <td id=\"T_583d3_row5_col1\" class=\"data row5 col1\" >90512</td>\n",
       "      <td id=\"T_583d3_row5_col2\" class=\"data row5 col2\" >2</td>\n",
       "      <td id=\"T_583d3_row5_col3\" class=\"data row5 col3\" >0</td>\n",
       "      <td id=\"T_583d3_row5_col4\" class=\"data row5 col4\" >1029</td>\n",
       "      <td id=\"T_583d3_row5_col5\" class=\"data row5 col5\" >1.124086</td>\n",
       "      <td id=\"T_583d3_row5_col6\" class=\"data row5 col6\" >0.009546</td>\n",
       "      <td id=\"T_583d3_row5_col7\" class=\"data row5 col7\" >0.097235</td>\n",
       "      <td id=\"T_583d3_row5_col8\" class=\"data row5 col8\" >0.000000</td>\n",
       "      <td id=\"T_583d3_row5_col9\" class=\"data row5 col9\" >0.000000</td>\n",
       "      <td id=\"T_583d3_row5_col10\" class=\"data row5 col10\" >0.000000</td>\n",
       "      <td id=\"T_583d3_row5_col11\" class=\"data row5 col11\" >0.000000</td>\n",
       "      <td id=\"T_583d3_row5_col12\" class=\"data row5 col12\" >1.000000</td>\n",
       "    </tr>\n",
       "    <tr>\n",
       "      <th id=\"T_583d3_level0_row6\" class=\"row_heading level0 row6\" >resprate_apache</th>\n",
       "      <td id=\"T_583d3_row6_col0\" class=\"data row6 col0\" >float64</td>\n",
       "      <td id=\"T_583d3_row6_col1\" class=\"data row6 col1\" >90335</td>\n",
       "      <td id=\"T_583d3_row6_col2\" class=\"data row6 col2\" >74</td>\n",
       "      <td id=\"T_583d3_row6_col3\" class=\"data row6 col3\" >0</td>\n",
       "      <td id=\"T_583d3_row6_col4\" class=\"data row6 col4\" >1206</td>\n",
       "      <td id=\"T_583d3_row6_col5\" class=\"data row6 col5\" >1.317442</td>\n",
       "      <td id=\"T_583d3_row6_col6\" class=\"data row6 col6\" >25.823657</td>\n",
       "      <td id=\"T_583d3_row6_col7\" class=\"data row6 col7\" >15.112226</td>\n",
       "      <td id=\"T_583d3_row6_col8\" class=\"data row6 col8\" >4.000000</td>\n",
       "      <td id=\"T_583d3_row6_col9\" class=\"data row6 col9\" >11.000000</td>\n",
       "      <td id=\"T_583d3_row6_col10\" class=\"data row6 col10\" >28.000000</td>\n",
       "      <td id=\"T_583d3_row6_col11\" class=\"data row6 col11\" >36.000000</td>\n",
       "      <td id=\"T_583d3_row6_col12\" class=\"data row6 col12\" >60.000000</td>\n",
       "    </tr>\n",
       "    <tr>\n",
       "      <th id=\"T_583d3_level0_row7\" class=\"row_heading level0 row7\" >ventilated_apache</th>\n",
       "      <td id=\"T_583d3_row7_col0\" class=\"data row7 col0\" >float64</td>\n",
       "      <td id=\"T_583d3_row7_col1\" class=\"data row7 col1\" >90833</td>\n",
       "      <td id=\"T_583d3_row7_col2\" class=\"data row7 col2\" >2</td>\n",
       "      <td id=\"T_583d3_row7_col3\" class=\"data row7 col3\" >0</td>\n",
       "      <td id=\"T_583d3_row7_col4\" class=\"data row7 col4\" >708</td>\n",
       "      <td id=\"T_583d3_row7_col5\" class=\"data row7 col5\" >0.773424</td>\n",
       "      <td id=\"T_583d3_row7_col6\" class=\"data row7 col6\" >0.326148</td>\n",
       "      <td id=\"T_583d3_row7_col7\" class=\"data row7 col7\" >0.468805</td>\n",
       "      <td id=\"T_583d3_row7_col8\" class=\"data row7 col8\" >0.000000</td>\n",
       "      <td id=\"T_583d3_row7_col9\" class=\"data row7 col9\" >0.000000</td>\n",
       "      <td id=\"T_583d3_row7_col10\" class=\"data row7 col10\" >0.000000</td>\n",
       "      <td id=\"T_583d3_row7_col11\" class=\"data row7 col11\" >1.000000</td>\n",
       "      <td id=\"T_583d3_row7_col12\" class=\"data row7 col12\" >1.000000</td>\n",
       "    </tr>\n",
       "    <tr>\n",
       "      <th id=\"T_583d3_level0_row8\" class=\"row_heading level0 row8\" >d1_resprate_max</th>\n",
       "      <td id=\"T_583d3_row8_col0\" class=\"data row8 col0\" >float64</td>\n",
       "      <td id=\"T_583d3_row8_col1\" class=\"data row8 col1\" >91177</td>\n",
       "      <td id=\"T_583d3_row8_col2\" class=\"data row8 col2\" >79</td>\n",
       "      <td id=\"T_583d3_row8_col3\" class=\"data row8 col3\" >0</td>\n",
       "      <td id=\"T_583d3_row8_col4\" class=\"data row8 col4\" >364</td>\n",
       "      <td id=\"T_583d3_row8_col5\" class=\"data row8 col5\" >0.397636</td>\n",
       "      <td id=\"T_583d3_row8_col6\" class=\"data row8 col6\" >28.893690</td>\n",
       "      <td id=\"T_583d3_row8_col7\" class=\"data row8 col7\" >10.706143</td>\n",
       "      <td id=\"T_583d3_row8_col8\" class=\"data row8 col8\" >14.000000</td>\n",
       "      <td id=\"T_583d3_row8_col9\" class=\"data row8 col9\" >22.000000</td>\n",
       "      <td id=\"T_583d3_row8_col10\" class=\"data row8 col10\" >26.000000</td>\n",
       "      <td id=\"T_583d3_row8_col11\" class=\"data row8 col11\" >32.000000</td>\n",
       "      <td id=\"T_583d3_row8_col12\" class=\"data row8 col12\" >92.000000</td>\n",
       "    </tr>\n",
       "    <tr>\n",
       "      <th id=\"T_583d3_level0_row9\" class=\"row_heading level0 row9\" >h1_resprate_max</th>\n",
       "      <td id=\"T_583d3_row9_col0\" class=\"data row9 col0\" >float64</td>\n",
       "      <td id=\"T_583d3_row9_col1\" class=\"data row9 col1\" >87209</td>\n",
       "      <td id=\"T_583d3_row9_col2\" class=\"data row9 col2\" >50</td>\n",
       "      <td id=\"T_583d3_row9_col3\" class=\"data row9 col3\" >0</td>\n",
       "      <td id=\"T_583d3_row9_col4\" class=\"data row9 col4\" >4332</td>\n",
       "      <td id=\"T_583d3_row9_col5\" class=\"data row9 col5\" >4.732306</td>\n",
       "      <td id=\"T_583d3_row9_col6\" class=\"data row9 col6\" >22.637537</td>\n",
       "      <td id=\"T_583d3_row9_col7\" class=\"data row9 col7\" >7.519027</td>\n",
       "      <td id=\"T_583d3_row9_col8\" class=\"data row9 col8\" >10.000000</td>\n",
       "      <td id=\"T_583d3_row9_col9\" class=\"data row9 col9\" >18.000000</td>\n",
       "      <td id=\"T_583d3_row9_col10\" class=\"data row9 col10\" >21.000000</td>\n",
       "      <td id=\"T_583d3_row9_col11\" class=\"data row9 col11\" >26.000000</td>\n",
       "      <td id=\"T_583d3_row9_col12\" class=\"data row9 col12\" >59.000000</td>\n",
       "    </tr>\n",
       "    <tr>\n",
       "      <th id=\"T_583d3_level0_row10\" class=\"row_heading level0 row10\" >immunosuppression</th>\n",
       "      <td id=\"T_583d3_row10_col0\" class=\"data row10 col0\" >float64</td>\n",
       "      <td id=\"T_583d3_row10_col1\" class=\"data row10 col1\" >90833</td>\n",
       "      <td id=\"T_583d3_row10_col2\" class=\"data row10 col2\" >2</td>\n",
       "      <td id=\"T_583d3_row10_col3\" class=\"data row10 col3\" >0</td>\n",
       "      <td id=\"T_583d3_row10_col4\" class=\"data row10 col4\" >708</td>\n",
       "      <td id=\"T_583d3_row10_col5\" class=\"data row10 col5\" >0.773424</td>\n",
       "      <td id=\"T_583d3_row10_col6\" class=\"data row10 col6\" >0.026213</td>\n",
       "      <td id=\"T_583d3_row10_col7\" class=\"data row10 col7\" >0.159769</td>\n",
       "      <td id=\"T_583d3_row10_col8\" class=\"data row10 col8\" >0.000000</td>\n",
       "      <td id=\"T_583d3_row10_col9\" class=\"data row10 col9\" >0.000000</td>\n",
       "      <td id=\"T_583d3_row10_col10\" class=\"data row10 col10\" >0.000000</td>\n",
       "      <td id=\"T_583d3_row10_col11\" class=\"data row10 col11\" >0.000000</td>\n",
       "      <td id=\"T_583d3_row10_col12\" class=\"data row10 col12\" >1.000000</td>\n",
       "    </tr>\n",
       "  </tbody>\n",
       "</table>\n"
      ],
      "text/plain": [
       "<pandas.io.formats.style.Styler at 0x7d861fa6bf70>"
      ]
     },
     "execution_count": 9,
     "metadata": {},
     "output_type": "execute_result"
    }
   ],
   "source": [
    "summary(df).style.background_gradient(cmap='YlGnBu')"
   ]
  },
  {
   "cell_type": "code",
   "execution_count": 10,
   "id": "1c903431",
   "metadata": {
    "execution": {
     "iopub.execute_input": "2023-10-05T17:54:00.913284Z",
     "iopub.status.busy": "2023-10-05T17:54:00.912295Z",
     "iopub.status.idle": "2023-10-05T17:54:00.930337Z",
     "shell.execute_reply": "2023-10-05T17:54:00.929269Z"
    },
    "papermill": {
     "duration": 0.032494,
     "end_time": "2023-10-05T17:54:00.932484",
     "exception": false,
     "start_time": "2023-10-05T17:54:00.899990",
     "status": "completed"
    },
    "tags": []
   },
   "outputs": [
    {
     "data": {
      "text/plain": [
       "hospital_death          0\n",
       "age                  4211\n",
       "icu_admit_source      112\n",
       "icu_id                  0\n",
       "icu_type                0\n",
       "gcs_unable_apache    1029\n",
       "resprate_apache      1206\n",
       "ventilated_apache     708\n",
       "d1_resprate_max       364\n",
       "h1_resprate_max      4332\n",
       "immunosuppression     708\n",
       "dtype: int64"
      ]
     },
     "execution_count": 10,
     "metadata": {},
     "output_type": "execute_result"
    }
   ],
   "source": [
    "## Checking for missing values\n",
    "\n",
    "df.isnull().sum()"
   ]
  },
  {
   "cell_type": "code",
   "execution_count": 11,
   "id": "6bc1a58f",
   "metadata": {
    "execution": {
     "iopub.execute_input": "2023-10-05T17:54:00.959722Z",
     "iopub.status.busy": "2023-10-05T17:54:00.958946Z",
     "iopub.status.idle": "2023-10-05T17:54:01.027002Z",
     "shell.execute_reply": "2023-10-05T17:54:01.025996Z"
    },
    "papermill": {
     "duration": 0.085683,
     "end_time": "2023-10-05T17:54:01.029389",
     "exception": false,
     "start_time": "2023-10-05T17:54:00.943706",
     "status": "completed"
    },
    "tags": []
   },
   "outputs": [],
   "source": [
    "## Impute the categorical columns\n",
    "\n",
    "impute_cols = [x for x in df.isna().sum()[df.isna().sum() != 0].index.tolist()]\n",
    "for feat in impute_cols:\n",
    "    mode = df[feat].mode()[0]\n",
    "    df[feat].fillna(mode, inplace=True)\n",
    "    \n",
    "    \n",
    "## Impute for numerical columns\n",
    "\n",
    "impute_num_cols = [x for x in df.isna().sum()[df.isna().sum() != 0].index.tolist()]\n",
    "for feat in impute_num_cols:\n",
    "    mode = df[feat].median()[0]\n",
    "    df[feat].fillna(median, inplace=True)"
   ]
  },
  {
   "cell_type": "code",
   "execution_count": 12,
   "id": "1dfe274a",
   "metadata": {
    "execution": {
     "iopub.execute_input": "2023-10-05T17:54:01.054964Z",
     "iopub.status.busy": "2023-10-05T17:54:01.054606Z",
     "iopub.status.idle": "2023-10-05T17:54:01.062514Z",
     "shell.execute_reply": "2023-10-05T17:54:01.061416Z"
    },
    "papermill": {
     "duration": 0.022409,
     "end_time": "2023-10-05T17:54:01.064495",
     "exception": false,
     "start_time": "2023-10-05T17:54:01.042086",
     "status": "completed"
    },
    "tags": []
   },
   "outputs": [],
   "source": [
    "X = df.drop(columns=[\"hospital_death\"], axis=1)\n",
    "y = df[\"hospital_death\"]"
   ]
  },
  {
   "cell_type": "code",
   "execution_count": 13,
   "id": "e747579c",
   "metadata": {
    "execution": {
     "iopub.execute_input": "2023-10-05T17:54:01.087001Z",
     "iopub.status.busy": "2023-10-05T17:54:01.086132Z",
     "iopub.status.idle": "2023-10-05T17:54:01.094721Z",
     "shell.execute_reply": "2023-10-05T17:54:01.093620Z"
    },
    "papermill": {
     "duration": 0.021622,
     "end_time": "2023-10-05T17:54:01.096563",
     "exception": false,
     "start_time": "2023-10-05T17:54:01.074941",
     "status": "completed"
    },
    "tags": []
   },
   "outputs": [
    {
     "data": {
      "text/plain": [
       "Index(['age', 'icu_id', 'gcs_unable_apache', 'resprate_apache',\n",
       "       'ventilated_apache', 'd1_resprate_max', 'h1_resprate_max',\n",
       "       'immunosuppression'],\n",
       "      dtype='object')"
      ]
     },
     "execution_count": 13,
     "metadata": {},
     "output_type": "execute_result"
    }
   ],
   "source": [
    "numerical_features = X.select_dtypes(exclude=\"object\").columns\n",
    "\n",
    "numerical_features"
   ]
  },
  {
   "cell_type": "code",
   "execution_count": 14,
   "id": "a6330012",
   "metadata": {
    "execution": {
     "iopub.execute_input": "2023-10-05T17:54:01.119105Z",
     "iopub.status.busy": "2023-10-05T17:54:01.118193Z",
     "iopub.status.idle": "2023-10-05T17:54:01.126206Z",
     "shell.execute_reply": "2023-10-05T17:54:01.125240Z"
    },
    "papermill": {
     "duration": 0.021171,
     "end_time": "2023-10-05T17:54:01.128040",
     "exception": false,
     "start_time": "2023-10-05T17:54:01.106869",
     "status": "completed"
    },
    "tags": []
   },
   "outputs": [
    {
     "data": {
      "text/plain": [
       "Index(['icu_admit_source', 'icu_type'], dtype='object')"
      ]
     },
     "execution_count": 14,
     "metadata": {},
     "output_type": "execute_result"
    }
   ],
   "source": [
    "categorical_features = X.select_dtypes(include=\"object\").columns\n",
    "\n",
    "categorical_features"
   ]
  },
  {
   "cell_type": "markdown",
   "id": "5b6687da",
   "metadata": {
    "papermill": {
     "duration": 0.009959,
     "end_time": "2023-10-05T17:54:01.148239",
     "exception": false,
     "start_time": "2023-10-05T17:54:01.138280",
     "status": "completed"
    },
    "tags": []
   },
   "source": [
    "## Encoding and scaling the features"
   ]
  },
  {
   "cell_type": "code",
   "execution_count": 15,
   "id": "6cc8e788",
   "metadata": {
    "execution": {
     "iopub.execute_input": "2023-10-05T17:54:01.170664Z",
     "iopub.status.busy": "2023-10-05T17:54:01.169996Z",
     "iopub.status.idle": "2023-10-05T17:54:01.175474Z",
     "shell.execute_reply": "2023-10-05T17:54:01.174627Z"
    },
    "papermill": {
     "duration": 0.018807,
     "end_time": "2023-10-05T17:54:01.177259",
     "exception": false,
     "start_time": "2023-10-05T17:54:01.158452",
     "status": "completed"
    },
    "tags": []
   },
   "outputs": [],
   "source": [
    "## Define the pipeline\n",
    "\n",
    "num_pipeline = Pipeline(\n",
    "    steps=[\n",
    "        (\"imputer\", SimpleImputer(strategy=\"median\")),\n",
    "        (\"scaler\", RobustScaler())\n",
    "    ]\n",
    ")\n",
    "\n",
    "cat_pipeline = Pipeline(\n",
    "    steps=[\n",
    "        (\"imputer\", SimpleImputer(strategy=\"most_frequent\")),\n",
    "        (\"ordinalencoder\", OrdinalEncoder()),\n",
    "    ]\n",
    ")"
   ]
  },
  {
   "cell_type": "code",
   "execution_count": 16,
   "id": "55192376",
   "metadata": {
    "execution": {
     "iopub.execute_input": "2023-10-05T17:54:01.198986Z",
     "iopub.status.busy": "2023-10-05T17:54:01.198290Z",
     "iopub.status.idle": "2023-10-05T17:54:01.204402Z",
     "shell.execute_reply": "2023-10-05T17:54:01.203385Z"
    },
    "papermill": {
     "duration": 0.019287,
     "end_time": "2023-10-05T17:54:01.206401",
     "exception": false,
     "start_time": "2023-10-05T17:54:01.187114",
     "status": "completed"
    },
    "tags": []
   },
   "outputs": [],
   "source": [
    "from sklearn.compose import ColumnTransformer\n",
    "\n",
    "transformer = ColumnTransformer(transformers=[\n",
    "    (\"OrdinalEncoder\", OrdinalEncoder(handle_unknown='use_encoded_value', unknown_value=-1), categorical_features),\n",
    "    (\"RobustScaler\", RobustScaler(), numerical_features)\n",
    "], remainder=\"passthrough\")"
   ]
  },
  {
   "cell_type": "code",
   "execution_count": 17,
   "id": "69c6ba67",
   "metadata": {
    "execution": {
     "iopub.execute_input": "2023-10-05T17:54:01.228797Z",
     "iopub.status.busy": "2023-10-05T17:54:01.228472Z",
     "iopub.status.idle": "2023-10-05T17:54:01.249257Z",
     "shell.execute_reply": "2023-10-05T17:54:01.248351Z"
    },
    "papermill": {
     "duration": 0.034372,
     "end_time": "2023-10-05T17:54:01.251345",
     "exception": false,
     "start_time": "2023-10-05T17:54:01.216973",
     "status": "completed"
    },
    "tags": []
   },
   "outputs": [],
   "source": [
    "from sklearn.model_selection import train_test_split\n",
    "\n",
    "X_train, X_test, y_train, y_test = train_test_split(X, y, test_size=0.2, random_state=42)"
   ]
  },
  {
   "cell_type": "code",
   "execution_count": 18,
   "id": "e15c79f7",
   "metadata": {
    "execution": {
     "iopub.execute_input": "2023-10-05T17:54:01.273806Z",
     "iopub.status.busy": "2023-10-05T17:54:01.273468Z",
     "iopub.status.idle": "2023-10-05T17:54:01.357115Z",
     "shell.execute_reply": "2023-10-05T17:54:01.356119Z"
    },
    "papermill": {
     "duration": 0.097382,
     "end_time": "2023-10-05T17:54:01.359404",
     "exception": false,
     "start_time": "2023-10-05T17:54:01.262022",
     "status": "completed"
    },
    "tags": []
   },
   "outputs": [],
   "source": [
    "X_train = transformer.fit_transform(X_train)"
   ]
  },
  {
   "cell_type": "code",
   "execution_count": 19,
   "id": "92ea5676",
   "metadata": {
    "execution": {
     "iopub.execute_input": "2023-10-05T17:54:01.382486Z",
     "iopub.status.busy": "2023-10-05T17:54:01.382138Z",
     "iopub.status.idle": "2023-10-05T17:54:01.401976Z",
     "shell.execute_reply": "2023-10-05T17:54:01.401016Z"
    },
    "papermill": {
     "duration": 0.033534,
     "end_time": "2023-10-05T17:54:01.404048",
     "exception": false,
     "start_time": "2023-10-05T17:54:01.370514",
     "status": "completed"
    },
    "tags": []
   },
   "outputs": [],
   "source": [
    "X_test = transformer.transform(X_test)"
   ]
  },
  {
   "cell_type": "code",
   "execution_count": 20,
   "id": "a45f1db6",
   "metadata": {
    "execution": {
     "iopub.execute_input": "2023-10-05T17:54:01.427489Z",
     "iopub.status.busy": "2023-10-05T17:54:01.426624Z",
     "iopub.status.idle": "2023-10-05T17:54:01.433167Z",
     "shell.execute_reply": "2023-10-05T17:54:01.432147Z"
    },
    "papermill": {
     "duration": 0.020078,
     "end_time": "2023-10-05T17:54:01.435048",
     "exception": false,
     "start_time": "2023-10-05T17:54:01.414970",
     "status": "completed"
    },
    "tags": []
   },
   "outputs": [
    {
     "data": {
      "text/plain": [
       "((73232, 10), (18309, 10))"
      ]
     },
     "execution_count": 20,
     "metadata": {},
     "output_type": "execute_result"
    }
   ],
   "source": [
    "X_train.shape, X_test.shape"
   ]
  },
  {
   "cell_type": "code",
   "execution_count": 21,
   "id": "6553ff49",
   "metadata": {
    "execution": {
     "iopub.execute_input": "2023-10-05T17:54:01.458324Z",
     "iopub.status.busy": "2023-10-05T17:54:01.457323Z",
     "iopub.status.idle": "2023-10-05T17:54:01.711715Z",
     "shell.execute_reply": "2023-10-05T17:54:01.710563Z"
    },
    "papermill": {
     "duration": 0.268265,
     "end_time": "2023-10-05T17:54:01.713796",
     "exception": false,
     "start_time": "2023-10-05T17:54:01.445531",
     "status": "completed"
    },
    "tags": []
   },
   "outputs": [
    {
     "name": "stdout",
     "output_type": "stream",
     "text": [
      "=============================\n",
      "Class= 0, n=66916 (91.38%)\n",
      "Class= 1, n=6316 (8.62%)\n",
      "=============================\n",
      "Class= 0, n=66916 (50.00%)\n",
      "Class= 1, n=66916 (50.00%)\n",
      "=============================\n",
      "Upsampled data shape:  (133832, 10) (133832,)\n"
     ]
    }
   ],
   "source": [
    "# upsampling using smote\n",
    "from imblearn.over_sampling import SMOTE\n",
    "from collections import Counter\n",
    "\n",
    "counter = Counter(y_train)\n",
    "\n",
    "print(\"=============================\")\n",
    "\n",
    "for k,v in counter.items():\n",
    "    per = 100*v/len(y_train)\n",
    "    print(f\"Class= {k}, n={v} ({per:.2f}%)\")\n",
    "\n",
    "oversample = SMOTE()\n",
    "X_train, y_train = oversample.fit_resample(X_train, y_train)\n",
    "\n",
    "counter = Counter(y_train)\n",
    "\n",
    "print(\"=============================\")\n",
    "\n",
    "for k,v in counter.items():\n",
    "    per = 100*v/len(y_train)\n",
    "    print(f\"Class= {k}, n={v} ({per:.2f}%)\")\n",
    "\n",
    "print(\"=============================\")\n",
    "\n",
    "print(\"Upsampled data shape: \", X_train.shape, y_train.shape)"
   ]
  },
  {
   "cell_type": "code",
   "execution_count": 22,
   "id": "7770b0bd",
   "metadata": {
    "execution": {
     "iopub.execute_input": "2023-10-05T17:54:01.736243Z",
     "iopub.status.busy": "2023-10-05T17:54:01.735311Z",
     "iopub.status.idle": "2023-10-05T17:54:01.758895Z",
     "shell.execute_reply": "2023-10-05T17:54:01.757447Z"
    },
    "papermill": {
     "duration": 0.036588,
     "end_time": "2023-10-05T17:54:01.760665",
     "exception": false,
     "start_time": "2023-10-05T17:54:01.724077",
     "status": "completed"
    },
    "tags": []
   },
   "outputs": [
    {
     "name": "stdout",
     "output_type": "stream",
     "text": [
      "Class 0: 66916 samples\n",
      "Class 1: 66916 samples\n",
      "The target variable 'y' is balanced.\n"
     ]
    }
   ],
   "source": [
    "from collections import Counter\n",
    "\n",
    "# Assuming 'y' is your target variable\n",
    "class_distribution = Counter(y_train)\n",
    "\n",
    "# Print the class distribution\n",
    "for class_label, count in class_distribution.items():\n",
    "    print(f\"Class {class_label}: {count} samples\")\n",
    "\n",
    "# Check if 'y' is balanced\n",
    "is_balanced = all(count == class_distribution[y_train[0]] for count in class_distribution.values())\n",
    "\n",
    "if is_balanced:\n",
    "    print(\"The target variable 'y' is balanced.\")\n",
    "else:\n",
    "    print(\"The target variable 'y' is imbalanced.\")"
   ]
  },
  {
   "cell_type": "code",
   "execution_count": 23,
   "id": "03abff93",
   "metadata": {
    "execution": {
     "iopub.execute_input": "2023-10-05T17:54:01.783867Z",
     "iopub.status.busy": "2023-10-05T17:54:01.782934Z",
     "iopub.status.idle": "2023-10-05T17:54:01.789736Z",
     "shell.execute_reply": "2023-10-05T17:54:01.788799Z"
    },
    "papermill": {
     "duration": 0.020045,
     "end_time": "2023-10-05T17:54:01.791495",
     "exception": false,
     "start_time": "2023-10-05T17:54:01.771450",
     "status": "completed"
    },
    "tags": []
   },
   "outputs": [
    {
     "data": {
      "text/plain": [
       "10"
      ]
     },
     "execution_count": 23,
     "metadata": {},
     "output_type": "execute_result"
    }
   ],
   "source": [
    "X_train.shape[-1]"
   ]
  },
  {
   "cell_type": "markdown",
   "id": "5e190efa",
   "metadata": {
    "papermill": {
     "duration": 0.010628,
     "end_time": "2023-10-05T17:54:01.812639",
     "exception": false,
     "start_time": "2023-10-05T17:54:01.802011",
     "status": "completed"
    },
    "tags": []
   },
   "source": [
    "## Creating a basic deep learning model"
   ]
  },
  {
   "cell_type": "markdown",
   "id": "31f611c6",
   "metadata": {
    "papermill": {
     "duration": 0.01054,
     "end_time": "2023-10-05T17:54:01.833951",
     "exception": false,
     "start_time": "2023-10-05T17:54:01.823411",
     "status": "completed"
    },
    "tags": []
   },
   "source": [
    "## Model 1 "
   ]
  },
  {
   "cell_type": "code",
   "execution_count": 24,
   "id": "74863fcf",
   "metadata": {
    "execution": {
     "iopub.execute_input": "2023-10-05T17:54:01.855669Z",
     "iopub.status.busy": "2023-10-05T17:54:01.855330Z",
     "iopub.status.idle": "2023-10-05T17:54:08.559006Z",
     "shell.execute_reply": "2023-10-05T17:54:08.558025Z"
    },
    "papermill": {
     "duration": 6.717098,
     "end_time": "2023-10-05T17:54:08.561322",
     "exception": false,
     "start_time": "2023-10-05T17:54:01.844224",
     "status": "completed"
    },
    "tags": []
   },
   "outputs": [],
   "source": [
    "model = Sequential()\n",
    "model.add(Dense(64, input_shape=(X_train.shape[-1],), activation=\"relu\"))\n",
    "model.add(Dense(32, activation=\"relu\"))\n",
    "model.add(Dense(16, activation=\"relu\"))\n",
    "model.add(Dense(1, activation=\"sigmoid\"))"
   ]
  },
  {
   "cell_type": "code",
   "execution_count": 25,
   "id": "1c11b09f",
   "metadata": {
    "execution": {
     "iopub.execute_input": "2023-10-05T17:54:08.584840Z",
     "iopub.status.busy": "2023-10-05T17:54:08.584402Z",
     "iopub.status.idle": "2023-10-05T17:54:08.602232Z",
     "shell.execute_reply": "2023-10-05T17:54:08.601465Z"
    },
    "papermill": {
     "duration": 0.041087,
     "end_time": "2023-10-05T17:54:08.613410",
     "exception": false,
     "start_time": "2023-10-05T17:54:08.572323",
     "status": "completed"
    },
    "tags": []
   },
   "outputs": [
    {
     "name": "stdout",
     "output_type": "stream",
     "text": [
      "Model: \"sequential\"\n",
      "_________________________________________________________________\n",
      " Layer (type)                Output Shape              Param #   \n",
      "=================================================================\n",
      " dense (Dense)               (None, 64)                704       \n",
      "                                                                 \n",
      " dense_1 (Dense)             (None, 32)                2080      \n",
      "                                                                 \n",
      " dense_2 (Dense)             (None, 16)                528       \n",
      "                                                                 \n",
      " dense_3 (Dense)             (None, 1)                 17        \n",
      "                                                                 \n",
      "=================================================================\n",
      "Total params: 3,329\n",
      "Trainable params: 3,329\n",
      "Non-trainable params: 0\n",
      "_________________________________________________________________\n"
     ]
    }
   ],
   "source": [
    "model.summary()"
   ]
  },
  {
   "cell_type": "code",
   "execution_count": 26,
   "id": "3b02daaa",
   "metadata": {
    "execution": {
     "iopub.execute_input": "2023-10-05T17:54:08.637987Z",
     "iopub.status.busy": "2023-10-05T17:54:08.637671Z",
     "iopub.status.idle": "2023-10-05T17:54:08.666131Z",
     "shell.execute_reply": "2023-10-05T17:54:08.665183Z"
    },
    "papermill": {
     "duration": 0.042723,
     "end_time": "2023-10-05T17:54:08.668254",
     "exception": false,
     "start_time": "2023-10-05T17:54:08.625531",
     "status": "completed"
    },
    "tags": []
   },
   "outputs": [],
   "source": [
    "metrics = [\n",
    "    keras.metrics.BinaryAccuracy(\"accuracy\"),\n",
    "    keras.metrics.AUC(curve=\"roc\")\n",
    "]\n",
    "\n",
    "# Compile the model \n",
    "model.compile(optimizer=keras.optimizers.Adam(0.01),\n",
    "             loss=\"binary_crossentropy\",\n",
    "             metrics=metrics)"
   ]
  },
  {
   "cell_type": "markdown",
   "id": "2178c423",
   "metadata": {
    "papermill": {
     "duration": 0.010897,
     "end_time": "2023-10-05T17:54:08.690721",
     "exception": false,
     "start_time": "2023-10-05T17:54:08.679824",
     "status": "completed"
    },
    "tags": []
   },
   "source": [
    "## Train the model"
   ]
  },
  {
   "cell_type": "code",
   "execution_count": 27,
   "id": "3e78b034",
   "metadata": {
    "execution": {
     "iopub.execute_input": "2023-10-05T17:54:08.715082Z",
     "iopub.status.busy": "2023-10-05T17:54:08.714058Z",
     "iopub.status.idle": "2023-10-05T17:55:31.734060Z",
     "shell.execute_reply": "2023-10-05T17:55:31.732901Z"
    },
    "papermill": {
     "duration": 83.034576,
     "end_time": "2023-10-05T17:55:31.736437",
     "exception": false,
     "start_time": "2023-10-05T17:54:08.701861",
     "status": "completed"
    },
    "tags": []
   },
   "outputs": [
    {
     "name": "stdout",
     "output_type": "stream",
     "text": [
      "Epoch 1/10\n",
      "1046/1046 [==============================] - 13s 5ms/step - loss: 0.5498 - accuracy: 0.7230 - auc: 0.7917 - val_loss: 0.5227 - val_accuracy: 0.7346 - val_auc: 0.7832\n",
      "Epoch 2/10\n",
      "1046/1046 [==============================] - 5s 5ms/step - loss: 0.5301 - accuracy: 0.7368 - auc: 0.8082 - val_loss: 0.5443 - val_accuracy: 0.7236 - val_auc: 0.7909\n",
      "Epoch 3/10\n",
      "1046/1046 [==============================] - 5s 5ms/step - loss: 0.5205 - accuracy: 0.7438 - auc: 0.8154 - val_loss: 0.5025 - val_accuracy: 0.7387 - val_auc: 0.7889\n",
      "Epoch 4/10\n",
      "1046/1046 [==============================] - 6s 5ms/step - loss: 0.5146 - accuracy: 0.7467 - auc: 0.8199 - val_loss: 0.5728 - val_accuracy: 0.6827 - val_auc: 0.7890\n",
      "Epoch 5/10\n",
      "1046/1046 [==============================] - 5s 5ms/step - loss: 0.5101 - accuracy: 0.7485 - auc: 0.8229 - val_loss: 0.5113 - val_accuracy: 0.7252 - val_auc: 0.7880\n",
      "Epoch 6/10\n",
      "1046/1046 [==============================] - 5s 5ms/step - loss: 0.5050 - accuracy: 0.7524 - auc: 0.8267 - val_loss: 0.5399 - val_accuracy: 0.7157 - val_auc: 0.7862\n",
      "Epoch 7/10\n",
      "1046/1046 [==============================] - 5s 5ms/step - loss: 0.5018 - accuracy: 0.7540 - auc: 0.8290 - val_loss: 0.5764 - val_accuracy: 0.6950 - val_auc: 0.7800\n",
      "Epoch 8/10\n",
      "1046/1046 [==============================] - 5s 5ms/step - loss: 0.4976 - accuracy: 0.7569 - auc: 0.8320 - val_loss: 0.5294 - val_accuracy: 0.7137 - val_auc: 0.7758\n",
      "Epoch 9/10\n",
      "1046/1046 [==============================] - 5s 5ms/step - loss: 0.4943 - accuracy: 0.7580 - auc: 0.8340 - val_loss: 0.5543 - val_accuracy: 0.7056 - val_auc: 0.7757\n",
      "Epoch 10/10\n",
      "1046/1046 [==============================] - 6s 5ms/step - loss: 0.4925 - accuracy: 0.7603 - auc: 0.8353 - val_loss: 0.5336 - val_accuracy: 0.7085 - val_auc: 0.7796\n"
     ]
    }
   ],
   "source": [
    "epochs = 10\n",
    "batch_size = 128\n",
    "history = model.fit(X_train, y_train, validation_data=(X_test, y_test), epochs=epochs, batch_size=batch_size)"
   ]
  },
  {
   "cell_type": "code",
   "execution_count": 28,
   "id": "f1a7ef1c",
   "metadata": {
    "execution": {
     "iopub.execute_input": "2023-10-05T17:55:31.840760Z",
     "iopub.status.busy": "2023-10-05T17:55:31.840091Z",
     "iopub.status.idle": "2023-10-05T17:55:31.846376Z",
     "shell.execute_reply": "2023-10-05T17:55:31.845498Z"
    },
    "papermill": {
     "duration": 0.060249,
     "end_time": "2023-10-05T17:55:31.848205",
     "exception": false,
     "start_time": "2023-10-05T17:55:31.787956",
     "status": "completed"
    },
    "tags": []
   },
   "outputs": [
    {
     "data": {
      "text/plain": [
       "dict_keys(['loss', 'accuracy', 'auc', 'val_loss', 'val_accuracy', 'val_auc'])"
      ]
     },
     "execution_count": 28,
     "metadata": {},
     "output_type": "execute_result"
    }
   ],
   "source": [
    "history.history.keys()"
   ]
  },
  {
   "cell_type": "code",
   "execution_count": 29,
   "id": "3526e13d",
   "metadata": {
    "execution": {
     "iopub.execute_input": "2023-10-05T17:55:31.958844Z",
     "iopub.status.busy": "2023-10-05T17:55:31.958186Z",
     "iopub.status.idle": "2023-10-05T17:55:32.793471Z",
     "shell.execute_reply": "2023-10-05T17:55:32.792609Z"
    },
    "papermill": {
     "duration": 0.893536,
     "end_time": "2023-10-05T17:55:32.796320",
     "exception": false,
     "start_time": "2023-10-05T17:55:31.902784",
     "status": "completed"
    },
    "tags": []
   },
   "outputs": [
    {
     "data": {
      "image/png": "[encoded data removed]",
      "text/plain": [
       "<Figure size 1800x600 with 3 Axes>"
      ]
     },
     "metadata": {},
     "output_type": "display_data"
    }
   ],
   "source": [
    "# Extract the relevant metrics\n",
    "acc = history.history['accuracy']\n",
    "val_acc = history.history['val_accuracy']\n",
    "auc = history.history['auc']\n",
    "val_auc = history.history['val_auc']\n",
    "loss = history.history['loss']\n",
    "val_loss = history.history['val_loss']\n",
    "\n",
    "epochs_range = range(1, epochs + 1)\n",
    "\n",
    "# Create subplots\n",
    "plt.figure(figsize=(18, 6))\n",
    "\n",
    "# Plot Training and Validation Accuracy\n",
    "plt.subplot(1, 3, 1)\n",
    "plt.plot(epochs_range, acc, label='Training Accuracy')\n",
    "plt.plot(epochs_range, val_acc, label='Validation Accuracy')\n",
    "plt.legend(loc=\"lower right\")\n",
    "plt.title(\"Training and Validation Accuracy\")\n",
    "\n",
    "# Plot Training and Validation AUC Score\n",
    "plt.subplot(1, 3, 2)\n",
    "plt.plot(epochs_range, auc, label='Training AUC Score')\n",
    "plt.plot(epochs_range, val_auc, label='Validation AUC Score')\n",
    "plt.legend(loc=\"lower right\")\n",
    "plt.title(\"Training and Validation AUC Score\")\n",
    "\n",
    "# Plot Training and Validation Loss\n",
    "plt.subplot(1, 3, 3)\n",
    "plt.plot(epochs_range, loss, label='Training Loss')\n",
    "plt.plot(epochs_range, val_loss, label='Validation Loss')\n",
    "plt.legend(loc=\"upper right\")\n",
    "plt.title(\"Training and Validation Loss\")\n",
    "\n",
    "plt.tight_layout()\n",
    "plt.show()"
   ]
  },
  {
   "cell_type": "markdown",
   "id": "849d07db",
   "metadata": {
    "papermill": {
     "duration": 0.05314,
     "end_time": "2023-10-05T17:55:32.903483",
     "exception": false,
     "start_time": "2023-10-05T17:55:32.850343",
     "status": "completed"
    },
    "tags": []
   },
   "source": [
    "## The model is overfitting, lets add dropout layers"
   ]
  },
  {
   "cell_type": "markdown",
   "id": "08fc0d67",
   "metadata": {
    "papermill": {
     "duration": 0.052971,
     "end_time": "2023-10-05T17:55:33.010078",
     "exception": false,
     "start_time": "2023-10-05T17:55:32.957107",
     "status": "completed"
    },
    "tags": []
   },
   "source": [
    "## Model 2"
   ]
  },
  {
   "cell_type": "code",
   "execution_count": 30,
   "id": "24652c2a",
   "metadata": {
    "execution": {
     "iopub.execute_input": "2023-10-05T17:55:33.122180Z",
     "iopub.status.busy": "2023-10-05T17:55:33.121849Z",
     "iopub.status.idle": "2023-10-05T17:55:33.172577Z",
     "shell.execute_reply": "2023-10-05T17:55:33.171610Z"
    },
    "papermill": {
     "duration": 0.109111,
     "end_time": "2023-10-05T17:55:33.174767",
     "exception": false,
     "start_time": "2023-10-05T17:55:33.065656",
     "status": "completed"
    },
    "tags": []
   },
   "outputs": [],
   "source": [
    "model = Sequential()\n",
    "model.add(Dense(64, input_shape=(X_train.shape[-1],), activation=\"relu\"))\n",
    "model.add(Dense(32, activation=\"relu\"))\n",
    "\n",
    "## adding dropout layers which reduce overfitting\n",
    "model.add(Dropout(0.4))\n",
    "model.add(Dense(16, activation=\"relu\"))\n",
    "model.add(Dropout(0.4))\n",
    "model.add(Dense(1, activation=\"sigmoid\"))"
   ]
  },
  {
   "cell_type": "code",
   "execution_count": 31,
   "id": "1da028c8",
   "metadata": {
    "execution": {
     "iopub.execute_input": "2023-10-05T17:55:33.290917Z",
     "iopub.status.busy": "2023-10-05T17:55:33.290521Z",
     "iopub.status.idle": "2023-10-05T17:55:33.314821Z",
     "shell.execute_reply": "2023-10-05T17:55:33.313889Z"
    },
    "papermill": {
     "duration": 0.095688,
     "end_time": "2023-10-05T17:55:33.326073",
     "exception": false,
     "start_time": "2023-10-05T17:55:33.230385",
     "status": "completed"
    },
    "tags": []
   },
   "outputs": [
    {
     "name": "stdout",
     "output_type": "stream",
     "text": [
      "Model: \"sequential_1\"\n",
      "_________________________________________________________________\n",
      " Layer (type)                Output Shape              Param #   \n",
      "=================================================================\n",
      " dense_4 (Dense)             (None, 64)                704       \n",
      "                                                                 \n",
      " dense_5 (Dense)             (None, 32)                2080      \n",
      "                                                                 \n",
      " dropout (Dropout)           (None, 32)                0         \n",
      "                                                                 \n",
      " dense_6 (Dense)             (None, 16)                528       \n",
      "                                                                 \n",
      " dropout_1 (Dropout)         (None, 16)                0         \n",
      "                                                                 \n",
      " dense_7 (Dense)             (None, 1)                 17        \n",
      "                                                                 \n",
      "=================================================================\n",
      "Total params: 3,329\n",
      "Trainable params: 3,329\n",
      "Non-trainable params: 0\n",
      "_________________________________________________________________\n"
     ]
    }
   ],
   "source": [
    "model.summary()"
   ]
  },
  {
   "cell_type": "code",
   "execution_count": 32,
   "id": "94bc4b8c",
   "metadata": {
    "execution": {
     "iopub.execute_input": "2023-10-05T17:55:33.441290Z",
     "iopub.status.busy": "2023-10-05T17:55:33.440898Z",
     "iopub.status.idle": "2023-10-05T17:55:33.451572Z",
     "shell.execute_reply": "2023-10-05T17:55:33.450601Z"
    },
    "papermill": {
     "duration": 0.070938,
     "end_time": "2023-10-05T17:55:33.453545",
     "exception": false,
     "start_time": "2023-10-05T17:55:33.382607",
     "status": "completed"
    },
    "tags": []
   },
   "outputs": [],
   "source": [
    "# Compile the model \n",
    "model.compile(optimizer=keras.optimizers.Adam(0.01),\n",
    "             loss=\"binary_crossentropy\",\n",
    "             metrics=metrics)"
   ]
  },
  {
   "cell_type": "code",
   "execution_count": 33,
   "id": "41dc2667",
   "metadata": {
    "execution": {
     "iopub.execute_input": "2023-10-05T17:55:33.569434Z",
     "iopub.status.busy": "2023-10-05T17:55:33.568466Z",
     "iopub.status.idle": "2023-10-05T17:56:28.890076Z",
     "shell.execute_reply": "2023-10-05T17:56:28.888899Z"
    },
    "papermill": {
     "duration": 55.38093,
     "end_time": "2023-10-05T17:56:28.892317",
     "exception": false,
     "start_time": "2023-10-05T17:55:33.511387",
     "status": "completed"
    },
    "tags": []
   },
   "outputs": [
    {
     "name": "stdout",
     "output_type": "stream",
     "text": [
      "Epoch 1/10\n",
      "1046/1046 [==============================] - 8s 6ms/step - loss: 0.5742 - accuracy: 0.7093 - auc: 0.7749 - val_loss: 0.5585 - val_accuracy: 0.7277 - val_auc: 0.7801\n",
      "Epoch 2/10\n",
      "1046/1046 [==============================] - 5s 5ms/step - loss: 0.5562 - accuracy: 0.7252 - auc: 0.7887 - val_loss: 0.5299 - val_accuracy: 0.7683 - val_auc: 0.7870\n",
      "Epoch 3/10\n",
      "1046/1046 [==============================] - 5s 5ms/step - loss: 0.5450 - accuracy: 0.7332 - auc: 0.7985 - val_loss: 0.4565 - val_accuracy: 0.7791 - val_auc: 0.7890\n",
      "Epoch 4/10\n",
      "1046/1046 [==============================] - 5s 5ms/step - loss: 0.5393 - accuracy: 0.7371 - auc: 0.8023 - val_loss: 0.5337 - val_accuracy: 0.7530 - val_auc: 0.7916\n",
      "Epoch 5/10\n",
      "1046/1046 [==============================] - 5s 5ms/step - loss: 0.5363 - accuracy: 0.7385 - auc: 0.8045 - val_loss: 0.5833 - val_accuracy: 0.7195 - val_auc: 0.7901\n",
      "Epoch 6/10\n",
      "1046/1046 [==============================] - 5s 5ms/step - loss: 0.5339 - accuracy: 0.7420 - auc: 0.8072 - val_loss: 0.5331 - val_accuracy: 0.7467 - val_auc: 0.7899\n",
      "Epoch 7/10\n",
      "1046/1046 [==============================] - 6s 6ms/step - loss: 0.5314 - accuracy: 0.7419 - auc: 0.8089 - val_loss: 0.5301 - val_accuracy: 0.7471 - val_auc: 0.7883\n",
      "Epoch 8/10\n",
      "1046/1046 [==============================] - 5s 5ms/step - loss: 0.5299 - accuracy: 0.7427 - auc: 0.8100 - val_loss: 0.5342 - val_accuracy: 0.7363 - val_auc: 0.7877\n",
      "Epoch 9/10\n",
      "1046/1046 [==============================] - 5s 5ms/step - loss: 0.5308 - accuracy: 0.7437 - auc: 0.8098 - val_loss: 0.4982 - val_accuracy: 0.7522 - val_auc: 0.7835\n",
      "Epoch 10/10\n",
      "1046/1046 [==============================] - 5s 5ms/step - loss: 0.5281 - accuracy: 0.7443 - auc: 0.8114 - val_loss: 0.6041 - val_accuracy: 0.6982 - val_auc: 0.7867\n"
     ]
    }
   ],
   "source": [
    "epochs = 10\n",
    "batch_size = 128\n",
    "history = model.fit(X_train, y_train, validation_data=(X_test, y_test), epochs=epochs, batch_size=batch_size)"
   ]
  },
  {
   "cell_type": "code",
   "execution_count": 34,
   "id": "e8c2ff70",
   "metadata": {
    "execution": {
     "iopub.execute_input": "2023-10-05T17:56:29.167864Z",
     "iopub.status.busy": "2023-10-05T17:56:29.167472Z",
     "iopub.status.idle": "2023-10-05T17:56:29.173526Z",
     "shell.execute_reply": "2023-10-05T17:56:29.172625Z"
    },
    "papermill": {
     "duration": 0.172397,
     "end_time": "2023-10-05T17:56:29.175470",
     "exception": false,
     "start_time": "2023-10-05T17:56:29.003073",
     "status": "completed"
    },
    "tags": []
   },
   "outputs": [
    {
     "data": {
      "text/plain": [
       "dict_keys(['loss', 'accuracy', 'auc', 'val_loss', 'val_accuracy', 'val_auc'])"
      ]
     },
     "execution_count": 34,
     "metadata": {},
     "output_type": "execute_result"
    }
   ],
   "source": [
    "history.history.keys()"
   ]
  },
  {
   "cell_type": "code",
   "execution_count": 35,
   "id": "708c0a75",
   "metadata": {
    "execution": {
     "iopub.execute_input": "2023-10-05T17:56:29.387061Z",
     "iopub.status.busy": "2023-10-05T17:56:29.386707Z",
     "iopub.status.idle": "2023-10-05T17:56:30.244170Z",
     "shell.execute_reply": "2023-10-05T17:56:30.243261Z"
    },
    "papermill": {
     "duration": 0.969188,
     "end_time": "2023-10-05T17:56:30.246902",
     "exception": false,
     "start_time": "2023-10-05T17:56:29.277714",
     "status": "completed"
    },
    "tags": []
   },
   "outputs": [
    {
     "data": {
      "image/png": "[encoded data removed]",
      "text/plain": [
       "<Figure size 1800x600 with 3 Axes>"
      ]
     },
     "metadata": {},
     "output_type": "display_data"
    }
   ],
   "source": [
    "# Extract the relevant metrics\n",
    "acc = history.history['accuracy']\n",
    "val_acc = history.history['val_accuracy']\n",
    "auc = history.history['auc']\n",
    "val_auc = history.history['val_auc']\n",
    "loss = history.history['loss']\n",
    "val_loss = history.history['val_loss']\n",
    "\n",
    "epochs_range = range(1, epochs + 1)\n",
    "\n",
    "# Create subplots\n",
    "plt.figure(figsize=(18, 6))\n",
    "\n",
    "# Plot Training and Validation Accuracy\n",
    "plt.subplot(1, 3, 1)\n",
    "plt.plot(epochs_range, acc, label='Training Accuracy')\n",
    "plt.plot(epochs_range, val_acc, label='Validation Accuracy')\n",
    "plt.legend(loc=\"lower right\")\n",
    "plt.title(\"Training and Validation Accuracy\")\n",
    "\n",
    "# Plot Training and Validation AUC Score\n",
    "plt.subplot(1, 3, 2)\n",
    "plt.plot(epochs_range, auc, label='Training AUC Score')\n",
    "plt.plot(epochs_range, val_auc, label='Validation AUC Score')\n",
    "plt.legend(loc=\"lower right\")\n",
    "plt.title(\"Training and Validation AUC Score\")\n",
    "\n",
    "# Plot Training and Validation Loss\n",
    "plt.subplot(1, 3, 3)\n",
    "plt.plot(epochs_range, loss, label='Training Loss')\n",
    "plt.plot(epochs_range, val_loss, label='Validation Loss')\n",
    "plt.legend(loc=\"upper right\")\n",
    "plt.title(\"Training and Validation Loss\")\n",
    "\n",
    "plt.tight_layout()\n",
    "plt.show()\n"
   ]
  },
  {
   "cell_type": "markdown",
   "id": "7cc9b927",
   "metadata": {
    "papermill": {
     "duration": 0.108798,
     "end_time": "2023-10-05T17:56:30.457524",
     "exception": false,
     "start_time": "2023-10-05T17:56:30.348726",
     "status": "completed"
    },
    "tags": []
   },
   "source": [
    "## Using Keras Tuner"
   ]
  },
  {
   "cell_type": "code",
   "execution_count": 36,
   "id": "9e5e0ab8",
   "metadata": {
    "execution": {
     "iopub.execute_input": "2023-10-05T17:56:30.676763Z",
     "iopub.status.busy": "2023-10-05T17:56:30.676394Z",
     "iopub.status.idle": "2023-10-05T17:56:31.113559Z",
     "shell.execute_reply": "2023-10-05T17:56:31.112619Z"
    },
    "papermill": {
     "duration": 0.54643,
     "end_time": "2023-10-05T17:56:31.115815",
     "exception": false,
     "start_time": "2023-10-05T17:56:30.569385",
     "status": "completed"
    },
    "tags": []
   },
   "outputs": [],
   "source": [
    "import kerastuner as kt"
   ]
  },
  {
   "cell_type": "code",
   "execution_count": 37,
   "id": "0b9d9248",
   "metadata": {
    "execution": {
     "iopub.execute_input": "2023-10-05T17:56:31.328130Z",
     "iopub.status.busy": "2023-10-05T17:56:31.327773Z",
     "iopub.status.idle": "2023-10-05T17:56:31.335237Z",
     "shell.execute_reply": "2023-10-05T17:56:31.334127Z"
    },
    "papermill": {
     "duration": 0.116794,
     "end_time": "2023-10-05T17:56:31.337101",
     "exception": false,
     "start_time": "2023-10-05T17:56:31.220307",
     "status": "completed"
    },
    "tags": []
   },
   "outputs": [],
   "source": [
    "def model_builder(hp):\n",
    "  model = keras.Sequential()\n",
    "  model.add(keras.layers.Flatten(input_shape=[10]))\n",
    "  \n",
    "  # Tune the number of units in the first Dense layer\n",
    "  # Choose an optimal value between 32-512\n",
    "  hp_units = hp.Int('units', min_value=32, max_value=512, step=32)\n",
    "  model.add(keras.layers.Dense(units=hp_units, activation='relu'))\n",
    "  model.add(keras.layers.Dense(units=hp_units, activation='relu'))\n",
    "  model.add(keras.layers.Dense(1, activation='sigmoid'))\n",
    "\n",
    "  # Tune the learning rate for the optimizer\n",
    "  # Choose an optimal value from 0.01, 0.001, or 0.0001\n",
    "  hp_learning_rate = hp.Choice('learning_rate', values=[1e-2, 1e-3, 1e-4])\n",
    "\n",
    "  metrics = [\n",
    "    keras.metrics.BinaryAccuracy(\"accuracy\"),\n",
    "    keras.metrics.AUC(curve=\"roc\")]\n",
    "\n",
    "  model.compile(optimizer=keras.optimizers.Adam(learning_rate=hp_learning_rate),\n",
    "                loss=keras.losses.BinaryCrossentropy(),\n",
    "                metrics=metrics)\n",
    "\n",
    "  return model"
   ]
  },
  {
   "cell_type": "code",
   "execution_count": 38,
   "id": "e75a6b0e",
   "metadata": {
    "execution": {
     "iopub.execute_input": "2023-10-05T17:56:31.562012Z",
     "iopub.status.busy": "2023-10-05T17:56:31.561164Z",
     "iopub.status.idle": "2023-10-05T17:56:31.626957Z",
     "shell.execute_reply": "2023-10-05T17:56:31.625906Z"
    },
    "papermill": {
     "duration": 0.18224,
     "end_time": "2023-10-05T17:56:31.629223",
     "exception": false,
     "start_time": "2023-10-05T17:56:31.446983",
     "status": "completed"
    },
    "tags": []
   },
   "outputs": [],
   "source": [
    "tuner = kt.RandomSearch(\n",
    "    model_builder,\n",
    "    objective='val_loss',\n",
    "    max_trials=5)"
   ]
  },
  {
   "cell_type": "code",
   "execution_count": 39,
   "id": "3241a323",
   "metadata": {
    "execution": {
     "iopub.execute_input": "2023-10-05T17:56:31.889221Z",
     "iopub.status.busy": "2023-10-05T17:56:31.888533Z",
     "iopub.status.idle": "2023-10-05T17:56:31.893140Z",
     "shell.execute_reply": "2023-10-05T17:56:31.892147Z"
    },
    "papermill": {
     "duration": 0.112139,
     "end_time": "2023-10-05T17:56:31.894920",
     "exception": false,
     "start_time": "2023-10-05T17:56:31.782781",
     "status": "completed"
    },
    "tags": []
   },
   "outputs": [],
   "source": [
    "# using early stopping to stop training the model when optimal value of recall and loss values are achieved.\n",
    "stop_early = tf.keras.callbacks.EarlyStopping(monitor='val_auc', patience=5)"
   ]
  },
  {
   "cell_type": "code",
   "execution_count": 40,
   "id": "2f4fdd5c",
   "metadata": {
    "execution": {
     "iopub.execute_input": "2023-10-05T17:56:32.102313Z",
     "iopub.status.busy": "2023-10-05T17:56:32.101962Z",
     "iopub.status.idle": "2023-10-05T18:12:24.896332Z",
     "shell.execute_reply": "2023-10-05T18:12:24.895503Z"
    },
    "papermill": {
     "duration": 952.905476,
     "end_time": "2023-10-05T18:12:24.900123",
     "exception": false,
     "start_time": "2023-10-05T17:56:31.994647",
     "status": "completed"
    },
    "tags": []
   },
   "outputs": [
    {
     "name": "stdout",
     "output_type": "stream",
     "text": [
      "Trial 5 Complete [00h 03m 31s]\n",
      "val_loss: 0.4831046462059021\n",
      "\n",
      "Best val_loss So Far: 0.45024433732032776\n",
      "Total elapsed time: 00h 15m 53s\n",
      "\n",
      "The hyperparameter search is complete. The optimal number of units in the first densely-connected\n",
      "layer is 448 and the optimal learning rate for the optimizer\n",
      "is 0.01.\n",
      "\n"
     ]
    }
   ],
   "source": [
    "tuner.search(X_train, y_train, epochs=20, validation_data = (X_test, y_test), callbacks=[stop_early])\n",
    "\n",
    "# Get the optimal hyperparameters\n",
    "best_hps=tuner.get_best_hyperparameters(num_trials=1)[0]\n",
    "\n",
    "print(f\"\"\"\n",
    "The hyperparameter search is complete. The optimal number of units in the first densely-connected\n",
    "layer is {best_hps.get('units')} and the optimal learning rate for the optimizer\n",
    "is {best_hps.get('learning_rate')}.\n",
    "\"\"\")"
   ]
  },
  {
   "cell_type": "code",
   "execution_count": 41,
   "id": "b5bdf6d2",
   "metadata": {
    "execution": {
     "iopub.execute_input": "2023-10-05T18:12:25.103861Z",
     "iopub.status.busy": "2023-10-05T18:12:25.103503Z",
     "iopub.status.idle": "2023-10-05T18:12:34.619400Z",
     "shell.execute_reply": "2023-10-05T18:12:34.618455Z"
    },
    "papermill": {
     "duration": 9.620171,
     "end_time": "2023-10-05T18:12:34.621515",
     "exception": false,
     "start_time": "2023-10-05T18:12:25.001344",
     "status": "completed"
    },
    "tags": []
   },
   "outputs": [],
   "source": [
    "model = Sequential()\n",
    "model.add(Dense(384, input_shape=(X_train.shape[-1],), activation='relu'))\n",
    "model.add(Dense(384, activation='relu'))\n",
    "model.add(Dense(1, activation='sigmoid'))"
   ]
  },
  {
   "cell_type": "code",
   "execution_count": 42,
   "id": "e9ae14c3",
   "metadata": {
    "execution": {
     "iopub.execute_input": "2023-10-05T18:12:34.817901Z",
     "iopub.status.busy": "2023-10-05T18:12:34.817533Z",
     "iopub.status.idle": "2023-10-05T18:12:34.828965Z",
     "shell.execute_reply": "2023-10-05T18:12:34.828061Z"
    },
    "papermill": {
     "duration": 0.109646,
     "end_time": "2023-10-05T18:12:34.831010",
     "exception": false,
     "start_time": "2023-10-05T18:12:34.721364",
     "status": "completed"
    },
    "tags": []
   },
   "outputs": [],
   "source": [
    "model.compile(optimizer=keras.optimizers.Adam(0.0001),\n",
    "             loss='binary_crossentropy',\n",
    "             metrics=metrics)"
   ]
  },
  {
   "cell_type": "markdown",
   "id": "2a806f96",
   "metadata": {
    "papermill": {
     "duration": 0.107664,
     "end_time": "2023-10-05T18:12:35.043877",
     "exception": false,
     "start_time": "2023-10-05T18:12:34.936213",
     "status": "completed"
    },
    "tags": []
   },
   "source": [
    "## Train the final model"
   ]
  },
  {
   "cell_type": "code",
   "execution_count": 43,
   "id": "a4d60833",
   "metadata": {
    "execution": {
     "iopub.execute_input": "2023-10-05T18:12:35.254059Z",
     "iopub.status.busy": "2023-10-05T18:12:35.253727Z",
     "iopub.status.idle": "2023-10-05T18:46:57.878060Z",
     "shell.execute_reply": "2023-10-05T18:46:57.876449Z"
    },
    "papermill": {
     "duration": 2062.728685,
     "end_time": "2023-10-05T18:46:57.880216",
     "exception": false,
     "start_time": "2023-10-05T18:12:35.151531",
     "status": "completed"
    },
    "tags": []
   },
   "outputs": [
    {
     "name": "stdout",
     "output_type": "stream",
     "text": [
      "Epoch 1/400\n",
      "1046/1046 [==============================] - 7s 5ms/step - loss: 0.5618 - accuracy: 0.7114 - auc: 0.7764 - val_loss: 0.5065 - val_accuracy: 0.7537 - val_auc: 0.7823\n",
      "Epoch 2/400\n",
      "1046/1046 [==============================] - 5s 5ms/step - loss: 0.5419 - accuracy: 0.7294 - auc: 0.7991 - val_loss: 0.5283 - val_accuracy: 0.7299 - val_auc: 0.7841\n",
      "Epoch 3/400\n",
      "1046/1046 [==============================] - 5s 5ms/step - loss: 0.5363 - accuracy: 0.7340 - auc: 0.8037 - val_loss: 0.4965 - val_accuracy: 0.7523 - val_auc: 0.7876\n",
      "Epoch 4/400\n",
      "1046/1046 [==============================] - 5s 5ms/step - loss: 0.5322 - accuracy: 0.7368 - auc: 0.8071 - val_loss: 0.5734 - val_accuracy: 0.6989 - val_auc: 0.7875\n",
      "Epoch 5/400\n",
      "1046/1046 [==============================] - 5s 5ms/step - loss: 0.5285 - accuracy: 0.7391 - auc: 0.8101 - val_loss: 0.5600 - val_accuracy: 0.7103 - val_auc: 0.7863\n",
      "Epoch 6/400\n",
      "1046/1046 [==============================] - 5s 5ms/step - loss: 0.5251 - accuracy: 0.7408 - auc: 0.8128 - val_loss: 0.5265 - val_accuracy: 0.7329 - val_auc: 0.7876\n",
      "Epoch 7/400\n",
      "1046/1046 [==============================] - 6s 6ms/step - loss: 0.5223 - accuracy: 0.7424 - auc: 0.8152 - val_loss: 0.5416 - val_accuracy: 0.7262 - val_auc: 0.7887\n",
      "Epoch 8/400\n",
      "1046/1046 [==============================] - 5s 5ms/step - loss: 0.5191 - accuracy: 0.7445 - auc: 0.8177 - val_loss: 0.5155 - val_accuracy: 0.7412 - val_auc: 0.7900\n",
      "Epoch 9/400\n",
      "1046/1046 [==============================] - 5s 4ms/step - loss: 0.5166 - accuracy: 0.7461 - auc: 0.8196 - val_loss: 0.5706 - val_accuracy: 0.7000 - val_auc: 0.7921\n",
      "Epoch 10/400\n",
      "1046/1046 [==============================] - 5s 4ms/step - loss: 0.5141 - accuracy: 0.7475 - auc: 0.8215 - val_loss: 0.5205 - val_accuracy: 0.7371 - val_auc: 0.7872\n",
      "Epoch 11/400\n",
      "1046/1046 [==============================] - 5s 5ms/step - loss: 0.5119 - accuracy: 0.7488 - auc: 0.8232 - val_loss: 0.4992 - val_accuracy: 0.7520 - val_auc: 0.7922\n",
      "Epoch 12/400\n",
      "1046/1046 [==============================] - 5s 4ms/step - loss: 0.5098 - accuracy: 0.7506 - auc: 0.8248 - val_loss: 0.4964 - val_accuracy: 0.7509 - val_auc: 0.7902\n",
      "Epoch 13/400\n",
      "1046/1046 [==============================] - 5s 5ms/step - loss: 0.5077 - accuracy: 0.7521 - auc: 0.8264 - val_loss: 0.5430 - val_accuracy: 0.7262 - val_auc: 0.7901\n",
      "Epoch 14/400\n",
      "1046/1046 [==============================] - 5s 5ms/step - loss: 0.5055 - accuracy: 0.7529 - auc: 0.8281 - val_loss: 0.5308 - val_accuracy: 0.7269 - val_auc: 0.7864\n",
      "Epoch 15/400\n",
      "1046/1046 [==============================] - 5s 5ms/step - loss: 0.5033 - accuracy: 0.7547 - auc: 0.8297 - val_loss: 0.5505 - val_accuracy: 0.7143 - val_auc: 0.7890\n",
      "Epoch 16/400\n",
      "1046/1046 [==============================] - 5s 5ms/step - loss: 0.5017 - accuracy: 0.7561 - auc: 0.8310 - val_loss: 0.4916 - val_accuracy: 0.7530 - val_auc: 0.7879\n",
      "Epoch 17/400\n",
      "1046/1046 [==============================] - 5s 5ms/step - loss: 0.4999 - accuracy: 0.7576 - auc: 0.8322 - val_loss: 0.5665 - val_accuracy: 0.7098 - val_auc: 0.7892\n",
      "Epoch 18/400\n",
      "1046/1046 [==============================] - 5s 5ms/step - loss: 0.4979 - accuracy: 0.7587 - auc: 0.8339 - val_loss: 0.5542 - val_accuracy: 0.7093 - val_auc: 0.7859\n",
      "Epoch 19/400\n",
      "1046/1046 [==============================] - 5s 5ms/step - loss: 0.4963 - accuracy: 0.7599 - auc: 0.8350 - val_loss: 0.5126 - val_accuracy: 0.7425 - val_auc: 0.7901\n",
      "Epoch 20/400\n",
      "1046/1046 [==============================] - 5s 5ms/step - loss: 0.4943 - accuracy: 0.7613 - auc: 0.8365 - val_loss: 0.5210 - val_accuracy: 0.7347 - val_auc: 0.7881\n",
      "Epoch 21/400\n",
      "1046/1046 [==============================] - 5s 5ms/step - loss: 0.4925 - accuracy: 0.7622 - auc: 0.8378 - val_loss: 0.5097 - val_accuracy: 0.7394 - val_auc: 0.7830\n",
      "Epoch 22/400\n",
      "1046/1046 [==============================] - 5s 4ms/step - loss: 0.4905 - accuracy: 0.7629 - auc: 0.8392 - val_loss: 0.4762 - val_accuracy: 0.7627 - val_auc: 0.7857\n",
      "Epoch 23/400\n",
      "1046/1046 [==============================] - 5s 5ms/step - loss: 0.4888 - accuracy: 0.7642 - auc: 0.8405 - val_loss: 0.5298 - val_accuracy: 0.7328 - val_auc: 0.7860\n",
      "Epoch 24/400\n",
      "1046/1046 [==============================] - 5s 4ms/step - loss: 0.4873 - accuracy: 0.7651 - auc: 0.8415 - val_loss: 0.6067 - val_accuracy: 0.6775 - val_auc: 0.7793\n",
      "Epoch 25/400\n",
      "1046/1046 [==============================] - 5s 5ms/step - loss: 0.4855 - accuracy: 0.7661 - auc: 0.8428 - val_loss: 0.4908 - val_accuracy: 0.7539 - val_auc: 0.7842\n",
      "Epoch 26/400\n",
      "1046/1046 [==============================] - 4s 4ms/step - loss: 0.4836 - accuracy: 0.7671 - auc: 0.8442 - val_loss: 0.4893 - val_accuracy: 0.7540 - val_auc: 0.7811\n",
      "Epoch 27/400\n",
      "1046/1046 [==============================] - 5s 5ms/step - loss: 0.4821 - accuracy: 0.7683 - auc: 0.8453 - val_loss: 0.4833 - val_accuracy: 0.7570 - val_auc: 0.7826\n",
      "Epoch 28/400\n",
      "1046/1046 [==============================] - 5s 5ms/step - loss: 0.4803 - accuracy: 0.7684 - auc: 0.8466 - val_loss: 0.4975 - val_accuracy: 0.7507 - val_auc: 0.7814\n",
      "Epoch 29/400\n",
      "1046/1046 [==============================] - 5s 5ms/step - loss: 0.4789 - accuracy: 0.7695 - auc: 0.8476 - val_loss: 0.5554 - val_accuracy: 0.7201 - val_auc: 0.7823\n",
      "Epoch 30/400\n",
      "1046/1046 [==============================] - 5s 5ms/step - loss: 0.4767 - accuracy: 0.7716 - auc: 0.8491 - val_loss: 0.5330 - val_accuracy: 0.7226 - val_auc: 0.7776\n",
      "Epoch 31/400\n",
      "1046/1046 [==============================] - 5s 5ms/step - loss: 0.4758 - accuracy: 0.7715 - auc: 0.8497 - val_loss: 0.4764 - val_accuracy: 0.7662 - val_auc: 0.7809\n",
      "Epoch 32/400\n",
      "1046/1046 [==============================] - 5s 5ms/step - loss: 0.4739 - accuracy: 0.7725 - auc: 0.8510 - val_loss: 0.5129 - val_accuracy: 0.7397 - val_auc: 0.7801\n",
      "Epoch 33/400\n",
      "1046/1046 [==============================] - 5s 5ms/step - loss: 0.4724 - accuracy: 0.7736 - auc: 0.8521 - val_loss: 0.5269 - val_accuracy: 0.7327 - val_auc: 0.7818\n",
      "Epoch 34/400\n",
      "1046/1046 [==============================] - 5s 5ms/step - loss: 0.4710 - accuracy: 0.7744 - auc: 0.8531 - val_loss: 0.4749 - val_accuracy: 0.7622 - val_auc: 0.7791\n",
      "Epoch 35/400\n",
      "1046/1046 [==============================] - 5s 5ms/step - loss: 0.4696 - accuracy: 0.7755 - auc: 0.8540 - val_loss: 0.5787 - val_accuracy: 0.7021 - val_auc: 0.7782\n",
      "Epoch 36/400\n",
      "1046/1046 [==============================] - 5s 5ms/step - loss: 0.4680 - accuracy: 0.7760 - auc: 0.8551 - val_loss: 0.5286 - val_accuracy: 0.7311 - val_auc: 0.7781\n",
      "Epoch 37/400\n",
      "1046/1046 [==============================] - 5s 5ms/step - loss: 0.4664 - accuracy: 0.7780 - auc: 0.8563 - val_loss: 0.5152 - val_accuracy: 0.7378 - val_auc: 0.7775\n",
      "Epoch 38/400\n",
      "1046/1046 [==============================] - 5s 5ms/step - loss: 0.4650 - accuracy: 0.7781 - auc: 0.8572 - val_loss: 0.5442 - val_accuracy: 0.7189 - val_auc: 0.7718\n",
      "Epoch 39/400\n",
      "1046/1046 [==============================] - 5s 5ms/step - loss: 0.4634 - accuracy: 0.7795 - auc: 0.8583 - val_loss: 0.5209 - val_accuracy: 0.7353 - val_auc: 0.7723\n",
      "Epoch 40/400\n",
      "1046/1046 [==============================] - 6s 5ms/step - loss: 0.4624 - accuracy: 0.7799 - auc: 0.8589 - val_loss: 0.5209 - val_accuracy: 0.7345 - val_auc: 0.7707\n",
      "Epoch 41/400\n",
      "1046/1046 [==============================] - 5s 5ms/step - loss: 0.4609 - accuracy: 0.7809 - auc: 0.8600 - val_loss: 0.5033 - val_accuracy: 0.7433 - val_auc: 0.7709\n",
      "Epoch 42/400\n",
      "1046/1046 [==============================] - 5s 5ms/step - loss: 0.4600 - accuracy: 0.7803 - auc: 0.8605 - val_loss: 0.5517 - val_accuracy: 0.7107 - val_auc: 0.7675\n",
      "Epoch 43/400\n",
      "1046/1046 [==============================] - 5s 5ms/step - loss: 0.4585 - accuracy: 0.7822 - auc: 0.8615 - val_loss: 0.5035 - val_accuracy: 0.7434 - val_auc: 0.7724\n",
      "Epoch 44/400\n",
      "1046/1046 [==============================] - 5s 5ms/step - loss: 0.4575 - accuracy: 0.7824 - auc: 0.8621 - val_loss: 0.5383 - val_accuracy: 0.7227 - val_auc: 0.7712\n",
      "Epoch 45/400\n",
      "1046/1046 [==============================] - 5s 5ms/step - loss: 0.4559 - accuracy: 0.7838 - auc: 0.8632 - val_loss: 0.5524 - val_accuracy: 0.7122 - val_auc: 0.7739\n",
      "Epoch 46/400\n",
      "1046/1046 [==============================] - 5s 5ms/step - loss: 0.4547 - accuracy: 0.7841 - auc: 0.8640 - val_loss: 0.4797 - val_accuracy: 0.7638 - val_auc: 0.7753\n",
      "Epoch 47/400\n",
      "1046/1046 [==============================] - 5s 5ms/step - loss: 0.4534 - accuracy: 0.7844 - auc: 0.8648 - val_loss: 0.4517 - val_accuracy: 0.7788 - val_auc: 0.7686\n",
      "Epoch 48/400\n",
      "1046/1046 [==============================] - 5s 5ms/step - loss: 0.4518 - accuracy: 0.7859 - auc: 0.8659 - val_loss: 0.4857 - val_accuracy: 0.7599 - val_auc: 0.7698\n",
      "Epoch 49/400\n",
      "1046/1046 [==============================] - 6s 5ms/step - loss: 0.4514 - accuracy: 0.7860 - auc: 0.8660 - val_loss: 0.5167 - val_accuracy: 0.7332 - val_auc: 0.7661\n",
      "Epoch 50/400\n",
      "1046/1046 [==============================] - 5s 5ms/step - loss: 0.4500 - accuracy: 0.7870 - auc: 0.8670 - val_loss: 0.4774 - val_accuracy: 0.7602 - val_auc: 0.7730\n",
      "Epoch 51/400\n",
      "1046/1046 [==============================] - 5s 5ms/step - loss: 0.4487 - accuracy: 0.7882 - auc: 0.8679 - val_loss: 0.5178 - val_accuracy: 0.7314 - val_auc: 0.7636\n",
      "Epoch 52/400\n",
      "1046/1046 [==============================] - 6s 5ms/step - loss: 0.4477 - accuracy: 0.7880 - auc: 0.8685 - val_loss: 0.4340 - val_accuracy: 0.7892 - val_auc: 0.7688\n",
      "Epoch 53/400\n",
      "1046/1046 [==============================] - 5s 5ms/step - loss: 0.4467 - accuracy: 0.7893 - auc: 0.8692 - val_loss: 0.5022 - val_accuracy: 0.7470 - val_auc: 0.7678\n",
      "Epoch 54/400\n",
      "1046/1046 [==============================] - 5s 4ms/step - loss: 0.4456 - accuracy: 0.7900 - auc: 0.8697 - val_loss: 0.4869 - val_accuracy: 0.7618 - val_auc: 0.7624\n",
      "Epoch 55/400\n",
      "1046/1046 [==============================] - 5s 5ms/step - loss: 0.4444 - accuracy: 0.7895 - auc: 0.8706 - val_loss: 0.4627 - val_accuracy: 0.7713 - val_auc: 0.7671\n",
      "Epoch 56/400\n",
      "1046/1046 [==============================] - 5s 4ms/step - loss: 0.4440 - accuracy: 0.7898 - auc: 0.8707 - val_loss: 0.5344 - val_accuracy: 0.7275 - val_auc: 0.7629\n",
      "Epoch 57/400\n",
      "1046/1046 [==============================] - 5s 5ms/step - loss: 0.4427 - accuracy: 0.7906 - auc: 0.8715 - val_loss: 0.4616 - val_accuracy: 0.7734 - val_auc: 0.7686\n",
      "Epoch 58/400\n",
      "1046/1046 [==============================] - 6s 5ms/step - loss: 0.4414 - accuracy: 0.7920 - auc: 0.8724 - val_loss: 0.5157 - val_accuracy: 0.7359 - val_auc: 0.7655\n",
      "Epoch 59/400\n",
      "1046/1046 [==============================] - 5s 5ms/step - loss: 0.4409 - accuracy: 0.7931 - auc: 0.8726 - val_loss: 0.4529 - val_accuracy: 0.7799 - val_auc: 0.7654\n",
      "Epoch 60/400\n",
      "1046/1046 [==============================] - 5s 5ms/step - loss: 0.4395 - accuracy: 0.7932 - auc: 0.8734 - val_loss: 0.4944 - val_accuracy: 0.7497 - val_auc: 0.7613\n",
      "Epoch 61/400\n",
      "1046/1046 [==============================] - 5s 5ms/step - loss: 0.4388 - accuracy: 0.7936 - auc: 0.8738 - val_loss: 0.4982 - val_accuracy: 0.7444 - val_auc: 0.7643\n",
      "Epoch 62/400\n",
      "1046/1046 [==============================] - 5s 5ms/step - loss: 0.4373 - accuracy: 0.7949 - auc: 0.8749 - val_loss: 0.5478 - val_accuracy: 0.7217 - val_auc: 0.7645\n",
      "Epoch 63/400\n",
      "1046/1046 [==============================] - 5s 5ms/step - loss: 0.4368 - accuracy: 0.7943 - auc: 0.8751 - val_loss: 0.4570 - val_accuracy: 0.7727 - val_auc: 0.7588\n",
      "Epoch 64/400\n",
      "1046/1046 [==============================] - 6s 6ms/step - loss: 0.4355 - accuracy: 0.7955 - auc: 0.8760 - val_loss: 0.5196 - val_accuracy: 0.7349 - val_auc: 0.7604\n",
      "Epoch 65/400\n",
      "1046/1046 [==============================] - 5s 5ms/step - loss: 0.4347 - accuracy: 0.7954 - auc: 0.8765 - val_loss: 0.5655 - val_accuracy: 0.7115 - val_auc: 0.7618\n",
      "Epoch 66/400\n",
      "1046/1046 [==============================] - 5s 5ms/step - loss: 0.4342 - accuracy: 0.7955 - auc: 0.8768 - val_loss: 0.4500 - val_accuracy: 0.7827 - val_auc: 0.7567\n",
      "Epoch 67/400\n",
      "1046/1046 [==============================] - 5s 5ms/step - loss: 0.4332 - accuracy: 0.7962 - auc: 0.8774 - val_loss: 0.5336 - val_accuracy: 0.7314 - val_auc: 0.7583\n",
      "Epoch 68/400\n",
      "1046/1046 [==============================] - 5s 5ms/step - loss: 0.4330 - accuracy: 0.7960 - auc: 0.8773 - val_loss: 0.5370 - val_accuracy: 0.7206 - val_auc: 0.7523\n",
      "Epoch 69/400\n",
      "1046/1046 [==============================] - 5s 5ms/step - loss: 0.4314 - accuracy: 0.7981 - auc: 0.8785 - val_loss: 0.4494 - val_accuracy: 0.7839 - val_auc: 0.7573\n",
      "Epoch 70/400\n",
      "1046/1046 [==============================] - 5s 5ms/step - loss: 0.4304 - accuracy: 0.7981 - auc: 0.8791 - val_loss: 0.5089 - val_accuracy: 0.7415 - val_auc: 0.7559\n",
      "Epoch 71/400\n",
      "1046/1046 [==============================] - 5s 5ms/step - loss: 0.4298 - accuracy: 0.7981 - auc: 0.8794 - val_loss: 0.4604 - val_accuracy: 0.7720 - val_auc: 0.7597\n",
      "Epoch 72/400\n",
      "1046/1046 [==============================] - 5s 5ms/step - loss: 0.4288 - accuracy: 0.7993 - auc: 0.8800 - val_loss: 0.5364 - val_accuracy: 0.7279 - val_auc: 0.7615\n",
      "Epoch 73/400\n",
      "1046/1046 [==============================] - 5s 5ms/step - loss: 0.4279 - accuracy: 0.7994 - auc: 0.8805 - val_loss: 0.4896 - val_accuracy: 0.7545 - val_auc: 0.7635\n",
      "Epoch 74/400\n",
      "1046/1046 [==============================] - 5s 5ms/step - loss: 0.4273 - accuracy: 0.7997 - auc: 0.8808 - val_loss: 0.5150 - val_accuracy: 0.7389 - val_auc: 0.7558\n",
      "Epoch 75/400\n",
      "1046/1046 [==============================] - 5s 5ms/step - loss: 0.4266 - accuracy: 0.8003 - auc: 0.8812 - val_loss: 0.4498 - val_accuracy: 0.7826 - val_auc: 0.7548\n",
      "Epoch 76/400\n",
      "1046/1046 [==============================] - 5s 5ms/step - loss: 0.4256 - accuracy: 0.8007 - auc: 0.8819 - val_loss: 0.4825 - val_accuracy: 0.7554 - val_auc: 0.7558\n",
      "Epoch 77/400\n",
      "1046/1046 [==============================] - 6s 5ms/step - loss: 0.4247 - accuracy: 0.8019 - auc: 0.8824 - val_loss: 0.5680 - val_accuracy: 0.7083 - val_auc: 0.7577\n",
      "Epoch 78/400\n",
      "1046/1046 [==============================] - 5s 4ms/step - loss: 0.4249 - accuracy: 0.8009 - auc: 0.8822 - val_loss: 0.4648 - val_accuracy: 0.7728 - val_auc: 0.7549\n",
      "Epoch 79/400\n",
      "1046/1046 [==============================] - 5s 5ms/step - loss: 0.4236 - accuracy: 0.8025 - auc: 0.8829 - val_loss: 0.5307 - val_accuracy: 0.7314 - val_auc: 0.7604\n",
      "Epoch 80/400\n",
      "1046/1046 [==============================] - 5s 5ms/step - loss: 0.4223 - accuracy: 0.8018 - auc: 0.8838 - val_loss: 0.5665 - val_accuracy: 0.7052 - val_auc: 0.7538\n",
      "Epoch 81/400\n",
      "1046/1046 [==============================] - 5s 5ms/step - loss: 0.4224 - accuracy: 0.8022 - auc: 0.8836 - val_loss: 0.4928 - val_accuracy: 0.7511 - val_auc: 0.7552\n",
      "Epoch 82/400\n",
      "1046/1046 [==============================] - 5s 5ms/step - loss: 0.4214 - accuracy: 0.8032 - auc: 0.8842 - val_loss: 0.6121 - val_accuracy: 0.6952 - val_auc: 0.7621\n",
      "Epoch 83/400\n",
      "1046/1046 [==============================] - 6s 5ms/step - loss: 0.4204 - accuracy: 0.8048 - auc: 0.8849 - val_loss: 0.5273 - val_accuracy: 0.7317 - val_auc: 0.7541\n",
      "Epoch 84/400\n",
      "1046/1046 [==============================] - 5s 5ms/step - loss: 0.4198 - accuracy: 0.8043 - auc: 0.8852 - val_loss: 0.5622 - val_accuracy: 0.7111 - val_auc: 0.7569\n",
      "Epoch 85/400\n",
      "1046/1046 [==============================] - 5s 5ms/step - loss: 0.4190 - accuracy: 0.8049 - auc: 0.8857 - val_loss: 0.5720 - val_accuracy: 0.7090 - val_auc: 0.7565\n",
      "Epoch 86/400\n",
      "1046/1046 [==============================] - 5s 5ms/step - loss: 0.4187 - accuracy: 0.8043 - auc: 0.8858 - val_loss: 0.4979 - val_accuracy: 0.7495 - val_auc: 0.7531\n",
      "Epoch 87/400\n",
      "1046/1046 [==============================] - 5s 5ms/step - loss: 0.4178 - accuracy: 0.8050 - auc: 0.8863 - val_loss: 0.5150 - val_accuracy: 0.7371 - val_auc: 0.7530\n",
      "Epoch 88/400\n",
      "1046/1046 [==============================] - 5s 5ms/step - loss: 0.4173 - accuracy: 0.8061 - auc: 0.8866 - val_loss: 0.6052 - val_accuracy: 0.6799 - val_auc: 0.7468\n",
      "Epoch 89/400\n",
      "1046/1046 [==============================] - 5s 4ms/step - loss: 0.4164 - accuracy: 0.8065 - auc: 0.8872 - val_loss: 0.5600 - val_accuracy: 0.7143 - val_auc: 0.7528\n",
      "Epoch 90/400\n",
      "1046/1046 [==============================] - 5s 5ms/step - loss: 0.4162 - accuracy: 0.8062 - auc: 0.8872 - val_loss: 0.4658 - val_accuracy: 0.7704 - val_auc: 0.7494\n",
      "Epoch 91/400\n",
      "1046/1046 [==============================] - 5s 5ms/step - loss: 0.4154 - accuracy: 0.8065 - auc: 0.8877 - val_loss: 0.4746 - val_accuracy: 0.7642 - val_auc: 0.7506\n",
      "Epoch 92/400\n",
      "1046/1046 [==============================] - 5s 5ms/step - loss: 0.4140 - accuracy: 0.8080 - auc: 0.8885 - val_loss: 0.4359 - val_accuracy: 0.7910 - val_auc: 0.7493\n",
      "Epoch 93/400\n",
      "1046/1046 [==============================] - 5s 4ms/step - loss: 0.4139 - accuracy: 0.8074 - auc: 0.8886 - val_loss: 0.5167 - val_accuracy: 0.7398 - val_auc: 0.7526\n",
      "Epoch 94/400\n",
      "1046/1046 [==============================] - 5s 5ms/step - loss: 0.4125 - accuracy: 0.8088 - auc: 0.8895 - val_loss: 0.5764 - val_accuracy: 0.7054 - val_auc: 0.7519\n",
      "Epoch 95/400\n",
      "1046/1046 [==============================] - 5s 5ms/step - loss: 0.4122 - accuracy: 0.8086 - auc: 0.8895 - val_loss: 0.5035 - val_accuracy: 0.7476 - val_auc: 0.7517\n",
      "Epoch 96/400\n",
      "1046/1046 [==============================] - 5s 5ms/step - loss: 0.4111 - accuracy: 0.8093 - auc: 0.8902 - val_loss: 0.4243 - val_accuracy: 0.7987 - val_auc: 0.7506\n",
      "Epoch 97/400\n",
      "1046/1046 [==============================] - 5s 4ms/step - loss: 0.4107 - accuracy: 0.8096 - auc: 0.8905 - val_loss: 0.4443 - val_accuracy: 0.7902 - val_auc: 0.7509\n",
      "Epoch 98/400\n",
      "1046/1046 [==============================] - 5s 5ms/step - loss: 0.4098 - accuracy: 0.8107 - auc: 0.8910 - val_loss: 0.4652 - val_accuracy: 0.7750 - val_auc: 0.7555\n",
      "Epoch 99/400\n",
      "1046/1046 [==============================] - 5s 4ms/step - loss: 0.4102 - accuracy: 0.8097 - auc: 0.8906 - val_loss: 0.4913 - val_accuracy: 0.7603 - val_auc: 0.7515\n",
      "Epoch 100/400\n",
      "1046/1046 [==============================] - 5s 5ms/step - loss: 0.4087 - accuracy: 0.8117 - auc: 0.8915 - val_loss: 0.4689 - val_accuracy: 0.7732 - val_auc: 0.7441\n",
      "Epoch 101/400\n",
      "1046/1046 [==============================] - 5s 5ms/step - loss: 0.4087 - accuracy: 0.8105 - auc: 0.8916 - val_loss: 0.4979 - val_accuracy: 0.7531 - val_auc: 0.7526\n",
      "Epoch 102/400\n",
      "1046/1046 [==============================] - 5s 5ms/step - loss: 0.4074 - accuracy: 0.8109 - auc: 0.8923 - val_loss: 0.5265 - val_accuracy: 0.7314 - val_auc: 0.7448\n",
      "Epoch 103/400\n",
      "1046/1046 [==============================] - 5s 5ms/step - loss: 0.4069 - accuracy: 0.8118 - auc: 0.8925 - val_loss: 0.5471 - val_accuracy: 0.7231 - val_auc: 0.7445\n",
      "Epoch 104/400\n",
      "1046/1046 [==============================] - 5s 5ms/step - loss: 0.4066 - accuracy: 0.8121 - auc: 0.8927 - val_loss: 0.4887 - val_accuracy: 0.7580 - val_auc: 0.7519\n",
      "Epoch 105/400\n",
      "1046/1046 [==============================] - 5s 5ms/step - loss: 0.4060 - accuracy: 0.8119 - auc: 0.8931 - val_loss: 0.4712 - val_accuracy: 0.7692 - val_auc: 0.7455\n",
      "Epoch 106/400\n",
      "1046/1046 [==============================] - 5s 4ms/step - loss: 0.4057 - accuracy: 0.8127 - auc: 0.8932 - val_loss: 0.5032 - val_accuracy: 0.7520 - val_auc: 0.7464\n",
      "Epoch 107/400\n",
      "1046/1046 [==============================] - 5s 4ms/step - loss: 0.4048 - accuracy: 0.8129 - auc: 0.8937 - val_loss: 0.5153 - val_accuracy: 0.7392 - val_auc: 0.7416\n",
      "Epoch 108/400\n",
      "1046/1046 [==============================] - 4s 4ms/step - loss: 0.4041 - accuracy: 0.8132 - auc: 0.8941 - val_loss: 0.4997 - val_accuracy: 0.7492 - val_auc: 0.7480\n",
      "Epoch 109/400\n",
      "1046/1046 [==============================] - 5s 5ms/step - loss: 0.4039 - accuracy: 0.8138 - auc: 0.8941 - val_loss: 0.5343 - val_accuracy: 0.7338 - val_auc: 0.7542\n",
      "Epoch 110/400\n",
      "1046/1046 [==============================] - 5s 5ms/step - loss: 0.4032 - accuracy: 0.8143 - auc: 0.8945 - val_loss: 0.4822 - val_accuracy: 0.7633 - val_auc: 0.7507\n",
      "Epoch 111/400\n",
      "1046/1046 [==============================] - 5s 5ms/step - loss: 0.4024 - accuracy: 0.8143 - auc: 0.8951 - val_loss: 0.5472 - val_accuracy: 0.7229 - val_auc: 0.7463\n",
      "Epoch 112/400\n",
      "1046/1046 [==============================] - 5s 4ms/step - loss: 0.4016 - accuracy: 0.8154 - auc: 0.8956 - val_loss: 0.4659 - val_accuracy: 0.7714 - val_auc: 0.7501\n",
      "Epoch 113/400\n",
      "1046/1046 [==============================] - 5s 4ms/step - loss: 0.4011 - accuracy: 0.8155 - auc: 0.8957 - val_loss: 0.5788 - val_accuracy: 0.7112 - val_auc: 0.7456\n",
      "Epoch 114/400\n",
      "1046/1046 [==============================] - 5s 5ms/step - loss: 0.4005 - accuracy: 0.8158 - auc: 0.8961 - val_loss: 0.5180 - val_accuracy: 0.7434 - val_auc: 0.7439\n",
      "Epoch 115/400\n",
      "1046/1046 [==============================] - 5s 4ms/step - loss: 0.4002 - accuracy: 0.8159 - auc: 0.8963 - val_loss: 0.5102 - val_accuracy: 0.7484 - val_auc: 0.7485\n",
      "Epoch 116/400\n",
      "1046/1046 [==============================] - 5s 5ms/step - loss: 0.3996 - accuracy: 0.8166 - auc: 0.8966 - val_loss: 0.4893 - val_accuracy: 0.7624 - val_auc: 0.7504\n",
      "Epoch 117/400\n",
      "1046/1046 [==============================] - 5s 5ms/step - loss: 0.3982 - accuracy: 0.8179 - auc: 0.8974 - val_loss: 0.4980 - val_accuracy: 0.7539 - val_auc: 0.7454\n",
      "Epoch 118/400\n",
      "1046/1046 [==============================] - 5s 5ms/step - loss: 0.3980 - accuracy: 0.8166 - auc: 0.8975 - val_loss: 0.5068 - val_accuracy: 0.7523 - val_auc: 0.7494\n",
      "Epoch 119/400\n",
      "1046/1046 [==============================] - 5s 5ms/step - loss: 0.3980 - accuracy: 0.8168 - auc: 0.8974 - val_loss: 0.4117 - val_accuracy: 0.8145 - val_auc: 0.7412\n",
      "Epoch 120/400\n",
      "1046/1046 [==============================] - 5s 4ms/step - loss: 0.3972 - accuracy: 0.8179 - auc: 0.8978 - val_loss: 0.4782 - val_accuracy: 0.7699 - val_auc: 0.7434\n",
      "Epoch 121/400\n",
      "1046/1046 [==============================] - 5s 4ms/step - loss: 0.3962 - accuracy: 0.8188 - auc: 0.8984 - val_loss: 0.5313 - val_accuracy: 0.7352 - val_auc: 0.7375\n",
      "Epoch 122/400\n",
      "1046/1046 [==============================] - 6s 5ms/step - loss: 0.3962 - accuracy: 0.8187 - auc: 0.8985 - val_loss: 0.4590 - val_accuracy: 0.7848 - val_auc: 0.7486\n",
      "Epoch 123/400\n",
      "1046/1046 [==============================] - 5s 5ms/step - loss: 0.3952 - accuracy: 0.8194 - auc: 0.8991 - val_loss: 0.5336 - val_accuracy: 0.7355 - val_auc: 0.7478\n",
      "Epoch 124/400\n",
      "1046/1046 [==============================] - 5s 5ms/step - loss: 0.3949 - accuracy: 0.8198 - auc: 0.8993 - val_loss: 0.5705 - val_accuracy: 0.7123 - val_auc: 0.7420\n",
      "Epoch 125/400\n",
      "1046/1046 [==============================] - 5s 5ms/step - loss: 0.3944 - accuracy: 0.8200 - auc: 0.8995 - val_loss: 0.4627 - val_accuracy: 0.7783 - val_auc: 0.7436\n",
      "Epoch 126/400\n",
      "1046/1046 [==============================] - 5s 5ms/step - loss: 0.3937 - accuracy: 0.8201 - auc: 0.8997 - val_loss: 0.4973 - val_accuracy: 0.7583 - val_auc: 0.7457\n",
      "Epoch 127/400\n",
      "1046/1046 [==============================] - 5s 4ms/step - loss: 0.3930 - accuracy: 0.8205 - auc: 0.9003 - val_loss: 0.4736 - val_accuracy: 0.7690 - val_auc: 0.7357\n",
      "Epoch 128/400\n",
      "1046/1046 [==============================] - 5s 5ms/step - loss: 0.3921 - accuracy: 0.8205 - auc: 0.9007 - val_loss: 0.5036 - val_accuracy: 0.7507 - val_auc: 0.7420\n",
      "Epoch 129/400\n",
      "1046/1046 [==============================] - 5s 5ms/step - loss: 0.3914 - accuracy: 0.8214 - auc: 0.9011 - val_loss: 0.5286 - val_accuracy: 0.7408 - val_auc: 0.7450\n",
      "Epoch 130/400\n",
      "1046/1046 [==============================] - 6s 5ms/step - loss: 0.3908 - accuracy: 0.8218 - auc: 0.9015 - val_loss: 0.5209 - val_accuracy: 0.7432 - val_auc: 0.7390\n",
      "Epoch 131/400\n",
      "1046/1046 [==============================] - 5s 5ms/step - loss: 0.3913 - accuracy: 0.8205 - auc: 0.9011 - val_loss: 0.5401 - val_accuracy: 0.7335 - val_auc: 0.7448\n",
      "Epoch 132/400\n",
      "1046/1046 [==============================] - 5s 5ms/step - loss: 0.3906 - accuracy: 0.8214 - auc: 0.9015 - val_loss: 0.4496 - val_accuracy: 0.7923 - val_auc: 0.7463\n",
      "Epoch 133/400\n",
      "1046/1046 [==============================] - 5s 5ms/step - loss: 0.3900 - accuracy: 0.8215 - auc: 0.9017 - val_loss: 0.5590 - val_accuracy: 0.7213 - val_auc: 0.7348\n",
      "Epoch 134/400\n",
      "1046/1046 [==============================] - 5s 5ms/step - loss: 0.3899 - accuracy: 0.8230 - auc: 0.9018 - val_loss: 0.4692 - val_accuracy: 0.7796 - val_auc: 0.7422\n",
      "Epoch 135/400\n",
      "1046/1046 [==============================] - 6s 6ms/step - loss: 0.3886 - accuracy: 0.8230 - auc: 0.9025 - val_loss: 0.4670 - val_accuracy: 0.7786 - val_auc: 0.7324\n",
      "Epoch 136/400\n",
      "1046/1046 [==============================] - 6s 5ms/step - loss: 0.3888 - accuracy: 0.8227 - auc: 0.9024 - val_loss: 0.5278 - val_accuracy: 0.7443 - val_auc: 0.7345\n",
      "Epoch 137/400\n",
      "1046/1046 [==============================] - 5s 5ms/step - loss: 0.3881 - accuracy: 0.8237 - auc: 0.9028 - val_loss: 0.5618 - val_accuracy: 0.7116 - val_auc: 0.7318\n",
      "Epoch 138/400\n",
      "1046/1046 [==============================] - 5s 5ms/step - loss: 0.3882 - accuracy: 0.8229 - auc: 0.9027 - val_loss: 0.4724 - val_accuracy: 0.7779 - val_auc: 0.7361\n",
      "Epoch 139/400\n",
      "1046/1046 [==============================] - 5s 5ms/step - loss: 0.3867 - accuracy: 0.8236 - auc: 0.9035 - val_loss: 0.4775 - val_accuracy: 0.7737 - val_auc: 0.7408\n",
      "Epoch 140/400\n",
      "1046/1046 [==============================] - 5s 5ms/step - loss: 0.3862 - accuracy: 0.8247 - auc: 0.9039 - val_loss: 0.4401 - val_accuracy: 0.7937 - val_auc: 0.7369\n",
      "Epoch 141/400\n",
      "1046/1046 [==============================] - 6s 5ms/step - loss: 0.3851 - accuracy: 0.8248 - auc: 0.9044 - val_loss: 0.5510 - val_accuracy: 0.7277 - val_auc: 0.7370\n",
      "Epoch 142/400\n",
      "1046/1046 [==============================] - 6s 5ms/step - loss: 0.3858 - accuracy: 0.8242 - auc: 0.9040 - val_loss: 0.4703 - val_accuracy: 0.7813 - val_auc: 0.7401\n",
      "Epoch 143/400\n",
      "1046/1046 [==============================] - 5s 5ms/step - loss: 0.3845 - accuracy: 0.8257 - auc: 0.9047 - val_loss: 0.5024 - val_accuracy: 0.7601 - val_auc: 0.7449\n",
      "Epoch 144/400\n",
      "1046/1046 [==============================] - 5s 5ms/step - loss: 0.3850 - accuracy: 0.8252 - auc: 0.9044 - val_loss: 0.5325 - val_accuracy: 0.7404 - val_auc: 0.7371\n",
      "Epoch 145/400\n",
      "1046/1046 [==============================] - 5s 5ms/step - loss: 0.3840 - accuracy: 0.8258 - auc: 0.9050 - val_loss: 0.5582 - val_accuracy: 0.7237 - val_auc: 0.7405\n",
      "Epoch 146/400\n",
      "1046/1046 [==============================] - 5s 5ms/step - loss: 0.3831 - accuracy: 0.8259 - auc: 0.9053 - val_loss: 0.4480 - val_accuracy: 0.7917 - val_auc: 0.7322\n",
      "Epoch 147/400\n",
      "1046/1046 [==============================] - 6s 5ms/step - loss: 0.3826 - accuracy: 0.8272 - auc: 0.9056 - val_loss: 0.5617 - val_accuracy: 0.7181 - val_auc: 0.7310\n",
      "Epoch 148/400\n",
      "1046/1046 [==============================] - 5s 5ms/step - loss: 0.3822 - accuracy: 0.8263 - auc: 0.9058 - val_loss: 0.4693 - val_accuracy: 0.7797 - val_auc: 0.7306\n",
      "Epoch 149/400\n",
      "1046/1046 [==============================] - 5s 5ms/step - loss: 0.3822 - accuracy: 0.8266 - auc: 0.9058 - val_loss: 0.4681 - val_accuracy: 0.7761 - val_auc: 0.7372\n",
      "Epoch 150/400\n",
      "1046/1046 [==============================] - 5s 5ms/step - loss: 0.3809 - accuracy: 0.8277 - auc: 0.9067 - val_loss: 0.4822 - val_accuracy: 0.7691 - val_auc: 0.7316\n",
      "Epoch 151/400\n",
      "1046/1046 [==============================] - 5s 5ms/step - loss: 0.3813 - accuracy: 0.8272 - auc: 0.9062 - val_loss: 0.4986 - val_accuracy: 0.7662 - val_auc: 0.7324\n",
      "Epoch 152/400\n",
      "1046/1046 [==============================] - 5s 5ms/step - loss: 0.3797 - accuracy: 0.8276 - auc: 0.9072 - val_loss: 0.4730 - val_accuracy: 0.7769 - val_auc: 0.7359\n",
      "Epoch 153/400\n",
      "1046/1046 [==============================] - 6s 5ms/step - loss: 0.3798 - accuracy: 0.8290 - auc: 0.9072 - val_loss: 0.4315 - val_accuracy: 0.8053 - val_auc: 0.7355\n",
      "Epoch 154/400\n",
      "1046/1046 [==============================] - 6s 5ms/step - loss: 0.3802 - accuracy: 0.8282 - auc: 0.9069 - val_loss: 0.4820 - val_accuracy: 0.7700 - val_auc: 0.7311\n",
      "Epoch 155/400\n",
      "1046/1046 [==============================] - 5s 5ms/step - loss: 0.3783 - accuracy: 0.8293 - auc: 0.9079 - val_loss: 0.5752 - val_accuracy: 0.7206 - val_auc: 0.7336\n",
      "Epoch 156/400\n",
      "1046/1046 [==============================] - 5s 5ms/step - loss: 0.3788 - accuracy: 0.8275 - auc: 0.9076 - val_loss: 0.5330 - val_accuracy: 0.7370 - val_auc: 0.7338\n",
      "Epoch 157/400\n",
      "1046/1046 [==============================] - 5s 5ms/step - loss: 0.3776 - accuracy: 0.8293 - auc: 0.9083 - val_loss: 0.5184 - val_accuracy: 0.7429 - val_auc: 0.7178\n",
      "Epoch 158/400\n",
      "1046/1046 [==============================] - 5s 5ms/step - loss: 0.3772 - accuracy: 0.8300 - auc: 0.9084 - val_loss: 0.4881 - val_accuracy: 0.7692 - val_auc: 0.7372\n",
      "Epoch 159/400\n",
      "1046/1046 [==============================] - 6s 6ms/step - loss: 0.3769 - accuracy: 0.8296 - auc: 0.9087 - val_loss: 0.5206 - val_accuracy: 0.7453 - val_auc: 0.7358\n",
      "Epoch 160/400\n",
      "1046/1046 [==============================] - 6s 6ms/step - loss: 0.3771 - accuracy: 0.8294 - auc: 0.9086 - val_loss: 0.5735 - val_accuracy: 0.7242 - val_auc: 0.7375\n",
      "Epoch 161/400\n",
      "1046/1046 [==============================] - 5s 5ms/step - loss: 0.3767 - accuracy: 0.8304 - auc: 0.9087 - val_loss: 0.5085 - val_accuracy: 0.7565 - val_auc: 0.7417\n",
      "Epoch 162/400\n",
      "1046/1046 [==============================] - 5s 5ms/step - loss: 0.3758 - accuracy: 0.8304 - auc: 0.9092 - val_loss: 0.5273 - val_accuracy: 0.7436 - val_auc: 0.7323\n",
      "Epoch 163/400\n",
      "1046/1046 [==============================] - 6s 5ms/step - loss: 0.3762 - accuracy: 0.8298 - auc: 0.9090 - val_loss: 0.5466 - val_accuracy: 0.7352 - val_auc: 0.7347\n",
      "Epoch 164/400\n",
      "1046/1046 [==============================] - 5s 5ms/step - loss: 0.3746 - accuracy: 0.8309 - auc: 0.9098 - val_loss: 0.5506 - val_accuracy: 0.7302 - val_auc: 0.7297\n",
      "Epoch 165/400\n",
      "1046/1046 [==============================] - 6s 6ms/step - loss: 0.3746 - accuracy: 0.8309 - auc: 0.9098 - val_loss: 0.5182 - val_accuracy: 0.7520 - val_auc: 0.7357\n",
      "Epoch 166/400\n",
      "1046/1046 [==============================] - 6s 5ms/step - loss: 0.3744 - accuracy: 0.8314 - auc: 0.9098 - val_loss: 0.6063 - val_accuracy: 0.7033 - val_auc: 0.7336\n",
      "Epoch 167/400\n",
      "1046/1046 [==============================] - 5s 5ms/step - loss: 0.3739 - accuracy: 0.8314 - auc: 0.9102 - val_loss: 0.5183 - val_accuracy: 0.7460 - val_auc: 0.7336\n",
      "Epoch 168/400\n",
      "1046/1046 [==============================] - 5s 5ms/step - loss: 0.3731 - accuracy: 0.8320 - auc: 0.9105 - val_loss: 0.5880 - val_accuracy: 0.7014 - val_auc: 0.7315\n",
      "Epoch 169/400\n",
      "1046/1046 [==============================] - 5s 5ms/step - loss: 0.3726 - accuracy: 0.8313 - auc: 0.9107 - val_loss: 0.5891 - val_accuracy: 0.7024 - val_auc: 0.7276\n",
      "Epoch 170/400\n",
      "1046/1046 [==============================] - 5s 5ms/step - loss: 0.3729 - accuracy: 0.8319 - auc: 0.9105 - val_loss: 0.4670 - val_accuracy: 0.7854 - val_auc: 0.7357\n",
      "Epoch 171/400\n",
      "1046/1046 [==============================] - 6s 5ms/step - loss: 0.3715 - accuracy: 0.8316 - auc: 0.9113 - val_loss: 0.4997 - val_accuracy: 0.7653 - val_auc: 0.7291\n",
      "Epoch 172/400\n",
      "1046/1046 [==============================] - 5s 5ms/step - loss: 0.3712 - accuracy: 0.8329 - auc: 0.9114 - val_loss: 0.5539 - val_accuracy: 0.7278 - val_auc: 0.7333\n",
      "Epoch 173/400\n",
      "1046/1046 [==============================] - 5s 5ms/step - loss: 0.3718 - accuracy: 0.8324 - auc: 0.9110 - val_loss: 0.5066 - val_accuracy: 0.7571 - val_auc: 0.7245\n",
      "Epoch 174/400\n",
      "1046/1046 [==============================] - 5s 5ms/step - loss: 0.3706 - accuracy: 0.8333 - auc: 0.9118 - val_loss: 0.4872 - val_accuracy: 0.7708 - val_auc: 0.7294\n",
      "Epoch 175/400\n",
      "1046/1046 [==============================] - 5s 5ms/step - loss: 0.3704 - accuracy: 0.8330 - auc: 0.9119 - val_loss: 0.4560 - val_accuracy: 0.7913 - val_auc: 0.7351\n",
      "Epoch 176/400\n",
      "1046/1046 [==============================] - 5s 5ms/step - loss: 0.3702 - accuracy: 0.8327 - auc: 0.9120 - val_loss: 0.5362 - val_accuracy: 0.7413 - val_auc: 0.7315\n",
      "Epoch 177/400\n",
      "1046/1046 [==============================] - 5s 5ms/step - loss: 0.3689 - accuracy: 0.8339 - auc: 0.9127 - val_loss: 0.4893 - val_accuracy: 0.7686 - val_auc: 0.7317\n",
      "Epoch 178/400\n",
      "1046/1046 [==============================] - 5s 5ms/step - loss: 0.3699 - accuracy: 0.8332 - auc: 0.9121 - val_loss: 0.5468 - val_accuracy: 0.7355 - val_auc: 0.7295\n",
      "Epoch 179/400\n",
      "1046/1046 [==============================] - 5s 5ms/step - loss: 0.3686 - accuracy: 0.8337 - auc: 0.9127 - val_loss: 0.5537 - val_accuracy: 0.7155 - val_auc: 0.7134\n",
      "Epoch 180/400\n",
      "1046/1046 [==============================] - 5s 5ms/step - loss: 0.3684 - accuracy: 0.8347 - auc: 0.9128 - val_loss: 0.5466 - val_accuracy: 0.7382 - val_auc: 0.7358\n",
      "Epoch 181/400\n",
      "1046/1046 [==============================] - 5s 5ms/step - loss: 0.3685 - accuracy: 0.8339 - auc: 0.9126 - val_loss: 0.5151 - val_accuracy: 0.7510 - val_auc: 0.7279\n",
      "Epoch 182/400\n",
      "1046/1046 [==============================] - 5s 5ms/step - loss: 0.3672 - accuracy: 0.8357 - auc: 0.9135 - val_loss: 0.4618 - val_accuracy: 0.7876 - val_auc: 0.7323\n",
      "Epoch 183/400\n",
      "1046/1046 [==============================] - 5s 5ms/step - loss: 0.3666 - accuracy: 0.8348 - auc: 0.9137 - val_loss: 0.5759 - val_accuracy: 0.7157 - val_auc: 0.7326\n",
      "Epoch 184/400\n",
      "1046/1046 [==============================] - 6s 6ms/step - loss: 0.3668 - accuracy: 0.8352 - auc: 0.9136 - val_loss: 0.4514 - val_accuracy: 0.7974 - val_auc: 0.7355\n",
      "Epoch 185/400\n",
      "1046/1046 [==============================] - 6s 6ms/step - loss: 0.3662 - accuracy: 0.8357 - auc: 0.9140 - val_loss: 0.5623 - val_accuracy: 0.7272 - val_auc: 0.7200\n",
      "Epoch 186/400\n",
      "1046/1046 [==============================] - 5s 5ms/step - loss: 0.3656 - accuracy: 0.8362 - auc: 0.9143 - val_loss: 0.5543 - val_accuracy: 0.7266 - val_auc: 0.7275\n",
      "Epoch 187/400\n",
      "1046/1046 [==============================] - 5s 5ms/step - loss: 0.3646 - accuracy: 0.8366 - auc: 0.9149 - val_loss: 0.4638 - val_accuracy: 0.7931 - val_auc: 0.7424\n",
      "Epoch 188/400\n",
      "1046/1046 [==============================] - 5s 5ms/step - loss: 0.3662 - accuracy: 0.8354 - auc: 0.9138 - val_loss: 0.6198 - val_accuracy: 0.6970 - val_auc: 0.7307\n",
      "Epoch 189/400\n",
      "1046/1046 [==============================] - 5s 5ms/step - loss: 0.3649 - accuracy: 0.8358 - auc: 0.9146 - val_loss: 0.5297 - val_accuracy: 0.7506 - val_auc: 0.7304\n",
      "Epoch 190/400\n",
      "1046/1046 [==============================] - 6s 5ms/step - loss: 0.3646 - accuracy: 0.8362 - auc: 0.9147 - val_loss: 0.4656 - val_accuracy: 0.7929 - val_auc: 0.7407\n",
      "Epoch 191/400\n",
      "1046/1046 [==============================] - 6s 5ms/step - loss: 0.3635 - accuracy: 0.8369 - auc: 0.9154 - val_loss: 0.5804 - val_accuracy: 0.7214 - val_auc: 0.7318\n",
      "Epoch 192/400\n",
      "1046/1046 [==============================] - 5s 5ms/step - loss: 0.3634 - accuracy: 0.8377 - auc: 0.9153 - val_loss: 0.4908 - val_accuracy: 0.7742 - val_auc: 0.7308\n",
      "Epoch 193/400\n",
      "1046/1046 [==============================] - 5s 5ms/step - loss: 0.3633 - accuracy: 0.8368 - auc: 0.9153 - val_loss: 0.4798 - val_accuracy: 0.7862 - val_auc: 0.7323\n",
      "Epoch 194/400\n",
      "1046/1046 [==============================] - 5s 5ms/step - loss: 0.3615 - accuracy: 0.8383 - auc: 0.9163 - val_loss: 0.5072 - val_accuracy: 0.7616 - val_auc: 0.7242\n",
      "Epoch 195/400\n",
      "1046/1046 [==============================] - 5s 5ms/step - loss: 0.3627 - accuracy: 0.8371 - auc: 0.9156 - val_loss: 0.5054 - val_accuracy: 0.7668 - val_auc: 0.7355\n",
      "Epoch 196/400\n",
      "1046/1046 [==============================] - 6s 5ms/step - loss: 0.3608 - accuracy: 0.8394 - auc: 0.9167 - val_loss: 0.4711 - val_accuracy: 0.7860 - val_auc: 0.7347\n",
      "Epoch 197/400\n",
      "1046/1046 [==============================] - 5s 5ms/step - loss: 0.3608 - accuracy: 0.8394 - auc: 0.9167 - val_loss: 0.5079 - val_accuracy: 0.7685 - val_auc: 0.7428\n",
      "Epoch 198/400\n",
      "1046/1046 [==============================] - 5s 5ms/step - loss: 0.3619 - accuracy: 0.8385 - auc: 0.9160 - val_loss: 0.5347 - val_accuracy: 0.7411 - val_auc: 0.7255\n",
      "Epoch 199/400\n",
      "1046/1046 [==============================] - 5s 5ms/step - loss: 0.3603 - accuracy: 0.8389 - auc: 0.9169 - val_loss: 0.4414 - val_accuracy: 0.8102 - val_auc: 0.7311\n",
      "Epoch 200/400\n",
      "1046/1046 [==============================] - 5s 5ms/step - loss: 0.3608 - accuracy: 0.8379 - auc: 0.9164 - val_loss: 0.4597 - val_accuracy: 0.7942 - val_auc: 0.7291\n",
      "Epoch 201/400\n",
      "1046/1046 [==============================] - 5s 5ms/step - loss: 0.3593 - accuracy: 0.8395 - auc: 0.9174 - val_loss: 0.6111 - val_accuracy: 0.7178 - val_auc: 0.7383\n",
      "Epoch 202/400\n",
      "1046/1046 [==============================] - 6s 5ms/step - loss: 0.3591 - accuracy: 0.8393 - auc: 0.9174 - val_loss: 0.5422 - val_accuracy: 0.7356 - val_auc: 0.7258\n",
      "Epoch 203/400\n",
      "1046/1046 [==============================] - 5s 5ms/step - loss: 0.3587 - accuracy: 0.8397 - auc: 0.9176 - val_loss: 0.5527 - val_accuracy: 0.7273 - val_auc: 0.7113\n",
      "Epoch 204/400\n",
      "1046/1046 [==============================] - 5s 5ms/step - loss: 0.3581 - accuracy: 0.8409 - auc: 0.9179 - val_loss: 0.4485 - val_accuracy: 0.8014 - val_auc: 0.7349\n",
      "Epoch 205/400\n",
      "1046/1046 [==============================] - 5s 5ms/step - loss: 0.3575 - accuracy: 0.8411 - auc: 0.9182 - val_loss: 0.5709 - val_accuracy: 0.7220 - val_auc: 0.7279\n",
      "Epoch 206/400\n",
      "1046/1046 [==============================] - 5s 5ms/step - loss: 0.3577 - accuracy: 0.8402 - auc: 0.9181 - val_loss: 0.5540 - val_accuracy: 0.7319 - val_auc: 0.7288\n",
      "Epoch 207/400\n",
      "1046/1046 [==============================] - 5s 5ms/step - loss: 0.3576 - accuracy: 0.8404 - auc: 0.9181 - val_loss: 0.4895 - val_accuracy: 0.7767 - val_auc: 0.7266\n",
      "Epoch 208/400\n",
      "1046/1046 [==============================] - 5s 5ms/step - loss: 0.3568 - accuracy: 0.8405 - auc: 0.9185 - val_loss: 0.4759 - val_accuracy: 0.7858 - val_auc: 0.7256\n",
      "Epoch 209/400\n",
      "1046/1046 [==============================] - 5s 5ms/step - loss: 0.3581 - accuracy: 0.8408 - auc: 0.9178 - val_loss: 0.5434 - val_accuracy: 0.7429 - val_auc: 0.7296\n",
      "Epoch 210/400\n",
      "1046/1046 [==============================] - 5s 5ms/step - loss: 0.3556 - accuracy: 0.8419 - auc: 0.9192 - val_loss: 0.4949 - val_accuracy: 0.7714 - val_auc: 0.7281\n",
      "Epoch 211/400\n",
      "1046/1046 [==============================] - 5s 5ms/step - loss: 0.3562 - accuracy: 0.8420 - auc: 0.9188 - val_loss: 0.4592 - val_accuracy: 0.7952 - val_auc: 0.7279\n",
      "Epoch 212/400\n",
      "1046/1046 [==============================] - 5s 5ms/step - loss: 0.3565 - accuracy: 0.8416 - auc: 0.9186 - val_loss: 0.5545 - val_accuracy: 0.7381 - val_auc: 0.7252\n",
      "Epoch 213/400\n",
      "1046/1046 [==============================] - 5s 5ms/step - loss: 0.3549 - accuracy: 0.8420 - auc: 0.9194 - val_loss: 0.4344 - val_accuracy: 0.8117 - val_auc: 0.7180\n",
      "Epoch 214/400\n",
      "1046/1046 [==============================] - 5s 5ms/step - loss: 0.3554 - accuracy: 0.8417 - auc: 0.9191 - val_loss: 0.5648 - val_accuracy: 0.7287 - val_auc: 0.7230\n",
      "Epoch 215/400\n",
      "1046/1046 [==============================] - 6s 6ms/step - loss: 0.3545 - accuracy: 0.8424 - auc: 0.9197 - val_loss: 0.4846 - val_accuracy: 0.7797 - val_auc: 0.7318\n",
      "Epoch 216/400\n",
      "1046/1046 [==============================] - 6s 6ms/step - loss: 0.3541 - accuracy: 0.8426 - auc: 0.9198 - val_loss: 0.4847 - val_accuracy: 0.7787 - val_auc: 0.7201\n",
      "Epoch 217/400\n",
      "1046/1046 [==============================] - 5s 5ms/step - loss: 0.3532 - accuracy: 0.8428 - auc: 0.9203 - val_loss: 0.4737 - val_accuracy: 0.7890 - val_auc: 0.7222\n",
      "Epoch 218/400\n",
      "1046/1046 [==============================] - 5s 5ms/step - loss: 0.3529 - accuracy: 0.8426 - auc: 0.9205 - val_loss: 0.4845 - val_accuracy: 0.7793 - val_auc: 0.7180\n",
      "Epoch 219/400\n",
      "1046/1046 [==============================] - 5s 5ms/step - loss: 0.3531 - accuracy: 0.8428 - auc: 0.9202 - val_loss: 0.4981 - val_accuracy: 0.7730 - val_auc: 0.7304\n",
      "Epoch 220/400\n",
      "1046/1046 [==============================] - 5s 5ms/step - loss: 0.3528 - accuracy: 0.8441 - auc: 0.9204 - val_loss: 0.5097 - val_accuracy: 0.7651 - val_auc: 0.7267\n",
      "Epoch 221/400\n",
      "1046/1046 [==============================] - 6s 5ms/step - loss: 0.3520 - accuracy: 0.8450 - auc: 0.9208 - val_loss: 0.4631 - val_accuracy: 0.7955 - val_auc: 0.7311\n",
      "Epoch 222/400\n",
      "1046/1046 [==============================] - 6s 5ms/step - loss: 0.3523 - accuracy: 0.8430 - auc: 0.9206 - val_loss: 0.5305 - val_accuracy: 0.7467 - val_auc: 0.7216\n",
      "Epoch 223/400\n",
      "1046/1046 [==============================] - 5s 5ms/step - loss: 0.3508 - accuracy: 0.8447 - auc: 0.9214 - val_loss: 0.4916 - val_accuracy: 0.7760 - val_auc: 0.7227\n",
      "Epoch 224/400\n",
      "1046/1046 [==============================] - 5s 5ms/step - loss: 0.3516 - accuracy: 0.8435 - auc: 0.9208 - val_loss: 0.5316 - val_accuracy: 0.7490 - val_auc: 0.7205\n",
      "Epoch 225/400\n",
      "1046/1046 [==============================] - 5s 5ms/step - loss: 0.3502 - accuracy: 0.8447 - auc: 0.9216 - val_loss: 0.4667 - val_accuracy: 0.7980 - val_auc: 0.7375\n",
      "Epoch 226/400\n",
      "1046/1046 [==============================] - 5s 5ms/step - loss: 0.3507 - accuracy: 0.8437 - auc: 0.9214 - val_loss: 0.4692 - val_accuracy: 0.7935 - val_auc: 0.7294\n",
      "Epoch 227/400\n",
      "1046/1046 [==============================] - 6s 6ms/step - loss: 0.3499 - accuracy: 0.8446 - auc: 0.9218 - val_loss: 0.5041 - val_accuracy: 0.7688 - val_auc: 0.7227\n",
      "Epoch 228/400\n",
      "1046/1046 [==============================] - 5s 5ms/step - loss: 0.3493 - accuracy: 0.8448 - auc: 0.9221 - val_loss: 0.6351 - val_accuracy: 0.6861 - val_auc: 0.7180\n",
      "Epoch 229/400\n",
      "1046/1046 [==============================] - 5s 5ms/step - loss: 0.3500 - accuracy: 0.8445 - auc: 0.9216 - val_loss: 0.4677 - val_accuracy: 0.7921 - val_auc: 0.7213\n",
      "Epoch 230/400\n",
      "1046/1046 [==============================] - 5s 5ms/step - loss: 0.3484 - accuracy: 0.8455 - auc: 0.9225 - val_loss: 0.5573 - val_accuracy: 0.7310 - val_auc: 0.7188\n",
      "Epoch 231/400\n",
      "1046/1046 [==============================] - 5s 5ms/step - loss: 0.3477 - accuracy: 0.8464 - auc: 0.9229 - val_loss: 0.5289 - val_accuracy: 0.7505 - val_auc: 0.7076\n",
      "Epoch 232/400\n",
      "1046/1046 [==============================] - 5s 5ms/step - loss: 0.3474 - accuracy: 0.8472 - auc: 0.9230 - val_loss: 0.5302 - val_accuracy: 0.7537 - val_auc: 0.7192\n",
      "Epoch 233/400\n",
      "1046/1046 [==============================] - 6s 5ms/step - loss: 0.3476 - accuracy: 0.8468 - auc: 0.9228 - val_loss: 0.5468 - val_accuracy: 0.7456 - val_auc: 0.7297\n",
      "Epoch 234/400\n",
      "1046/1046 [==============================] - 5s 5ms/step - loss: 0.3481 - accuracy: 0.8452 - auc: 0.9225 - val_loss: 0.5119 - val_accuracy: 0.7697 - val_auc: 0.7290\n",
      "Epoch 235/400\n",
      "1046/1046 [==============================] - 6s 6ms/step - loss: 0.3471 - accuracy: 0.8464 - auc: 0.9231 - val_loss: 0.4580 - val_accuracy: 0.7991 - val_auc: 0.7242\n",
      "Epoch 236/400\n",
      "1046/1046 [==============================] - 5s 5ms/step - loss: 0.3468 - accuracy: 0.8476 - auc: 0.9232 - val_loss: 0.5596 - val_accuracy: 0.7405 - val_auc: 0.7286\n",
      "Epoch 237/400\n",
      "1046/1046 [==============================] - 5s 5ms/step - loss: 0.3471 - accuracy: 0.8459 - auc: 0.9229 - val_loss: 0.4842 - val_accuracy: 0.7809 - val_auc: 0.7141\n",
      "Epoch 238/400\n",
      "1046/1046 [==============================] - 5s 5ms/step - loss: 0.3452 - accuracy: 0.8474 - auc: 0.9241 - val_loss: 0.4953 - val_accuracy: 0.7796 - val_auc: 0.7310\n",
      "Epoch 239/400\n",
      "1046/1046 [==============================] - 5s 5ms/step - loss: 0.3462 - accuracy: 0.8477 - auc: 0.9233 - val_loss: 0.4937 - val_accuracy: 0.7741 - val_auc: 0.7226\n",
      "Epoch 240/400\n",
      "1046/1046 [==============================] - 5s 5ms/step - loss: 0.3451 - accuracy: 0.8480 - auc: 0.9240 - val_loss: 0.5280 - val_accuracy: 0.7527 - val_auc: 0.7168\n",
      "Epoch 241/400\n",
      "1046/1046 [==============================] - 6s 6ms/step - loss: 0.3448 - accuracy: 0.8481 - auc: 0.9242 - val_loss: 0.5410 - val_accuracy: 0.7484 - val_auc: 0.7196\n",
      "Epoch 242/400\n",
      "1046/1046 [==============================] - 5s 5ms/step - loss: 0.3440 - accuracy: 0.8478 - auc: 0.9246 - val_loss: 0.4827 - val_accuracy: 0.7898 - val_auc: 0.7309\n",
      "Epoch 243/400\n",
      "1046/1046 [==============================] - 5s 5ms/step - loss: 0.3443 - accuracy: 0.8477 - auc: 0.9243 - val_loss: 0.5831 - val_accuracy: 0.7217 - val_auc: 0.7223\n",
      "Epoch 244/400\n",
      "1046/1046 [==============================] - 5s 5ms/step - loss: 0.3444 - accuracy: 0.8479 - auc: 0.9242 - val_loss: 0.4511 - val_accuracy: 0.8073 - val_auc: 0.7269\n",
      "Epoch 245/400\n",
      "1046/1046 [==============================] - 5s 5ms/step - loss: 0.3432 - accuracy: 0.8496 - auc: 0.9249 - val_loss: 0.5469 - val_accuracy: 0.7478 - val_auc: 0.7176\n",
      "Epoch 246/400\n",
      "1046/1046 [==============================] - 5s 5ms/step - loss: 0.3432 - accuracy: 0.8483 - auc: 0.9249 - val_loss: 0.5329 - val_accuracy: 0.7563 - val_auc: 0.7313\n",
      "Epoch 247/400\n",
      "1046/1046 [==============================] - 6s 5ms/step - loss: 0.3428 - accuracy: 0.8481 - auc: 0.9250 - val_loss: 0.4916 - val_accuracy: 0.7815 - val_auc: 0.7166\n",
      "Epoch 248/400\n",
      "1046/1046 [==============================] - 5s 5ms/step - loss: 0.3424 - accuracy: 0.8492 - auc: 0.9251 - val_loss: 0.5214 - val_accuracy: 0.7596 - val_auc: 0.7218\n",
      "Epoch 249/400\n",
      "1046/1046 [==============================] - 5s 5ms/step - loss: 0.3422 - accuracy: 0.8492 - auc: 0.9253 - val_loss: 0.5306 - val_accuracy: 0.7643 - val_auc: 0.7340\n",
      "Epoch 250/400\n",
      "1046/1046 [==============================] - 5s 5ms/step - loss: 0.3410 - accuracy: 0.8499 - auc: 0.9259 - val_loss: 0.4744 - val_accuracy: 0.7973 - val_auc: 0.7343\n",
      "Epoch 251/400\n",
      "1046/1046 [==============================] - 6s 5ms/step - loss: 0.3408 - accuracy: 0.8502 - auc: 0.9261 - val_loss: 0.5054 - val_accuracy: 0.7689 - val_auc: 0.7162\n",
      "Epoch 252/400\n",
      "1046/1046 [==============================] - 5s 5ms/step - loss: 0.3401 - accuracy: 0.8498 - auc: 0.9265 - val_loss: 0.5970 - val_accuracy: 0.7184 - val_auc: 0.7217\n",
      "Epoch 253/400\n",
      "1046/1046 [==============================] - 5s 5ms/step - loss: 0.3409 - accuracy: 0.8508 - auc: 0.9259 - val_loss: 0.5453 - val_accuracy: 0.7491 - val_auc: 0.7234\n",
      "Epoch 254/400\n",
      "1046/1046 [==============================] - 5s 5ms/step - loss: 0.3403 - accuracy: 0.8503 - auc: 0.9262 - val_loss: 0.5417 - val_accuracy: 0.7480 - val_auc: 0.7247\n",
      "Epoch 255/400\n",
      "1046/1046 [==============================] - 5s 5ms/step - loss: 0.3398 - accuracy: 0.8505 - auc: 0.9263 - val_loss: 0.5131 - val_accuracy: 0.7691 - val_auc: 0.7126\n",
      "Epoch 256/400\n",
      "1046/1046 [==============================] - 5s 5ms/step - loss: 0.3393 - accuracy: 0.8512 - auc: 0.9266 - val_loss: 0.4431 - val_accuracy: 0.8139 - val_auc: 0.7200\n",
      "Epoch 257/400\n",
      "1046/1046 [==============================] - 6s 6ms/step - loss: 0.3390 - accuracy: 0.8511 - auc: 0.9268 - val_loss: 0.5307 - val_accuracy: 0.7619 - val_auc: 0.7314\n",
      "Epoch 258/400\n",
      "1046/1046 [==============================] - 5s 5ms/step - loss: 0.3393 - accuracy: 0.8506 - auc: 0.9266 - val_loss: 0.5657 - val_accuracy: 0.7310 - val_auc: 0.7113\n",
      "Epoch 259/400\n",
      "1046/1046 [==============================] - 5s 5ms/step - loss: 0.3382 - accuracy: 0.8520 - auc: 0.9272 - val_loss: 0.5601 - val_accuracy: 0.7397 - val_auc: 0.7131\n",
      "Epoch 260/400\n",
      "1046/1046 [==============================] - 6s 5ms/step - loss: 0.3387 - accuracy: 0.8512 - auc: 0.9269 - val_loss: 0.4996 - val_accuracy: 0.7743 - val_auc: 0.7208\n",
      "Epoch 261/400\n",
      "1046/1046 [==============================] - 5s 5ms/step - loss: 0.3378 - accuracy: 0.8516 - auc: 0.9273 - val_loss: 0.5115 - val_accuracy: 0.7710 - val_auc: 0.7218\n",
      "Epoch 262/400\n",
      "1046/1046 [==============================] - 5s 5ms/step - loss: 0.3377 - accuracy: 0.8513 - auc: 0.9274 - val_loss: 0.5204 - val_accuracy: 0.7667 - val_auc: 0.7248\n",
      "Epoch 263/400\n",
      "1046/1046 [==============================] - 6s 5ms/step - loss: 0.3375 - accuracy: 0.8516 - auc: 0.9274 - val_loss: 0.4779 - val_accuracy: 0.7933 - val_auc: 0.7200\n",
      "Epoch 264/400\n",
      "1046/1046 [==============================] - 5s 4ms/step - loss: 0.3366 - accuracy: 0.8526 - auc: 0.9279 - val_loss: 0.5222 - val_accuracy: 0.7663 - val_auc: 0.7293\n",
      "Epoch 265/400\n",
      "1046/1046 [==============================] - 5s 5ms/step - loss: 0.3363 - accuracy: 0.8519 - auc: 0.9279 - val_loss: 0.4435 - val_accuracy: 0.8184 - val_auc: 0.7244\n",
      "Epoch 266/400\n",
      "1046/1046 [==============================] - 6s 5ms/step - loss: 0.3366 - accuracy: 0.8520 - auc: 0.9278 - val_loss: 0.5267 - val_accuracy: 0.7599 - val_auc: 0.7158\n",
      "Epoch 267/400\n",
      "1046/1046 [==============================] - 5s 5ms/step - loss: 0.3362 - accuracy: 0.8525 - auc: 0.9280 - val_loss: 0.5349 - val_accuracy: 0.7596 - val_auc: 0.7216\n",
      "Epoch 268/400\n",
      "1046/1046 [==============================] - 5s 4ms/step - loss: 0.3343 - accuracy: 0.8540 - auc: 0.9291 - val_loss: 0.5690 - val_accuracy: 0.7408 - val_auc: 0.7290\n",
      "Epoch 269/400\n",
      "1046/1046 [==============================] - 5s 5ms/step - loss: 0.3360 - accuracy: 0.8527 - auc: 0.9281 - val_loss: 0.5487 - val_accuracy: 0.7444 - val_auc: 0.7132\n",
      "Epoch 270/400\n",
      "1046/1046 [==============================] - 5s 5ms/step - loss: 0.3351 - accuracy: 0.8531 - auc: 0.9285 - val_loss: 0.5574 - val_accuracy: 0.7477 - val_auc: 0.7192\n",
      "Epoch 271/400\n",
      "1046/1046 [==============================] - 5s 5ms/step - loss: 0.3340 - accuracy: 0.8529 - auc: 0.9291 - val_loss: 0.4860 - val_accuracy: 0.7923 - val_auc: 0.7327\n",
      "Epoch 272/400\n",
      "1046/1046 [==============================] - 5s 5ms/step - loss: 0.3336 - accuracy: 0.8535 - auc: 0.9292 - val_loss: 0.4678 - val_accuracy: 0.8038 - val_auc: 0.7294\n",
      "Epoch 273/400\n",
      "1046/1046 [==============================] - 6s 6ms/step - loss: 0.3335 - accuracy: 0.8541 - auc: 0.9293 - val_loss: 0.5419 - val_accuracy: 0.7557 - val_auc: 0.7216\n",
      "Epoch 274/400\n",
      "1046/1046 [==============================] - 5s 4ms/step - loss: 0.3337 - accuracy: 0.8535 - auc: 0.9291 - val_loss: 0.4643 - val_accuracy: 0.8062 - val_auc: 0.7284\n",
      "Epoch 275/400\n",
      "1046/1046 [==============================] - 5s 5ms/step - loss: 0.3331 - accuracy: 0.8538 - auc: 0.9294 - val_loss: 0.5516 - val_accuracy: 0.7486 - val_auc: 0.7173\n",
      "Epoch 276/400\n",
      "1046/1046 [==============================] - 5s 5ms/step - loss: 0.3332 - accuracy: 0.8541 - auc: 0.9292 - val_loss: 0.5609 - val_accuracy: 0.7401 - val_auc: 0.7150\n",
      "Epoch 277/400\n",
      "1046/1046 [==============================] - 5s 5ms/step - loss: 0.3332 - accuracy: 0.8541 - auc: 0.9293 - val_loss: 0.4817 - val_accuracy: 0.7981 - val_auc: 0.7317\n",
      "Epoch 278/400\n",
      "1046/1046 [==============================] - 5s 4ms/step - loss: 0.3317 - accuracy: 0.8549 - auc: 0.9301 - val_loss: 0.4889 - val_accuracy: 0.7892 - val_auc: 0.7250\n",
      "Epoch 279/400\n",
      "1046/1046 [==============================] - 6s 6ms/step - loss: 0.3327 - accuracy: 0.8543 - auc: 0.9296 - val_loss: 0.5215 - val_accuracy: 0.7673 - val_auc: 0.7148\n",
      "Epoch 280/400\n",
      "1046/1046 [==============================] - 5s 5ms/step - loss: 0.3315 - accuracy: 0.8544 - auc: 0.9301 - val_loss: 0.5164 - val_accuracy: 0.7735 - val_auc: 0.7110\n",
      "Epoch 281/400\n",
      "1046/1046 [==============================] - 5s 5ms/step - loss: 0.3313 - accuracy: 0.8555 - auc: 0.9303 - val_loss: 0.5102 - val_accuracy: 0.7769 - val_auc: 0.7209\n",
      "Epoch 282/400\n",
      "1046/1046 [==============================] - 6s 5ms/step - loss: 0.3309 - accuracy: 0.8559 - auc: 0.9303 - val_loss: 0.5034 - val_accuracy: 0.7797 - val_auc: 0.7123\n",
      "Epoch 283/400\n",
      "1046/1046 [==============================] - 5s 5ms/step - loss: 0.3303 - accuracy: 0.8556 - auc: 0.9306 - val_loss: 0.4801 - val_accuracy: 0.7944 - val_auc: 0.7124\n",
      "Epoch 284/400\n",
      "1046/1046 [==============================] - 5s 5ms/step - loss: 0.3304 - accuracy: 0.8557 - auc: 0.9306 - val_loss: 0.4613 - val_accuracy: 0.8077 - val_auc: 0.7264\n",
      "Epoch 285/400\n",
      "1046/1046 [==============================] - 5s 5ms/step - loss: 0.3302 - accuracy: 0.8555 - auc: 0.9306 - val_loss: 0.5329 - val_accuracy: 0.7600 - val_auc: 0.7164\n",
      "Epoch 286/400\n",
      "1046/1046 [==============================] - 6s 5ms/step - loss: 0.3302 - accuracy: 0.8561 - auc: 0.9306 - val_loss: 0.5665 - val_accuracy: 0.7358 - val_auc: 0.7123\n",
      "Epoch 287/400\n",
      "1046/1046 [==============================] - 5s 5ms/step - loss: 0.3290 - accuracy: 0.8563 - auc: 0.9312 - val_loss: 0.6144 - val_accuracy: 0.7103 - val_auc: 0.7151\n",
      "Epoch 288/400\n",
      "1046/1046 [==============================] - 6s 5ms/step - loss: 0.3286 - accuracy: 0.8567 - auc: 0.9314 - val_loss: 0.5332 - val_accuracy: 0.7575 - val_auc: 0.7160\n",
      "Epoch 289/400\n",
      "1046/1046 [==============================] - 5s 5ms/step - loss: 0.3296 - accuracy: 0.8558 - auc: 0.9309 - val_loss: 0.5474 - val_accuracy: 0.7604 - val_auc: 0.7261\n",
      "Epoch 290/400\n",
      "1046/1046 [==============================] - 5s 5ms/step - loss: 0.3282 - accuracy: 0.8568 - auc: 0.9315 - val_loss: 0.5231 - val_accuracy: 0.7690 - val_auc: 0.7158\n",
      "Epoch 291/400\n",
      "1046/1046 [==============================] - 5s 5ms/step - loss: 0.3294 - accuracy: 0.8567 - auc: 0.9308 - val_loss: 0.4994 - val_accuracy: 0.7834 - val_auc: 0.7225\n",
      "Epoch 292/400\n",
      "1046/1046 [==============================] - 6s 6ms/step - loss: 0.3271 - accuracy: 0.8583 - auc: 0.9320 - val_loss: 0.4833 - val_accuracy: 0.7972 - val_auc: 0.7234\n",
      "Epoch 293/400\n",
      "1046/1046 [==============================] - 5s 5ms/step - loss: 0.3267 - accuracy: 0.8574 - auc: 0.9322 - val_loss: 0.4806 - val_accuracy: 0.7935 - val_auc: 0.7063\n",
      "Epoch 294/400\n",
      "1046/1046 [==============================] - 5s 5ms/step - loss: 0.3274 - accuracy: 0.8569 - auc: 0.9318 - val_loss: 0.5491 - val_accuracy: 0.7540 - val_auc: 0.7208\n",
      "Epoch 295/400\n",
      "1046/1046 [==============================] - 5s 4ms/step - loss: 0.3271 - accuracy: 0.8578 - auc: 0.9320 - val_loss: 0.5215 - val_accuracy: 0.7658 - val_auc: 0.7074\n",
      "Epoch 296/400\n",
      "1046/1046 [==============================] - 5s 5ms/step - loss: 0.3261 - accuracy: 0.8571 - auc: 0.9324 - val_loss: 0.5337 - val_accuracy: 0.7682 - val_auc: 0.7218\n",
      "Epoch 297/400\n",
      "1046/1046 [==============================] - 5s 4ms/step - loss: 0.3265 - accuracy: 0.8578 - auc: 0.9322 - val_loss: 0.5809 - val_accuracy: 0.7405 - val_auc: 0.7204\n",
      "Epoch 298/400\n",
      "1046/1046 [==============================] - 5s 5ms/step - loss: 0.3262 - accuracy: 0.8587 - auc: 0.9323 - val_loss: 0.4826 - val_accuracy: 0.7961 - val_auc: 0.7119\n",
      "Epoch 299/400\n",
      "1046/1046 [==============================] - 5s 5ms/step - loss: 0.3262 - accuracy: 0.8585 - auc: 0.9323 - val_loss: 0.5532 - val_accuracy: 0.7549 - val_auc: 0.7276\n",
      "Epoch 300/400\n",
      "1046/1046 [==============================] - 5s 5ms/step - loss: 0.3249 - accuracy: 0.8589 - auc: 0.9330 - val_loss: 0.6461 - val_accuracy: 0.7125 - val_auc: 0.7259\n",
      "Epoch 301/400\n",
      "1046/1046 [==============================] - 5s 5ms/step - loss: 0.3248 - accuracy: 0.8596 - auc: 0.9329 - val_loss: 0.4940 - val_accuracy: 0.7873 - val_auc: 0.7199\n",
      "Epoch 302/400\n",
      "1046/1046 [==============================] - 5s 5ms/step - loss: 0.3252 - accuracy: 0.8580 - auc: 0.9327 - val_loss: 0.5555 - val_accuracy: 0.7440 - val_auc: 0.7093\n",
      "Epoch 303/400\n",
      "1046/1046 [==============================] - 5s 5ms/step - loss: 0.3243 - accuracy: 0.8589 - auc: 0.9331 - val_loss: 0.5278 - val_accuracy: 0.7683 - val_auc: 0.7206\n",
      "Epoch 304/400\n",
      "1046/1046 [==============================] - 5s 5ms/step - loss: 0.3240 - accuracy: 0.8593 - auc: 0.9334 - val_loss: 0.5066 - val_accuracy: 0.7815 - val_auc: 0.7197\n",
      "Epoch 305/400\n",
      "1046/1046 [==============================] - 6s 6ms/step - loss: 0.3241 - accuracy: 0.8583 - auc: 0.9332 - val_loss: 0.4948 - val_accuracy: 0.7872 - val_auc: 0.7109\n",
      "Epoch 306/400\n",
      "1046/1046 [==============================] - 5s 5ms/step - loss: 0.3240 - accuracy: 0.8590 - auc: 0.9332 - val_loss: 0.5370 - val_accuracy: 0.7606 - val_auc: 0.7053\n",
      "Epoch 307/400\n",
      "1046/1046 [==============================] - 5s 5ms/step - loss: 0.3223 - accuracy: 0.8605 - auc: 0.9341 - val_loss: 0.5352 - val_accuracy: 0.7673 - val_auc: 0.7199\n",
      "Epoch 308/400\n",
      "1046/1046 [==============================] - 5s 5ms/step - loss: 0.3226 - accuracy: 0.8606 - auc: 0.9338 - val_loss: 0.5488 - val_accuracy: 0.7609 - val_auc: 0.7188\n",
      "Epoch 309/400\n",
      "1046/1046 [==============================] - 5s 5ms/step - loss: 0.3221 - accuracy: 0.8606 - auc: 0.9342 - val_loss: 0.4806 - val_accuracy: 0.7989 - val_auc: 0.7192\n",
      "Epoch 310/400\n",
      "1046/1046 [==============================] - 5s 5ms/step - loss: 0.3223 - accuracy: 0.8601 - auc: 0.9340 - val_loss: 0.4904 - val_accuracy: 0.7931 - val_auc: 0.7155\n",
      "Epoch 311/400\n",
      "1046/1046 [==============================] - 6s 6ms/step - loss: 0.3227 - accuracy: 0.8600 - auc: 0.9338 - val_loss: 0.5345 - val_accuracy: 0.7643 - val_auc: 0.7158\n",
      "Epoch 312/400\n",
      "1046/1046 [==============================] - 5s 5ms/step - loss: 0.3209 - accuracy: 0.8600 - auc: 0.9347 - val_loss: 0.4844 - val_accuracy: 0.7955 - val_auc: 0.7167\n",
      "Epoch 313/400\n",
      "1046/1046 [==============================] - 5s 5ms/step - loss: 0.3212 - accuracy: 0.8607 - auc: 0.9345 - val_loss: 0.4986 - val_accuracy: 0.7881 - val_auc: 0.7122\n",
      "Epoch 314/400\n",
      "1046/1046 [==============================] - 5s 5ms/step - loss: 0.3224 - accuracy: 0.8596 - auc: 0.9339 - val_loss: 0.5167 - val_accuracy: 0.7796 - val_auc: 0.7219\n",
      "Epoch 315/400\n",
      "1046/1046 [==============================] - 5s 5ms/step - loss: 0.3202 - accuracy: 0.8609 - auc: 0.9350 - val_loss: 0.5112 - val_accuracy: 0.7840 - val_auc: 0.7171\n",
      "Epoch 316/400\n",
      "1046/1046 [==============================] - 5s 5ms/step - loss: 0.3212 - accuracy: 0.8608 - auc: 0.9344 - val_loss: 0.4967 - val_accuracy: 0.7876 - val_auc: 0.7092\n",
      "Epoch 317/400\n",
      "1046/1046 [==============================] - 6s 5ms/step - loss: 0.3195 - accuracy: 0.8618 - auc: 0.9353 - val_loss: 0.5225 - val_accuracy: 0.7730 - val_auc: 0.7142\n",
      "Epoch 318/400\n",
      "1046/1046 [==============================] - 6s 5ms/step - loss: 0.3194 - accuracy: 0.8616 - auc: 0.9353 - val_loss: 0.4632 - val_accuracy: 0.8129 - val_auc: 0.7158\n",
      "Epoch 319/400\n",
      "1046/1046 [==============================] - 6s 6ms/step - loss: 0.3198 - accuracy: 0.8609 - auc: 0.9350 - val_loss: 0.5215 - val_accuracy: 0.7741 - val_auc: 0.7169\n",
      "Epoch 320/400\n",
      "1046/1046 [==============================] - 5s 5ms/step - loss: 0.3184 - accuracy: 0.8620 - auc: 0.9358 - val_loss: 0.4561 - val_accuracy: 0.8159 - val_auc: 0.7178\n",
      "Epoch 321/400\n",
      "1046/1046 [==============================] - 5s 5ms/step - loss: 0.3192 - accuracy: 0.8612 - auc: 0.9352 - val_loss: 0.5754 - val_accuracy: 0.7410 - val_auc: 0.7106\n",
      "Epoch 322/400\n",
      "1046/1046 [==============================] - 5s 5ms/step - loss: 0.3190 - accuracy: 0.8619 - auc: 0.9354 - val_loss: 0.5461 - val_accuracy: 0.7626 - val_auc: 0.7156\n",
      "Epoch 323/400\n",
      "1046/1046 [==============================] - 5s 5ms/step - loss: 0.3186 - accuracy: 0.8624 - auc: 0.9355 - val_loss: 0.5124 - val_accuracy: 0.7833 - val_auc: 0.7037\n",
      "Epoch 324/400\n",
      "1046/1046 [==============================] - 6s 6ms/step - loss: 0.3182 - accuracy: 0.8614 - auc: 0.9356 - val_loss: 0.5235 - val_accuracy: 0.7771 - val_auc: 0.7145\n",
      "Epoch 325/400\n",
      "1046/1046 [==============================] - 5s 5ms/step - loss: 0.3178 - accuracy: 0.8621 - auc: 0.9359 - val_loss: 0.5710 - val_accuracy: 0.7470 - val_auc: 0.7135\n",
      "Epoch 326/400\n",
      "1046/1046 [==============================] - 5s 5ms/step - loss: 0.3174 - accuracy: 0.8637 - auc: 0.9361 - val_loss: 0.5432 - val_accuracy: 0.7674 - val_auc: 0.7180\n",
      "Epoch 327/400\n",
      "1046/1046 [==============================] - 5s 5ms/step - loss: 0.3172 - accuracy: 0.8627 - auc: 0.9360 - val_loss: 0.5563 - val_accuracy: 0.7562 - val_auc: 0.7080\n",
      "Epoch 328/400\n",
      "1046/1046 [==============================] - 5s 5ms/step - loss: 0.3164 - accuracy: 0.8631 - auc: 0.9365 - val_loss: 0.5165 - val_accuracy: 0.7772 - val_auc: 0.7131\n",
      "Epoch 329/400\n",
      "1046/1046 [==============================] - 5s 5ms/step - loss: 0.3170 - accuracy: 0.8623 - auc: 0.9362 - val_loss: 0.5872 - val_accuracy: 0.7392 - val_auc: 0.7120\n",
      "Epoch 330/400\n",
      "1046/1046 [==============================] - 6s 5ms/step - loss: 0.3170 - accuracy: 0.8627 - auc: 0.9361 - val_loss: 0.4814 - val_accuracy: 0.8029 - val_auc: 0.7156\n",
      "Epoch 331/400\n",
      "1046/1046 [==============================] - 6s 6ms/step - loss: 0.3169 - accuracy: 0.8634 - auc: 0.9362 - val_loss: 0.4923 - val_accuracy: 0.7973 - val_auc: 0.7146\n",
      "Epoch 332/400\n",
      "1046/1046 [==============================] - 5s 5ms/step - loss: 0.3159 - accuracy: 0.8632 - auc: 0.9366 - val_loss: 0.5207 - val_accuracy: 0.7772 - val_auc: 0.7148\n",
      "Epoch 333/400\n",
      "1046/1046 [==============================] - 5s 5ms/step - loss: 0.3155 - accuracy: 0.8637 - auc: 0.9369 - val_loss: 0.4851 - val_accuracy: 0.7961 - val_auc: 0.7146\n",
      "Epoch 334/400\n",
      "1046/1046 [==============================] - 5s 5ms/step - loss: 0.3162 - accuracy: 0.8626 - auc: 0.9364 - val_loss: 0.5764 - val_accuracy: 0.7430 - val_auc: 0.7075\n",
      "Epoch 335/400\n",
      "1046/1046 [==============================] - 5s 4ms/step - loss: 0.3155 - accuracy: 0.8638 - auc: 0.9367 - val_loss: 0.5206 - val_accuracy: 0.7779 - val_auc: 0.7112\n",
      "Epoch 336/400\n",
      "1046/1046 [==============================] - 5s 5ms/step - loss: 0.3150 - accuracy: 0.8633 - auc: 0.9370 - val_loss: 0.5111 - val_accuracy: 0.7863 - val_auc: 0.7113\n",
      "Epoch 337/400\n",
      "1046/1046 [==============================] - 7s 6ms/step - loss: 0.3150 - accuracy: 0.8640 - auc: 0.9370 - val_loss: 0.5941 - val_accuracy: 0.7411 - val_auc: 0.7176\n",
      "Epoch 338/400\n",
      "1046/1046 [==============================] - 5s 5ms/step - loss: 0.3141 - accuracy: 0.8638 - auc: 0.9374 - val_loss: 0.4923 - val_accuracy: 0.7992 - val_auc: 0.7190\n",
      "Epoch 339/400\n",
      "1046/1046 [==============================] - 5s 5ms/step - loss: 0.3140 - accuracy: 0.8654 - auc: 0.9375 - val_loss: 0.5315 - val_accuracy: 0.7663 - val_auc: 0.7053\n",
      "Epoch 340/400\n",
      "1046/1046 [==============================] - 5s 5ms/step - loss: 0.3134 - accuracy: 0.8650 - auc: 0.9377 - val_loss: 0.5020 - val_accuracy: 0.7961 - val_auc: 0.7225\n",
      "Epoch 341/400\n",
      "1046/1046 [==============================] - 5s 4ms/step - loss: 0.3143 - accuracy: 0.8651 - auc: 0.9373 - val_loss: 0.5435 - val_accuracy: 0.7689 - val_auc: 0.7170\n",
      "Epoch 342/400\n",
      "1046/1046 [==============================] - 5s 4ms/step - loss: 0.3137 - accuracy: 0.8645 - auc: 0.9374 - val_loss: 0.5147 - val_accuracy: 0.7864 - val_auc: 0.7109\n",
      "Epoch 343/400\n",
      "1046/1046 [==============================] - 6s 5ms/step - loss: 0.3125 - accuracy: 0.8653 - auc: 0.9380 - val_loss: 0.4898 - val_accuracy: 0.7961 - val_auc: 0.7103\n",
      "Epoch 344/400\n",
      "1046/1046 [==============================] - 6s 6ms/step - loss: 0.3128 - accuracy: 0.8658 - auc: 0.9378 - val_loss: 0.5431 - val_accuracy: 0.7649 - val_auc: 0.7127\n",
      "Epoch 345/400\n",
      "1046/1046 [==============================] - 5s 5ms/step - loss: 0.3122 - accuracy: 0.8655 - auc: 0.9381 - val_loss: 0.5287 - val_accuracy: 0.7730 - val_auc: 0.7105\n",
      "Epoch 346/400\n",
      "1046/1046 [==============================] - 5s 5ms/step - loss: 0.3126 - accuracy: 0.8650 - auc: 0.9380 - val_loss: 0.4737 - val_accuracy: 0.8123 - val_auc: 0.7108\n",
      "Epoch 347/400\n",
      "1046/1046 [==============================] - 5s 5ms/step - loss: 0.3121 - accuracy: 0.8666 - auc: 0.9382 - val_loss: 0.5110 - val_accuracy: 0.7844 - val_auc: 0.7131\n",
      "Epoch 348/400\n",
      "1046/1046 [==============================] - 5s 5ms/step - loss: 0.3120 - accuracy: 0.8655 - auc: 0.9382 - val_loss: 0.4727 - val_accuracy: 0.8114 - val_auc: 0.7183\n",
      "Epoch 349/400\n",
      "1046/1046 [==============================] - 5s 5ms/step - loss: 0.3115 - accuracy: 0.8658 - auc: 0.9383 - val_loss: 0.5471 - val_accuracy: 0.7719 - val_auc: 0.7228\n",
      "Epoch 350/400\n",
      "1046/1046 [==============================] - 6s 6ms/step - loss: 0.3110 - accuracy: 0.8665 - auc: 0.9387 - val_loss: 0.5477 - val_accuracy: 0.7600 - val_auc: 0.6933\n",
      "Epoch 351/400\n",
      "1046/1046 [==============================] - 5s 5ms/step - loss: 0.3109 - accuracy: 0.8669 - auc: 0.9387 - val_loss: 0.5778 - val_accuracy: 0.7466 - val_auc: 0.7147\n",
      "Epoch 352/400\n",
      "1046/1046 [==============================] - 5s 5ms/step - loss: 0.3104 - accuracy: 0.8665 - auc: 0.9389 - val_loss: 0.5857 - val_accuracy: 0.7423 - val_auc: 0.7072\n",
      "Epoch 353/400\n",
      "1046/1046 [==============================] - 5s 5ms/step - loss: 0.3100 - accuracy: 0.8670 - auc: 0.9390 - val_loss: 0.5122 - val_accuracy: 0.7903 - val_auc: 0.7083\n",
      "Epoch 354/400\n",
      "1046/1046 [==============================] - 5s 5ms/step - loss: 0.3102 - accuracy: 0.8661 - auc: 0.9388 - val_loss: 0.5777 - val_accuracy: 0.7552 - val_auc: 0.7148\n",
      "Epoch 355/400\n",
      "1046/1046 [==============================] - 5s 5ms/step - loss: 0.3094 - accuracy: 0.8668 - auc: 0.9392 - val_loss: 0.6099 - val_accuracy: 0.7413 - val_auc: 0.7185\n",
      "Epoch 356/400\n",
      "1046/1046 [==============================] - 6s 5ms/step - loss: 0.3089 - accuracy: 0.8677 - auc: 0.9394 - val_loss: 0.5907 - val_accuracy: 0.7453 - val_auc: 0.7148\n",
      "Epoch 357/400\n",
      "1046/1046 [==============================] - 7s 6ms/step - loss: 0.3083 - accuracy: 0.8681 - auc: 0.9397 - val_loss: 0.5783 - val_accuracy: 0.7535 - val_auc: 0.7167\n",
      "Epoch 358/400\n",
      "1046/1046 [==============================] - 5s 5ms/step - loss: 0.3083 - accuracy: 0.8676 - auc: 0.9397 - val_loss: 0.4908 - val_accuracy: 0.7992 - val_auc: 0.7081\n",
      "Epoch 359/400\n",
      "1046/1046 [==============================] - 5s 5ms/step - loss: 0.3094 - accuracy: 0.8663 - auc: 0.9392 - val_loss: 0.5116 - val_accuracy: 0.7916 - val_auc: 0.7162\n",
      "Epoch 360/400\n",
      "1046/1046 [==============================] - 5s 5ms/step - loss: 0.3074 - accuracy: 0.8681 - auc: 0.9402 - val_loss: 0.6008 - val_accuracy: 0.7372 - val_auc: 0.7105\n",
      "Epoch 361/400\n",
      "1046/1046 [==============================] - 5s 5ms/step - loss: 0.3085 - accuracy: 0.8668 - auc: 0.9395 - val_loss: 0.4948 - val_accuracy: 0.7979 - val_auc: 0.7075\n",
      "Epoch 362/400\n",
      "1046/1046 [==============================] - 6s 5ms/step - loss: 0.3076 - accuracy: 0.8682 - auc: 0.9400 - val_loss: 0.5483 - val_accuracy: 0.7657 - val_auc: 0.7086\n",
      "Epoch 363/400\n",
      "1046/1046 [==============================] - 6s 6ms/step - loss: 0.3069 - accuracy: 0.8682 - auc: 0.9404 - val_loss: 0.5318 - val_accuracy: 0.7798 - val_auc: 0.7060\n",
      "Epoch 364/400\n",
      "1046/1046 [==============================] - 5s 5ms/step - loss: 0.3078 - accuracy: 0.8678 - auc: 0.9399 - val_loss: 0.4913 - val_accuracy: 0.7984 - val_auc: 0.7104\n",
      "Epoch 365/400\n",
      "1046/1046 [==============================] - 5s 5ms/step - loss: 0.3060 - accuracy: 0.8686 - auc: 0.9407 - val_loss: 0.5788 - val_accuracy: 0.7500 - val_auc: 0.7125\n",
      "Epoch 366/400\n",
      "1046/1046 [==============================] - 5s 5ms/step - loss: 0.3070 - accuracy: 0.8683 - auc: 0.9402 - val_loss: 0.5184 - val_accuracy: 0.7858 - val_auc: 0.7159\n",
      "Epoch 367/400\n",
      "1046/1046 [==============================] - 5s 5ms/step - loss: 0.3069 - accuracy: 0.8677 - auc: 0.9402 - val_loss: 0.5363 - val_accuracy: 0.7808 - val_auc: 0.7181\n",
      "Epoch 368/400\n",
      "1046/1046 [==============================] - 5s 5ms/step - loss: 0.3062 - accuracy: 0.8680 - auc: 0.9405 - val_loss: 0.5672 - val_accuracy: 0.7590 - val_auc: 0.7095\n",
      "Epoch 369/400\n",
      "1046/1046 [==============================] - 6s 5ms/step - loss: 0.3059 - accuracy: 0.8682 - auc: 0.9407 - val_loss: 0.5967 - val_accuracy: 0.7460 - val_auc: 0.7052\n",
      "Epoch 370/400\n",
      "1046/1046 [==============================] - 6s 5ms/step - loss: 0.3050 - accuracy: 0.8693 - auc: 0.9411 - val_loss: 0.5505 - val_accuracy: 0.7636 - val_auc: 0.7051\n",
      "Epoch 371/400\n",
      "1046/1046 [==============================] - 5s 5ms/step - loss: 0.3048 - accuracy: 0.8700 - auc: 0.9411 - val_loss: 0.5182 - val_accuracy: 0.7874 - val_auc: 0.7132\n",
      "Epoch 372/400\n",
      "1046/1046 [==============================] - 5s 5ms/step - loss: 0.3060 - accuracy: 0.8687 - auc: 0.9404 - val_loss: 0.5389 - val_accuracy: 0.7760 - val_auc: 0.7168\n",
      "Epoch 373/400\n",
      "1046/1046 [==============================] - 5s 5ms/step - loss: 0.3039 - accuracy: 0.8700 - auc: 0.9415 - val_loss: 0.5273 - val_accuracy: 0.7839 - val_auc: 0.7151\n",
      "Epoch 374/400\n",
      "1046/1046 [==============================] - 5s 5ms/step - loss: 0.3048 - accuracy: 0.8689 - auc: 0.9410 - val_loss: 0.5408 - val_accuracy: 0.7718 - val_auc: 0.7117\n",
      "Epoch 375/400\n",
      "1046/1046 [==============================] - 5s 5ms/step - loss: 0.3037 - accuracy: 0.8692 - auc: 0.9415 - val_loss: 0.5781 - val_accuracy: 0.7544 - val_auc: 0.7109\n",
      "Epoch 376/400\n",
      "1046/1046 [==============================] - 6s 6ms/step - loss: 0.3048 - accuracy: 0.8692 - auc: 0.9410 - val_loss: 0.5572 - val_accuracy: 0.7696 - val_auc: 0.7135\n",
      "Epoch 377/400\n",
      "1046/1046 [==============================] - 5s 5ms/step - loss: 0.3032 - accuracy: 0.8704 - auc: 0.9418 - val_loss: 0.5402 - val_accuracy: 0.7750 - val_auc: 0.7059\n",
      "Epoch 378/400\n",
      "1046/1046 [==============================] - 5s 5ms/step - loss: 0.3028 - accuracy: 0.8702 - auc: 0.9419 - val_loss: 0.5108 - val_accuracy: 0.7946 - val_auc: 0.7059\n",
      "Epoch 379/400\n",
      "1046/1046 [==============================] - 5s 4ms/step - loss: 0.3032 - accuracy: 0.8700 - auc: 0.9416 - val_loss: 0.5297 - val_accuracy: 0.7791 - val_auc: 0.7060\n",
      "Epoch 380/400\n",
      "1046/1046 [==============================] - 6s 5ms/step - loss: 0.3028 - accuracy: 0.8706 - auc: 0.9419 - val_loss: 0.5995 - val_accuracy: 0.7436 - val_auc: 0.7105\n",
      "Epoch 381/400\n",
      "1046/1046 [==============================] - 5s 5ms/step - loss: 0.3025 - accuracy: 0.8704 - auc: 0.9419 - val_loss: 0.5538 - val_accuracy: 0.7671 - val_auc: 0.7013\n",
      "Epoch 382/400\n",
      "1046/1046 [==============================] - 5s 5ms/step - loss: 0.3028 - accuracy: 0.8703 - auc: 0.9418 - val_loss: 0.4999 - val_accuracy: 0.7981 - val_auc: 0.7138\n",
      "Epoch 383/400\n",
      "1046/1046 [==============================] - 5s 5ms/step - loss: 0.3024 - accuracy: 0.8707 - auc: 0.9420 - val_loss: 0.4662 - val_accuracy: 0.8227 - val_auc: 0.7115\n",
      "Epoch 384/400\n",
      "1046/1046 [==============================] - 5s 5ms/step - loss: 0.3016 - accuracy: 0.8705 - auc: 0.9423 - val_loss: 0.5901 - val_accuracy: 0.7485 - val_auc: 0.7100\n",
      "Epoch 385/400\n",
      "1046/1046 [==============================] - 5s 5ms/step - loss: 0.3019 - accuracy: 0.8704 - auc: 0.9422 - val_loss: 0.5566 - val_accuracy: 0.7636 - val_auc: 0.7023\n",
      "Epoch 386/400\n",
      "1046/1046 [==============================] - 5s 5ms/step - loss: 0.3020 - accuracy: 0.8704 - auc: 0.9422 - val_loss: 0.5953 - val_accuracy: 0.7431 - val_auc: 0.7054\n",
      "Epoch 387/400\n",
      "1046/1046 [==============================] - 5s 5ms/step - loss: 0.3012 - accuracy: 0.8717 - auc: 0.9425 - val_loss: 0.4896 - val_accuracy: 0.8082 - val_auc: 0.7149\n",
      "Epoch 388/400\n",
      "1046/1046 [==============================] - 5s 5ms/step - loss: 0.3002 - accuracy: 0.8723 - auc: 0.9429 - val_loss: 0.5687 - val_accuracy: 0.7615 - val_auc: 0.7072\n",
      "Epoch 389/400\n",
      "1046/1046 [==============================] - 5s 5ms/step - loss: 0.3001 - accuracy: 0.8722 - auc: 0.9430 - val_loss: 0.4877 - val_accuracy: 0.8057 - val_auc: 0.7022\n",
      "Epoch 390/400\n",
      "1046/1046 [==============================] - 5s 5ms/step - loss: 0.3001 - accuracy: 0.8721 - auc: 0.9430 - val_loss: 0.5453 - val_accuracy: 0.7730 - val_auc: 0.7072\n",
      "Epoch 391/400\n",
      "1046/1046 [==============================] - 5s 5ms/step - loss: 0.3004 - accuracy: 0.8724 - auc: 0.9427 - val_loss: 0.5737 - val_accuracy: 0.7617 - val_auc: 0.7085\n",
      "Epoch 392/400\n",
      "1046/1046 [==============================] - 5s 5ms/step - loss: 0.2993 - accuracy: 0.8728 - auc: 0.9433 - val_loss: 0.4626 - val_accuracy: 0.8254 - val_auc: 0.7150\n",
      "Epoch 393/400\n",
      "1046/1046 [==============================] - 4s 4ms/step - loss: 0.3000 - accuracy: 0.8719 - auc: 0.9429 - val_loss: 0.6104 - val_accuracy: 0.7379 - val_auc: 0.7109\n",
      "Epoch 394/400\n",
      "1046/1046 [==============================] - 5s 5ms/step - loss: 0.2992 - accuracy: 0.8725 - auc: 0.9432 - val_loss: 0.5071 - val_accuracy: 0.8015 - val_auc: 0.7123\n",
      "Epoch 395/400\n",
      "1046/1046 [==============================] - 4s 4ms/step - loss: 0.2991 - accuracy: 0.8722 - auc: 0.9432 - val_loss: 0.4888 - val_accuracy: 0.8089 - val_auc: 0.7079\n",
      "Epoch 396/400\n",
      "1046/1046 [==============================] - 5s 5ms/step - loss: 0.2981 - accuracy: 0.8724 - auc: 0.9437 - val_loss: 0.5205 - val_accuracy: 0.7908 - val_auc: 0.7035\n",
      "Epoch 397/400\n",
      "1046/1046 [==============================] - 5s 5ms/step - loss: 0.2987 - accuracy: 0.8719 - auc: 0.9433 - val_loss: 0.6045 - val_accuracy: 0.7418 - val_auc: 0.7014\n",
      "Epoch 398/400\n",
      "1046/1046 [==============================] - 5s 5ms/step - loss: 0.2979 - accuracy: 0.8732 - auc: 0.9438 - val_loss: 0.4881 - val_accuracy: 0.8152 - val_auc: 0.7142\n",
      "Epoch 399/400\n",
      "1046/1046 [==============================] - 5s 5ms/step - loss: 0.2979 - accuracy: 0.8729 - auc: 0.9437 - val_loss: 0.5853 - val_accuracy: 0.7511 - val_auc: 0.7058\n",
      "Epoch 400/400\n",
      "1046/1046 [==============================] - 4s 4ms/step - loss: 0.2975 - accuracy: 0.8733 - auc: 0.9439 - val_loss: 0.5387 - val_accuracy: 0.7784 - val_auc: 0.7033\n"
     ]
    }
   ],
   "source": [
    "epochs = 400 \n",
    "batch_size = 128 \n",
    "history = model.fit(X_train, y_train, validation_data=(X_test, y_test), epochs=epochs, batch_size=batch_size)"
   ]
  },
  {
   "cell_type": "markdown",
   "id": "7dc3143f",
   "metadata": {
    "papermill": {
     "duration": 1.880847,
     "end_time": "2023-10-05T18:47:01.710134",
     "exception": false,
     "start_time": "2023-10-05T18:46:59.829287",
     "status": "completed"
    },
    "tags": []
   },
   "source": [
    "## Saving the Model"
   ]
  },
  {
   "cell_type": "code",
   "execution_count": 44,
   "id": "d4b7420e",
   "metadata": {
    "execution": {
     "iopub.execute_input": "2023-10-05T18:47:05.462301Z",
     "iopub.status.busy": "2023-10-05T18:47:05.461954Z",
     "iopub.status.idle": "2023-10-05T18:47:05.502381Z",
     "shell.execute_reply": "2023-10-05T18:47:05.501375Z"
    },
    "papermill": {
     "duration": 1.92893,
     "end_time": "2023-10-05T18:47:05.504655",
     "exception": false,
     "start_time": "2023-10-05T18:47:03.575725",
     "status": "completed"
    },
    "tags": []
   },
   "outputs": [],
   "source": [
    "model.save('patient_model.h5')"
   ]
  },
  {
   "cell_type": "code",
   "execution_count": null,
   "id": "23be231f",
   "metadata": {
    "papermill": {
     "duration": 1.935357,
     "end_time": "2023-10-05T18:47:09.270567",
     "exception": false,
     "start_time": "2023-10-05T18:47:07.335210",
     "status": "completed"
    },
    "tags": []
   },
   "outputs": [],
   "source": []
  },
  {
   "cell_type": "code",
   "execution_count": null,
   "id": "95a4de81",
   "metadata": {
    "papermill": {
     "duration": 1.866729,
     "end_time": "2023-10-05T18:47:13.058373",
     "exception": false,
     "start_time": "2023-10-05T18:47:11.191644",
     "status": "completed"
    },
    "tags": []
   },
   "outputs": [],
   "source": []
  },
  {
   "cell_type": "code",
   "execution_count": null,
   "id": "51b4a305",
   "metadata": {
    "papermill": {
     "duration": 1.871763,
     "end_time": "2023-10-05T18:47:17.531274",
     "exception": false,
     "start_time": "2023-10-05T18:47:15.659511",
     "status": "completed"
    },
    "tags": []
   },
   "outputs": [],
   "source": []
  },
  {
   "cell_type": "code",
   "execution_count": null,
   "id": "500f134c",
   "metadata": {
    "papermill": {
     "duration": 1.869689,
     "end_time": "2023-10-05T18:47:21.358415",
     "exception": false,
     "start_time": "2023-10-05T18:47:19.488726",
     "status": "completed"
    },
    "tags": []
   },
   "outputs": [],
   "source": []
  },
  {
   "cell_type": "code",
   "execution_count": null,
   "id": "cfec96d3",
   "metadata": {
    "papermill": {
     "duration": 1.91378,
     "end_time": "2023-10-05T18:47:25.205996",
     "exception": false,
     "start_time": "2023-10-05T18:47:23.292216",
     "status": "completed"
    },
    "tags": []
   },
   "outputs": [],
   "source": []
  },
  {
   "cell_type": "code",
   "execution_count": null,
   "id": "3b92827e",
   "metadata": {
    "papermill": {
     "duration": 1.994272,
     "end_time": "2023-10-05T18:47:29.080712",
     "exception": false,
     "start_time": "2023-10-05T18:47:27.086440",
     "status": "completed"
    },
    "tags": []
   },
   "outputs": [],
   "source": []
  }
 ],
 "metadata": {
  "kernelspec": {
   "display_name": "Python 3",
   "language": "python",
   "name": "python3"
  },
  "language_info": {
   "codemirror_mode": {
    "name": "ipython",
    "version": 3
   },
   "file_extension": ".py",
   "mimetype": "text/x-python",
   "name": "python",
   "nbconvert_exporter": "python",
   "pygments_lexer": "ipython3",
   "version": "3.10.12"
  },
  "papermill": {
   "default_parameters": {},
   "duration": 3238.989729,
   "end_time": "2023-10-05T18:47:34.875315",
   "environment_variables": {},
   "exception": null,
   "input_path": "__notebook__.ipynb",
   "output_path": "__notebook__.ipynb",
   "parameters": {},
   "start_time": "2023-10-05T17:53:35.885586",
   "version": "2.4.0"
  }
 },
 "nbformat": 4,
 "nbformat_minor": 5
}
